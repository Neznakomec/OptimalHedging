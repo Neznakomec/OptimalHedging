{
 "cells": [
  {
   "cell_type": "code",
   "execution_count": 17,
   "metadata": {},
   "outputs": [],
   "source": [
    "import pandas as pd\n",
    "import numpy as np\n",
    "import pickle"
   ]
  },
  {
   "cell_type": "code",
   "execution_count": 22,
   "metadata": {},
   "outputs": [],
   "source": [
    "TRADES_DIR = '../TRADES/USD_TOM_trades_Micex_02_10.feather'\n",
    "LOB_DIR = '../Data_lob/'\n",
    "\n",
    "GOOD_LOBS_OUTPUT = '../0_CommonFiles/goodlobs.txt'\n",
    "RANDOM_MOMENTS_ALL_OUTPUT = '../0_CommonFiles/random_moments_all.pkl'\n",
    "RANDOM_MOMENTS_ALIGNED_OUTPUT = '../0_CommonFiles/random_moments_aligned_to_1000_2000.pkl'\n",
    "\n",
    "TRADE_SIZE_MIN_INCLUSIVE = 1000\n",
    "TRADE_SIZE_MAX_INCLUSIVE = 2000"
   ]
  },
  {
   "cell_type": "markdown",
   "metadata": {},
   "source": [
    "# Part 1. Select big trades"
   ]
  },
  {
   "cell_type": "code",
   "execution_count": 4,
   "metadata": {},
   "outputs": [],
   "source": [
    "trades = pd.read_feather(TRADES_DIR)"
   ]
  },
  {
   "cell_type": "code",
   "execution_count": 5,
   "metadata": {},
   "outputs": [],
   "source": [
    "trade_temp = trades.groupby(['Time', 'AGGRESSOR_SIDE'], as_index=False).sum()"
   ]
  },
  {
   "cell_type": "code",
   "execution_count": 6,
   "metadata": {},
   "outputs": [],
   "source": [
    "volume_weighted_trade_price = trade_temp['TRADE_VALUE'] / trade_temp['SIZE'] / 1000.0"
   ]
  },
  {
   "cell_type": "code",
   "execution_count": 7,
   "metadata": {},
   "outputs": [],
   "source": [
    "trade_temp['PRICE'] = volume_weighted_trade_price\n",
    "# round to 0.01 of cent\n",
    "trades['PRICE'] = trades['PRICE'].round(4)"
   ]
  },
  {
   "cell_type": "code",
   "execution_count": 8,
   "metadata": {},
   "outputs": [],
   "source": [
    "trades = trade_temp"
   ]
  },
  {
   "cell_type": "code",
   "execution_count": 9,
   "metadata": {},
   "outputs": [],
   "source": [
    "del trade_temp"
   ]
  },
  {
   "cell_type": "code",
   "execution_count": 11,
   "metadata": {},
   "outputs": [],
   "source": [
    "#look only on big trades\n",
    "trades = trades[(trades.SIZE >= TRADE_SIZE_MIN_INCLUSIVE) & (trades.SIZE <= TRADE_SIZE_MAX_INCLUSIVE)]"
   ]
  },
  {
   "cell_type": "code",
   "execution_count": 15,
   "metadata": {},
   "outputs": [],
   "source": [
    "with open(RANDOM_MOMENTS_ALL_OUTPUT, 'rb') as file:\n",
    "    moments = pickle.load(file)"
   ]
  },
  {
   "cell_type": "code",
   "execution_count": 18,
   "metadata": {},
   "outputs": [],
   "source": [
    "look_back_time = np.timedelta64(300, 's')"
   ]
  },
  {
   "cell_type": "markdown",
   "metadata": {},
   "source": [
    "# Part 2. Align random moments to big trades Timestamp"
   ]
  },
  {
   "cell_type": "code",
   "execution_count": 26,
   "metadata": {},
   "outputs": [],
   "source": [
    "moments2 = []\n",
    "for moment in moments:\n",
    "    index1 = trades.Time.searchsorted(moment - look_back_time, side='left')\n",
    "    index2 = trades.Time.searchsorted(moment, side='right')\n",
    "\n",
    "    \n",
    "    if index2 - index1 > 0:\n",
    "        trades_before = trades.iloc[index1 : index2]\n",
    "        # get the big trade, that nearest to 'moment'\n",
    "        moments2.append(trades_before.Time.iloc[-1])\n",
    "    else:\n",
    "        trades_before = trades.iloc[index1 : index2]\n",
    "        if len(trades_before) > 0:\n",
    "            print(trades_before)\n",
    "            raise ValueError('error')\n",
    "            \n",
    "with open(RANDOM_MOMENTS_ALIGNED_OUTPUT, 'wb') as file:\n",
    "    pickle.dump(moments2, file)"
   ]
  },
  {
   "cell_type": "code",
   "execution_count": 27,
   "metadata": {},
   "outputs": [
    {
     "data": {
      "text/plain": [
       "2712"
      ]
     },
     "execution_count": 27,
     "metadata": {},
     "output_type": "execute_result"
    }
   ],
   "source": [
    "len(moments2)"
   ]
  },
  {
   "cell_type": "code",
   "execution_count": 25,
   "metadata": {},
   "outputs": [
    {
     "data": {
      "text/plain": [
       "5280"
      ]
     },
     "execution_count": 25,
     "metadata": {},
     "output_type": "execute_result"
    }
   ],
   "source": [
    "len(moments)"
   ]
  }
 ],
 "metadata": {
  "kernelspec": {
   "display_name": "Python 3",
   "language": "python",
   "name": "python3"
  },
  "language_info": {
   "codemirror_mode": {
    "name": "ipython",
    "version": 3
   },
   "file_extension": ".py",
   "mimetype": "text/x-python",
   "name": "python",
   "nbconvert_exporter": "python",
   "pygments_lexer": "ipython3",
   "version": "3.8.5"
  }
 },
 "nbformat": 4,
 "nbformat_minor": 4
}
