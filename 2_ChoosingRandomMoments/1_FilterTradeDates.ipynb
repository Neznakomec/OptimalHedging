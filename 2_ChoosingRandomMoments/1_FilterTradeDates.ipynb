{
 "cells": [
  {
   "cell_type": "code",
   "execution_count": 6,
   "metadata": {},
   "outputs": [],
   "source": [
    "import pandas as pd\n",
    "import os"
   ]
  },
  {
   "cell_type": "code",
   "execution_count": 9,
   "metadata": {},
   "outputs": [],
   "source": [
    "TRADES_DIR = '../TRADES/USD_TOM_trades_Micex_02_10.feather'\n",
    "LOB_DIR = '../Data_lob/'\n",
    "\n",
    "GOOD_LOBS_OUTPUT = '../0_CommonFiles/goodlobs.txt'"
   ]
  },
  {
   "cell_type": "code",
   "execution_count": 10,
   "metadata": {},
   "outputs": [],
   "source": [
    "with open(GOOD_LOBS_OUTPUT, 'w') as file:\n",
    "    for filename in os.listdir(LOB_DIR):\n",
    "        # drop too short LOBs\n",
    "        df = pd.read_feather(LOB_DIR + filename)\n",
    "        if len(df) < 297_000:\n",
    "            del df\n",
    "            continue\n",
    "        del df\n",
    "\n",
    "        file.write(filename)\n",
    "        file.write('\\n')\n",
    "        file.flush()"
   ]
  },
  {
   "cell_type": "code",
   "execution_count": 11,
   "metadata": {},
   "outputs": [],
   "source": [
    "with open(GOOD_LOBS_OUTPUT, 'r') as file:\n",
    "    filenames = file.readlines()\n",
    "    filenames = [line.rstrip() for line in filenames]"
   ]
  },
  {
   "cell_type": "code",
   "execution_count": 12,
   "metadata": {},
   "outputs": [
    {
     "data": {
      "text/plain": [
       "176"
      ]
     },
     "execution_count": 12,
     "metadata": {},
     "output_type": "execute_result"
    }
   ],
   "source": [
    "len(filenames)"
   ]
  }
 ],
 "metadata": {
  "kernelspec": {
   "display_name": "Python 3",
   "language": "python",
   "name": "python3"
  },
  "language_info": {
   "codemirror_mode": {
    "name": "ipython",
    "version": 3
   },
   "file_extension": ".py",
   "mimetype": "text/x-python",
   "name": "python",
   "nbconvert_exporter": "python",
   "pygments_lexer": "ipython3",
   "version": "3.8.5"
  }
 },
 "nbformat": 4,
 "nbformat_minor": 4
}
