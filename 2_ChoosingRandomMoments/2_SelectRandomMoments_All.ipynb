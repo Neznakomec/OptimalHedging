{
 "cells": [
  {
   "cell_type": "code",
   "execution_count": 10,
   "metadata": {},
   "outputs": [],
   "source": [
    "import pandas as pd\n",
    "import numpy as np\n",
    "import pickle"
   ]
  },
  {
   "cell_type": "code",
   "execution_count": 2,
   "metadata": {},
   "outputs": [],
   "source": [
    "TRADES_DIR = '../TRADES/USD_TOM_trades_Micex_02_10.feather'\n",
    "LOB_DIR = '../Data_lob/'\n",
    "\n",
    "GOOD_LOBS_OUTPUT = '../0_CommonFiles/goodlobs.txt'\n",
    "RANDOM_MOMENTS_ALL_OUTPUT = '../0_CommonFiles/random_moments_all.pkl'"
   ]
  },
  {
   "cell_type": "code",
   "execution_count": 3,
   "metadata": {},
   "outputs": [],
   "source": [
    "with open(GOOD_LOBS_OUTPUT, 'r') as file:\n",
    "    filenames = file.readlines()\n",
    "    filenames = [line.rstrip() for line in filenames]"
   ]
  },
  {
   "cell_type": "code",
   "execution_count": 4,
   "metadata": {},
   "outputs": [
    {
     "data": {
      "text/plain": [
       "176"
      ]
     },
     "execution_count": 4,
     "metadata": {},
     "output_type": "execute_result"
    }
   ],
   "source": [
    "len(filenames)"
   ]
  },
  {
   "cell_type": "code",
   "execution_count": 11,
   "metadata": {},
   "outputs": [],
   "source": [
    "moments = []\n",
    "np.random.seed(200)\n",
    "\n",
    "year = 2021\n",
    "for filename in filenames:\n",
    "    filename = filename.split('_')[1].split('.')[0]\n",
    "    \n",
    "    month = filename[0:2]\n",
    "    day = filename[2:4]\n",
    "    \n",
    "    ten_random_hours = np.random.choice(range(10, 24), size=10, replace=False)\n",
    "    \n",
    "    for hour in ten_random_hours:\n",
    "        moment = pd._libs.tslibs.timestamps.Timestamp(f'{year}-{month}-{day} {hour}:12:34.123456')\n",
    "        moments.append(moment)\n",
    "        \n",
    "        moment = pd._libs.tslibs.timestamps.Timestamp(f'{year}-{month}-{day} {hour}:23:45.123456')\n",
    "        moments.append(moment)\n",
    "        \n",
    "        moment = pd._libs.tslibs.timestamps.Timestamp(f'{year}-{month}-{day} {hour}:34:56.123456')\n",
    "        moments.append(moment)\n",
    "        \n",
    "with open(RANDOM_MOMENTS_ALL_OUTPUT, 'wb') as file:\n",
    "    pickle.dump(moments, file)"
   ]
  },
  {
   "cell_type": "code",
   "execution_count": 15,
   "metadata": {},
   "outputs": [],
   "source": [
    "with open(RANDOM_MOMENTS_ALL_OUTPUT, 'rb') as file:\n",
    "    moments = pickle.load(file)"
   ]
  },
  {
   "cell_type": "code",
   "execution_count": 16,
   "metadata": {},
   "outputs": [
    {
     "data": {
      "text/plain": [
       "5280"
      ]
     },
     "execution_count": 16,
     "metadata": {},
     "output_type": "execute_result"
    }
   ],
   "source": [
    "len(moments)"
   ]
  }
 ],
 "metadata": {
  "kernelspec": {
   "display_name": "Python 3",
   "language": "python",
   "name": "python3"
  },
  "language_info": {
   "codemirror_mode": {
    "name": "ipython",
    "version": 3
   },
   "file_extension": ".py",
   "mimetype": "text/x-python",
   "name": "python",
   "nbconvert_exporter": "python",
   "pygments_lexer": "ipython3",
   "version": "3.8.5"
  }
 },
 "nbformat": 4,
 "nbformat_minor": 4
}
