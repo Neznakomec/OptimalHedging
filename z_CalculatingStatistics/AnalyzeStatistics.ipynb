{
 "cells": [
  {
   "cell_type": "code",
   "execution_count": 971,
   "metadata": {},
   "outputs": [],
   "source": [
    "import pandas as pd\n",
    "import numpy as np\n",
    "import scipy as sc\n",
    "import matplotlib.pyplot as plt\n",
    "# from pathlib import Path\n",
    "# import datetime\n",
    "import sqlite3\n",
    "# import os\n",
    "# import pickle\n",
    "# import gc\n",
    "# from IPython.display import clear_output\n",
    "\n",
    "# from functools import lru_cache\n",
    "\n",
    "from statsmodels.stats.weightstats import _tconfint_generic"
   ]
  },
  {
   "cell_type": "code",
   "execution_count": 972,
   "metadata": {},
   "outputs": [],
   "source": [
    "#Obtain a cursor object\n",
    "\n",
    "def attach(cursorObject, dbfile, dbname):\n",
    "    # Attach a database file\n",
    "    attachDatabaseSQL = f\"ATTACH DATABASE ? AS {dbname}\"\n",
    "    dbSpec  = (dbfile,)\n",
    "    cursorObject.execute(attachDatabaseSQL,dbSpec)"
   ]
  },
  {
   "cell_type": "code",
   "execution_count": 973,
   "metadata": {},
   "outputs": [],
   "source": [
    "df_data = {}\n",
    "cols = ['twap_mean_pnl', 'signature_mean_pnl', 'lots_count', 'data_points', 'twap_type']"
   ]
  },
  {
   "cell_type": "markdown",
   "metadata": {},
   "source": [
    "# External Experiment 1"
   ]
  },
  {
   "cell_type": "markdown",
   "metadata": {},
   "source": [
    "![Hedging 1 million buy/sell toxic orders](pics/hedge1m.jfif \"1 million\")"
   ]
  },
  {
   "cell_type": "markdown",
   "metadata": {},
   "source": [
    "buy 1 million:"
   ]
  },
  {
   "cell_type": "code",
   "execution_count": 974,
   "metadata": {},
   "outputs": [
    {
     "name": "stdout",
     "output_type": "stream",
     "text": [
      "95% confidence interval: (-3052.4260314134453, -2392.593968586555)\n"
     ]
    }
   ],
   "source": [
    "n = 4138\n",
    "print(\"95% confidence interval:\", _tconfint_generic(mean = -2722.51, \n",
    "                                                    std_mean = 10824.89 / np.sqrt(n),\n",
    "                                                    dof = n-1,\n",
    "                                                    alpha=0.05,\n",
    "                                                    alternative = 'two-sided'))"
   ]
  },
  {
   "cell_type": "code",
   "execution_count": 975,
   "metadata": {},
   "outputs": [
    {
     "name": "stdout",
     "output_type": "stream",
     "text": [
      "95% confidence interval: (-1642.7392277000552, -1238.3607722999448)\n"
     ]
    }
   ],
   "source": [
    "n = 4138\n",
    "print(\"95% confidence interval:\", _tconfint_generic(mean = -1440.55, \n",
    "                                                    std_mean = 6634.04 / np.sqrt(n),\n",
    "                                                    dof = n-1,\n",
    "                                                    alpha=0.05,\n",
    "                                                    alternative = 'two-sided'))"
   ]
  },
  {
   "cell_type": "markdown",
   "metadata": {},
   "source": [
    "sell 1 million:"
   ]
  },
  {
   "cell_type": "code",
   "execution_count": 976,
   "metadata": {},
   "outputs": [
    {
     "name": "stdout",
     "output_type": "stream",
     "text": [
      "95% confidence interval: (-2181.180178277501, -1474.3398217224992)\n"
     ]
    }
   ],
   "source": [
    "n = 3348\n",
    "print(\"95% confidence interval:\", _tconfint_generic(mean = -1827.76, \n",
    "                                                    std_mean = 10429.87 / np.sqrt(n),\n",
    "                                                    dof = n-1,\n",
    "                                                    alpha=0.05,\n",
    "                                                    alternative = 'two-sided'))"
   ]
  },
  {
   "cell_type": "code",
   "execution_count": 977,
   "metadata": {},
   "outputs": [
    {
     "name": "stdout",
     "output_type": "stream",
     "text": [
      "95% confidence interval: (-1428.0682690727365, -945.9517309272635)\n"
     ]
    }
   ],
   "source": [
    "from statsmodels.stats.weightstats import _tconfint_generic\n",
    "\n",
    "n = 3348\n",
    "print(\"95% confidence interval:\", _tconfint_generic(mean = -1187.01, \n",
    "                                                    std_mean = 7113.93 / np.sqrt(n),\n",
    "                                                    dof = n-1,\n",
    "                                                    alpha=0.05,\n",
    "                                                    alternative = 'two-sided'))"
   ]
  },
  {
   "cell_type": "markdown",
   "metadata": {},
   "source": [
    "# My Experiment 1"
   ]
  },
  {
   "cell_type": "code",
   "execution_count": 978,
   "metadata": {},
   "outputs": [],
   "source": [
    "MID_PATH = '../0_CommonFiles/mid.db3'\n",
    "TWAP_PATH = '../3_Experiment1/twap.db3'\n",
    "SIGNATURE_PATH = '../3_Experiment1/signature.db3'"
   ]
  },
  {
   "cell_type": "code",
   "execution_count": 979,
   "metadata": {},
   "outputs": [],
   "source": [
    "all_sql = sqlite3.connect('')"
   ]
  },
  {
   "cell_type": "code",
   "execution_count": 980,
   "metadata": {},
   "outputs": [],
   "source": [
    "cursorObject = all_sql.cursor()"
   ]
  },
  {
   "cell_type": "code",
   "execution_count": 981,
   "metadata": {},
   "outputs": [],
   "source": [
    "attach(cursorObject, MID_PATH, 'mid')\n",
    "attach(cursorObject, TWAP_PATH, 'twap')\n",
    "attach(cursorObject, SIGNATURE_PATH, 'sign')"
   ]
  },
  {
   "cell_type": "markdown",
   "metadata": {},
   "source": [
    "Analysing TWAP/Signature algorithms for buy hedging:"
   ]
  },
  {
   "cell_type": "code",
   "execution_count": 982,
   "metadata": {},
   "outputs": [
    {
     "data": {
      "text/html": [
       "<div>\n",
       "<style scoped>\n",
       "    .dataframe tbody tr th:only-of-type {\n",
       "        vertical-align: middle;\n",
       "    }\n",
       "\n",
       "    .dataframe tbody tr th {\n",
       "        vertical-align: top;\n",
       "    }\n",
       "\n",
       "    .dataframe thead th {\n",
       "        text-align: right;\n",
       "    }\n",
       "</style>\n",
       "<table border=\"1\" class=\"dataframe\">\n",
       "  <thead>\n",
       "    <tr style=\"text-align: right;\">\n",
       "      <th></th>\n",
       "      <th>MOMENT</th>\n",
       "      <th>twap_pnl</th>\n",
       "      <th>signature_pnl</th>\n",
       "    </tr>\n",
       "  </thead>\n",
       "  <tbody>\n",
       "    <tr>\n",
       "      <th>0</th>\n",
       "      <td>2021-02-01 18:10:15.611222</td>\n",
       "      <td>-10.3800</td>\n",
       "      <td>-3.50</td>\n",
       "    </tr>\n",
       "    <tr>\n",
       "      <th>1</th>\n",
       "      <td>2021-02-01 22:20:17.074682</td>\n",
       "      <td>2.5000</td>\n",
       "      <td>-5.00</td>\n",
       "    </tr>\n",
       "    <tr>\n",
       "      <th>2</th>\n",
       "      <td>2021-02-01 23:31:08.196003</td>\n",
       "      <td>-16.4950</td>\n",
       "      <td>-14.50</td>\n",
       "    </tr>\n",
       "    <tr>\n",
       "      <th>3</th>\n",
       "      <td>2021-02-01 13:31:09.506345</td>\n",
       "      <td>3.5775</td>\n",
       "      <td>-1.50</td>\n",
       "    </tr>\n",
       "    <tr>\n",
       "      <th>4</th>\n",
       "      <td>2021-02-01 11:23:02.279950</td>\n",
       "      <td>0.3075</td>\n",
       "      <td>21.00</td>\n",
       "    </tr>\n",
       "    <tr>\n",
       "      <th>...</th>\n",
       "      <td>...</td>\n",
       "      <td>...</td>\n",
       "      <td>...</td>\n",
       "    </tr>\n",
       "    <tr>\n",
       "      <th>1682</th>\n",
       "      <td>2021-10-06 13:23:34.159810</td>\n",
       "      <td>-2.6250</td>\n",
       "      <td>-3.75</td>\n",
       "    </tr>\n",
       "    <tr>\n",
       "      <th>1683</th>\n",
       "      <td>2021-10-06 12:31:54.951635</td>\n",
       "      <td>-6.6250</td>\n",
       "      <td>-1.25</td>\n",
       "    </tr>\n",
       "    <tr>\n",
       "      <th>1684</th>\n",
       "      <td>2021-10-06 16:22:34.587892</td>\n",
       "      <td>-5.3025</td>\n",
       "      <td>-8.75</td>\n",
       "    </tr>\n",
       "    <tr>\n",
       "      <th>1685</th>\n",
       "      <td>2021-10-06 15:22:44.063087</td>\n",
       "      <td>14.2400</td>\n",
       "      <td>21.00</td>\n",
       "    </tr>\n",
       "    <tr>\n",
       "      <th>1686</th>\n",
       "      <td>2021-10-06 15:34:35.640399</td>\n",
       "      <td>5.2425</td>\n",
       "      <td>4.25</td>\n",
       "    </tr>\n",
       "  </tbody>\n",
       "</table>\n",
       "<p>1687 rows × 3 columns</p>\n",
       "</div>"
      ],
      "text/plain": [
       "                          MOMENT  twap_pnl  signature_pnl\n",
       "0     2021-02-01 18:10:15.611222  -10.3800          -3.50\n",
       "1     2021-02-01 22:20:17.074682    2.5000          -5.00\n",
       "2     2021-02-01 23:31:08.196003  -16.4950         -14.50\n",
       "3     2021-02-01 13:31:09.506345    3.5775          -1.50\n",
       "4     2021-02-01 11:23:02.279950    0.3075          21.00\n",
       "...                          ...       ...            ...\n",
       "1682  2021-10-06 13:23:34.159810   -2.6250          -3.75\n",
       "1683  2021-10-06 12:31:54.951635   -6.6250          -1.25\n",
       "1684  2021-10-06 16:22:34.587892   -5.3025          -8.75\n",
       "1685  2021-10-06 15:22:44.063087   14.2400          21.00\n",
       "1686  2021-10-06 15:34:35.640399    5.2425           4.25\n",
       "\n",
       "[1687 rows x 3 columns]"
      ]
     },
     "execution_count": 982,
     "metadata": {},
     "output_type": "execute_result"
    }
   ],
   "source": [
    "df1 = pd.read_sql('''SELECT m.MOMENT, m.PRICE * t.QUANTITY - t.SUM as twap_pnl, m.PRICE * t.QUANTITY - s.SUM as signature_pnl FROM sign.RESULT as s\n",
    "                INNER JOIN twap.RESULT as t\n",
    "                on s.MOMENT = t.MOMENT AND s.SIDE = t.SIDE\n",
    "                INNER JOIN mid.MIDPRICE as m\n",
    "                on m.MOMENT = s.MOMENT\n",
    "                AND s.QUANTITY > 0 AND t.QUANTITY > 0 AND m.PRICE > 0\n",
    "                AND s.SIDE = 'B'\n",
    "            ''', all_sql)\n",
    "\n",
    "df1"
   ]
  },
  {
   "cell_type": "code",
   "execution_count": 983,
   "metadata": {},
   "outputs": [
    {
     "data": {
      "text/html": [
       "<div>\n",
       "<style scoped>\n",
       "    .dataframe tbody tr th:only-of-type {\n",
       "        vertical-align: middle;\n",
       "    }\n",
       "\n",
       "    .dataframe tbody tr th {\n",
       "        vertical-align: top;\n",
       "    }\n",
       "\n",
       "    .dataframe thead th {\n",
       "        text-align: right;\n",
       "    }\n",
       "</style>\n",
       "<table border=\"1\" class=\"dataframe\">\n",
       "  <thead>\n",
       "    <tr style=\"text-align: right;\">\n",
       "      <th></th>\n",
       "      <th>twap_pnl</th>\n",
       "      <th>signature_pnl</th>\n",
       "    </tr>\n",
       "  </thead>\n",
       "  <tbody>\n",
       "    <tr>\n",
       "      <th>sum</th>\n",
       "      <td>-7475.850000</td>\n",
       "      <td>-6423.500000</td>\n",
       "    </tr>\n",
       "    <tr>\n",
       "      <th>min</th>\n",
       "      <td>-49.035000</td>\n",
       "      <td>-56.750000</td>\n",
       "    </tr>\n",
       "    <tr>\n",
       "      <th>max</th>\n",
       "      <td>44.465000</td>\n",
       "      <td>55.500000</td>\n",
       "    </tr>\n",
       "    <tr>\n",
       "      <th>mean</th>\n",
       "      <td>-4.431446</td>\n",
       "      <td>-3.807647</td>\n",
       "    </tr>\n",
       "    <tr>\n",
       "      <th>std</th>\n",
       "      <td>6.838873</td>\n",
       "      <td>8.144808</td>\n",
       "    </tr>\n",
       "  </tbody>\n",
       "</table>\n",
       "</div>"
      ],
      "text/plain": [
       "         twap_pnl  signature_pnl\n",
       "sum  -7475.850000   -6423.500000\n",
       "min    -49.035000     -56.750000\n",
       "max     44.465000      55.500000\n",
       "mean    -4.431446      -3.807647\n",
       "std      6.838873       8.144808"
      ]
     },
     "execution_count": 983,
     "metadata": {},
     "output_type": "execute_result"
    }
   ],
   "source": [
    "df1.agg(['sum', 'min', 'max', 'mean', 'std'])[['twap_pnl', 'signature_pnl']]"
   ]
  },
  {
   "cell_type": "code",
   "execution_count": 984,
   "metadata": {},
   "outputs": [
    {
     "name": "stdout",
     "output_type": "stream",
     "text": [
      "95% confidence interval: (-4758.024403060915, -4104.868305890065)\n"
     ]
    }
   ],
   "source": [
    "twap_profits = np.array(1000 * df1['twap_pnl'])\n",
    "\n",
    "from statsmodels.stats.weightstats import DescrStatsW \n",
    "print(\"95% confidence interval:\", DescrStatsW(twap_profits).tconfint_mean())"
   ]
  },
  {
   "cell_type": "code",
   "execution_count": 985,
   "metadata": {},
   "outputs": [
    {
     "name": "stdout",
     "output_type": "stream",
     "text": [
      "95% confidence interval: (-4196.587334683564, -3418.706085589091)\n"
     ]
    }
   ],
   "source": [
    "sign_profits = np.array(1000 * df1['signature_pnl'])\n",
    "\n",
    "from statsmodels.stats.weightstats import DescrStatsW \n",
    "print(\"95% confidence interval:\", DescrStatsW(sign_profits).tconfint_mean())"
   ]
  },
  {
   "cell_type": "markdown",
   "metadata": {},
   "source": [
    "Analysing TWAP/Signature algorithms for sell hedging:"
   ]
  },
  {
   "cell_type": "code",
   "execution_count": 986,
   "metadata": {},
   "outputs": [
    {
     "data": {
      "text/html": [
       "<div>\n",
       "<style scoped>\n",
       "    .dataframe tbody tr th:only-of-type {\n",
       "        vertical-align: middle;\n",
       "    }\n",
       "\n",
       "    .dataframe tbody tr th {\n",
       "        vertical-align: top;\n",
       "    }\n",
       "\n",
       "    .dataframe thead th {\n",
       "        text-align: right;\n",
       "    }\n",
       "</style>\n",
       "<table border=\"1\" class=\"dataframe\">\n",
       "  <thead>\n",
       "    <tr style=\"text-align: right;\">\n",
       "      <th></th>\n",
       "      <th>MOMENT</th>\n",
       "      <th>twap_pnl</th>\n",
       "      <th>signature_pnl</th>\n",
       "    </tr>\n",
       "  </thead>\n",
       "  <tbody>\n",
       "    <tr>\n",
       "      <th>0</th>\n",
       "      <td>2021-02-01 18:10:15.611222</td>\n",
       "      <td>1.6575</td>\n",
       "      <td>-10.50</td>\n",
       "    </tr>\n",
       "    <tr>\n",
       "      <th>1</th>\n",
       "      <td>2021-02-01 22:20:17.074682</td>\n",
       "      <td>-11.1350</td>\n",
       "      <td>-6.75</td>\n",
       "    </tr>\n",
       "    <tr>\n",
       "      <th>2</th>\n",
       "      <td>2021-02-01 23:31:08.196003</td>\n",
       "      <td>3.5300</td>\n",
       "      <td>0.50</td>\n",
       "    </tr>\n",
       "    <tr>\n",
       "      <th>3</th>\n",
       "      <td>2021-02-01 13:31:09.506345</td>\n",
       "      <td>-12.6200</td>\n",
       "      <td>-12.00</td>\n",
       "    </tr>\n",
       "    <tr>\n",
       "      <th>4</th>\n",
       "      <td>2021-02-01 11:23:02.279950</td>\n",
       "      <td>-8.5850</td>\n",
       "      <td>-21.25</td>\n",
       "    </tr>\n",
       "    <tr>\n",
       "      <th>...</th>\n",
       "      <td>...</td>\n",
       "      <td>...</td>\n",
       "      <td>...</td>\n",
       "    </tr>\n",
       "    <tr>\n",
       "      <th>1682</th>\n",
       "      <td>2021-10-06 13:23:34.159810</td>\n",
       "      <td>-4.6075</td>\n",
       "      <td>-6.00</td>\n",
       "    </tr>\n",
       "    <tr>\n",
       "      <th>1683</th>\n",
       "      <td>2021-10-06 12:31:54.951635</td>\n",
       "      <td>0.9300</td>\n",
       "      <td>-1.25</td>\n",
       "    </tr>\n",
       "    <tr>\n",
       "      <th>1684</th>\n",
       "      <td>2021-10-06 16:22:34.587892</td>\n",
       "      <td>-3.0000</td>\n",
       "      <td>8.25</td>\n",
       "    </tr>\n",
       "    <tr>\n",
       "      <th>1685</th>\n",
       "      <td>2021-10-06 15:22:44.063087</td>\n",
       "      <td>-20.7500</td>\n",
       "      <td>-26.00</td>\n",
       "    </tr>\n",
       "    <tr>\n",
       "      <th>1686</th>\n",
       "      <td>2021-10-06 15:34:35.640399</td>\n",
       "      <td>-13.5025</td>\n",
       "      <td>-10.25</td>\n",
       "    </tr>\n",
       "  </tbody>\n",
       "</table>\n",
       "<p>1687 rows × 3 columns</p>\n",
       "</div>"
      ],
      "text/plain": [
       "                          MOMENT  twap_pnl  signature_pnl\n",
       "0     2021-02-01 18:10:15.611222    1.6575         -10.50\n",
       "1     2021-02-01 22:20:17.074682  -11.1350          -6.75\n",
       "2     2021-02-01 23:31:08.196003    3.5300           0.50\n",
       "3     2021-02-01 13:31:09.506345  -12.6200         -12.00\n",
       "4     2021-02-01 11:23:02.279950   -8.5850         -21.25\n",
       "...                          ...       ...            ...\n",
       "1682  2021-10-06 13:23:34.159810   -4.6075          -6.00\n",
       "1683  2021-10-06 12:31:54.951635    0.9300          -1.25\n",
       "1684  2021-10-06 16:22:34.587892   -3.0000           8.25\n",
       "1685  2021-10-06 15:22:44.063087  -20.7500         -26.00\n",
       "1686  2021-10-06 15:34:35.640399  -13.5025         -10.25\n",
       "\n",
       "[1687 rows x 3 columns]"
      ]
     },
     "execution_count": 986,
     "metadata": {},
     "output_type": "execute_result"
    }
   ],
   "source": [
    "df2 = pd.read_sql('''SELECT m.MOMENT, t.SUM - m.PRICE * t.QUANTITY as twap_pnl, s.SUM - m.PRICE * t.QUANTITY as signature_pnl FROM sign.RESULT as s\n",
    "                INNER JOIN twap.RESULT as t\n",
    "                on s.MOMENT = t.MOMENT AND s.SIDE = t.SIDE\n",
    "                INNER JOIN mid.MIDPRICE as m\n",
    "                on m.MOMENT = s.MOMENT\n",
    "                AND s.QUANTITY > 0 AND t.QUANTITY > 0 AND m.PRICE > 0\n",
    "                AND s.SIDE = 'S'\n",
    "            ''', all_sql)\n",
    "\n",
    "df2"
   ]
  },
  {
   "cell_type": "code",
   "execution_count": 987,
   "metadata": {},
   "outputs": [
    {
     "data": {
      "text/html": [
       "<div>\n",
       "<style scoped>\n",
       "    .dataframe tbody tr th:only-of-type {\n",
       "        vertical-align: middle;\n",
       "    }\n",
       "\n",
       "    .dataframe tbody tr th {\n",
       "        vertical-align: top;\n",
       "    }\n",
       "\n",
       "    .dataframe thead th {\n",
       "        text-align: right;\n",
       "    }\n",
       "</style>\n",
       "<table border=\"1\" class=\"dataframe\">\n",
       "  <thead>\n",
       "    <tr style=\"text-align: right;\">\n",
       "      <th></th>\n",
       "      <th>twap_pnl</th>\n",
       "      <th>signature_pnl</th>\n",
       "    </tr>\n",
       "  </thead>\n",
       "  <tbody>\n",
       "    <tr>\n",
       "      <th>sum</th>\n",
       "      <td>-7546.785000</td>\n",
       "      <td>-6767.000000</td>\n",
       "    </tr>\n",
       "    <tr>\n",
       "      <th>min</th>\n",
       "      <td>-58.362500</td>\n",
       "      <td>-58.500000</td>\n",
       "    </tr>\n",
       "    <tr>\n",
       "      <th>max</th>\n",
       "      <td>31.750000</td>\n",
       "      <td>42.500000</td>\n",
       "    </tr>\n",
       "    <tr>\n",
       "      <th>mean</th>\n",
       "      <td>-4.473494</td>\n",
       "      <td>-4.011263</td>\n",
       "    </tr>\n",
       "    <tr>\n",
       "      <th>std</th>\n",
       "      <td>6.864200</td>\n",
       "      <td>7.932574</td>\n",
       "    </tr>\n",
       "  </tbody>\n",
       "</table>\n",
       "</div>"
      ],
      "text/plain": [
       "         twap_pnl  signature_pnl\n",
       "sum  -7546.785000   -6767.000000\n",
       "min    -58.362500     -58.500000\n",
       "max     31.750000      42.500000\n",
       "mean    -4.473494      -4.011263\n",
       "std      6.864200       7.932574"
      ]
     },
     "execution_count": 987,
     "metadata": {},
     "output_type": "execute_result"
    }
   ],
   "source": [
    "df2.agg(['sum', 'min', 'max', 'mean', 'std'])[['twap_pnl', 'signature_pnl']]"
   ]
  },
  {
   "cell_type": "code",
   "execution_count": 988,
   "metadata": {},
   "outputs": [
    {
     "name": "stdout",
     "output_type": "stream",
     "text": [
      "95% confidence interval: (-4801.281838910894, -4145.706898492266)\n"
     ]
    }
   ],
   "source": [
    "twap_profits = np.array(1000 * df2['twap_pnl'])\n",
    "\n",
    "from statsmodels.stats.weightstats import DescrStatsW \n",
    "print(\"95% confidence interval:\", DescrStatsW(twap_profits).tconfint_mean())"
   ]
  },
  {
   "cell_type": "code",
   "execution_count": 989,
   "metadata": {},
   "outputs": [
    {
     "name": "stdout",
     "output_type": "stream",
     "text": [
      "95% confidence interval: (-4390.06835797686, -3632.4568346727788)\n"
     ]
    }
   ],
   "source": [
    "sign_profits = np.array(1000 * df2['signature_pnl'])\n",
    "\n",
    "from statsmodels.stats.weightstats import DescrStatsW \n",
    "print(\"95% confidence interval:\", DescrStatsW(sign_profits).tconfint_mean())"
   ]
  },
  {
   "cell_type": "markdown",
   "metadata": {},
   "source": [
    "We can't definitely say that signature works better than TWAP,\n",
    "so let's use more accurate t-test for pairs:"
   ]
  },
  {
   "cell_type": "code",
   "execution_count": 990,
   "metadata": {},
   "outputs": [
    {
     "data": {
      "text/plain": [
       "Ttest_relResult(statistic=3.545950896300819, pvalue=0.00040188660476989313)"
      ]
     },
     "execution_count": 990,
     "metadata": {},
     "output_type": "execute_result"
    }
   ],
   "source": [
    "sc.stats.ttest_rel(df2['signature_pnl'], df2['twap_pnl'])"
   ]
  },
  {
   "cell_type": "code",
   "execution_count": 991,
   "metadata": {},
   "outputs": [
    {
     "data": {
      "text/plain": [
       "Ttest_relResult(statistic=4.56456977951446, pvalue=5.36746451695232e-06)"
      ]
     },
     "execution_count": 991,
     "metadata": {},
     "output_type": "execute_result"
    }
   ],
   "source": [
    "sc.stats.ttest_rel(df1['signature_pnl'], df1['twap_pnl'])"
   ]
  },
  {
   "cell_type": "code",
   "execution_count": 992,
   "metadata": {},
   "outputs": [],
   "source": [
    "cursorObject.close()\n",
    "all_sql.close()"
   ]
  },
  {
   "cell_type": "markdown",
   "metadata": {},
   "source": [
    "Collect information:"
   ]
  },
  {
   "cell_type": "code",
   "execution_count": 993,
   "metadata": {},
   "outputs": [],
   "source": [
    "__f = pd.concat([df1, df2], axis=0)\n",
    "\n",
    "df_data['experiment_1'] = [DescrStatsW(__f['twap_pnl']).tconfint_mean(), DescrStatsW(__f['signature_pnl']).tconfint_mean(), 1000, 'public (exotic signature)', '5_by_20%']"
   ]
  },
  {
   "cell_type": "code",
   "execution_count": null,
   "metadata": {},
   "outputs": [],
   "source": []
  },
  {
   "cell_type": "markdown",
   "metadata": {},
   "source": [
    "# External Experiment 2"
   ]
  },
  {
   "cell_type": "markdown",
   "metadata": {},
   "source": [
    "![Hedging 5 million buy/sell toxic orders](pics/hedge1m.jfif \"5 million\")"
   ]
  },
  {
   "cell_type": "code",
   "execution_count": 994,
   "metadata": {},
   "outputs": [
    {
     "name": "stdout",
     "output_type": "stream",
     "text": [
      "95% confidence interval: (2950.5067226934098, 21699.313277306588)\n"
     ]
    }
   ],
   "source": [
    "n = 112\n",
    "print(\"95% confidence interval:\", _tconfint_generic(mean = 12324.91, \n",
    "                                                    std_mean = 50066.12 / np.sqrt(n),\n",
    "                                                    dof = n-1,\n",
    "                                                    alpha=0.05,\n",
    "                                                    alternative = 'two-sided'))"
   ]
  },
  {
   "cell_type": "code",
   "execution_count": 995,
   "metadata": {},
   "outputs": [
    {
     "name": "stdout",
     "output_type": "stream",
     "text": [
      "95% confidence interval: (22158.205753402774, 35795.194246597224)\n"
     ]
    }
   ],
   "source": [
    "n = 112\n",
    "print(\"95% confidence interval:\", _tconfint_generic(mean = 28976.70, \n",
    "                                                    std_mean = 36415.71 / np.sqrt(n),\n",
    "                                                    dof = n-1,\n",
    "                                                    alpha=0.05,\n",
    "                                                    alternative = 'two-sided'))"
   ]
  },
  {
   "cell_type": "code",
   "execution_count": 996,
   "metadata": {},
   "outputs": [
    {
     "name": "stdout",
     "output_type": "stream",
     "text": [
      "95% confidence interval: (-13055.550115705853, 24920.93011570585)\n"
     ]
    }
   ],
   "source": [
    "n = 52\n",
    "print(\"95% confidence interval:\", _tconfint_generic(mean = 5932.69, \n",
    "                                                    std_mean = 68204.45 / np.sqrt(n),\n",
    "                                                    dof = n-1,\n",
    "                                                    alpha=0.05,\n",
    "                                                    alternative = 'two-sided'))"
   ]
  },
  {
   "cell_type": "code",
   "execution_count": 997,
   "metadata": {},
   "outputs": [
    {
     "name": "stdout",
     "output_type": "stream",
     "text": [
      "95% confidence interval: (13617.741045158995, 35603.41895484101)\n"
     ]
    }
   ],
   "source": [
    "n = 52\n",
    "print(\"95% confidence interval:\", _tconfint_generic(mean = 24610.58, \n",
    "                                                    std_mean = 39485.52 / np.sqrt(n),\n",
    "                                                    dof = n-1,\n",
    "                                                    alpha=0.05,\n",
    "                                                    alternative = 'two-sided'))"
   ]
  },
  {
   "cell_type": "markdown",
   "metadata": {},
   "source": [
    "# My Experiment 2"
   ]
  },
  {
   "cell_type": "code",
   "execution_count": 998,
   "metadata": {},
   "outputs": [],
   "source": [
    "MID_PATH = '../0_CommonFiles/mid.db3'\n",
    "TWAP_PATH = '../4_Experiment2/twap.db3'\n",
    "SIGNATURE_PATH = '../4_Experiment2/signature.db3'"
   ]
  },
  {
   "cell_type": "code",
   "execution_count": 999,
   "metadata": {},
   "outputs": [],
   "source": [
    "all_sql = sqlite3.connect('')"
   ]
  },
  {
   "cell_type": "code",
   "execution_count": 1000,
   "metadata": {},
   "outputs": [],
   "source": [
    "cursorObject = all_sql.cursor()"
   ]
  },
  {
   "cell_type": "code",
   "execution_count": 1001,
   "metadata": {},
   "outputs": [],
   "source": [
    "attach(cursorObject, MID_PATH, 'mid')\n",
    "attach(cursorObject, TWAP_PATH, 'twap')\n",
    "attach(cursorObject, SIGNATURE_PATH, 'sign')"
   ]
  },
  {
   "cell_type": "markdown",
   "metadata": {},
   "source": [
    "Analysing TWAP/Signature algorithms for buy hedging:"
   ]
  },
  {
   "cell_type": "code",
   "execution_count": 1002,
   "metadata": {},
   "outputs": [
    {
     "data": {
      "text/html": [
       "<div>\n",
       "<style scoped>\n",
       "    .dataframe tbody tr th:only-of-type {\n",
       "        vertical-align: middle;\n",
       "    }\n",
       "\n",
       "    .dataframe tbody tr th {\n",
       "        vertical-align: top;\n",
       "    }\n",
       "\n",
       "    .dataframe thead th {\n",
       "        text-align: right;\n",
       "    }\n",
       "</style>\n",
       "<table border=\"1\" class=\"dataframe\">\n",
       "  <thead>\n",
       "    <tr style=\"text-align: right;\">\n",
       "      <th></th>\n",
       "      <th>MOMENT</th>\n",
       "      <th>twap_pnl</th>\n",
       "      <th>signature_pnl</th>\n",
       "    </tr>\n",
       "  </thead>\n",
       "  <tbody>\n",
       "    <tr>\n",
       "      <th>0</th>\n",
       "      <td>2021-02-01 10:01:36.771000</td>\n",
       "      <td>-11.8975</td>\n",
       "      <td>-6.1250</td>\n",
       "    </tr>\n",
       "    <tr>\n",
       "      <th>1</th>\n",
       "      <td>2021-02-01 10:05:02.883000</td>\n",
       "      <td>2.3625</td>\n",
       "      <td>0.2000</td>\n",
       "    </tr>\n",
       "    <tr>\n",
       "      <th>2</th>\n",
       "      <td>2021-02-01 10:05:11.061000</td>\n",
       "      <td>-18.7300</td>\n",
       "      <td>-16.4150</td>\n",
       "    </tr>\n",
       "    <tr>\n",
       "      <th>3</th>\n",
       "      <td>2021-02-01 10:05:23.526000</td>\n",
       "      <td>-14.1950</td>\n",
       "      <td>-17.1825</td>\n",
       "    </tr>\n",
       "    <tr>\n",
       "      <th>4</th>\n",
       "      <td>2021-02-01 10:07:27.929000</td>\n",
       "      <td>-19.0000</td>\n",
       "      <td>-2.3750</td>\n",
       "    </tr>\n",
       "    <tr>\n",
       "      <th>...</th>\n",
       "      <td>...</td>\n",
       "      <td>...</td>\n",
       "      <td>...</td>\n",
       "    </tr>\n",
       "    <tr>\n",
       "      <th>14918</th>\n",
       "      <td>2021-06-30 19:17:20.554000</td>\n",
       "      <td>-4.5800</td>\n",
       "      <td>-3.7500</td>\n",
       "    </tr>\n",
       "    <tr>\n",
       "      <th>14919</th>\n",
       "      <td>2021-06-30 19:30:16.189000</td>\n",
       "      <td>-2.1350</td>\n",
       "      <td>-2.2600</td>\n",
       "    </tr>\n",
       "    <tr>\n",
       "      <th>14920</th>\n",
       "      <td>2021-06-30 19:31:46.414000</td>\n",
       "      <td>-3.2700</td>\n",
       "      <td>-3.8375</td>\n",
       "    </tr>\n",
       "    <tr>\n",
       "      <th>14921</th>\n",
       "      <td>2021-06-30 19:41:04.630000</td>\n",
       "      <td>-4.9475</td>\n",
       "      <td>-7.6075</td>\n",
       "    </tr>\n",
       "    <tr>\n",
       "      <th>14922</th>\n",
       "      <td>2021-06-30 19:41:04.636000</td>\n",
       "      <td>-4.9475</td>\n",
       "      <td>-5.3300</td>\n",
       "    </tr>\n",
       "  </tbody>\n",
       "</table>\n",
       "<p>14923 rows × 3 columns</p>\n",
       "</div>"
      ],
      "text/plain": [
       "                           MOMENT  twap_pnl  signature_pnl\n",
       "0      2021-02-01 10:01:36.771000  -11.8975        -6.1250\n",
       "1      2021-02-01 10:05:02.883000    2.3625         0.2000\n",
       "2      2021-02-01 10:05:11.061000  -18.7300       -16.4150\n",
       "3      2021-02-01 10:05:23.526000  -14.1950       -17.1825\n",
       "4      2021-02-01 10:07:27.929000  -19.0000        -2.3750\n",
       "...                           ...       ...            ...\n",
       "14918  2021-06-30 19:17:20.554000   -4.5800        -3.7500\n",
       "14919  2021-06-30 19:30:16.189000   -2.1350        -2.2600\n",
       "14920  2021-06-30 19:31:46.414000   -3.2700        -3.8375\n",
       "14921  2021-06-30 19:41:04.630000   -4.9475        -7.6075\n",
       "14922  2021-06-30 19:41:04.636000   -4.9475        -5.3300\n",
       "\n",
       "[14923 rows x 3 columns]"
      ]
     },
     "execution_count": 1002,
     "metadata": {},
     "output_type": "execute_result"
    }
   ],
   "source": [
    "df1 = pd.read_sql('''SELECT m.MOMENT, m.PRICE * t.QUANTITY - t.SUM as twap_pnl, m.PRICE * t.QUANTITY - s.SUM as signature_pnl FROM sign.RESULT as s\n",
    "                INNER JOIN twap.RESULT as t\n",
    "                on s.MOMENT = t.MOMENT AND s.SIDE = t.SIDE\n",
    "                INNER JOIN mid.MIDPRICE as m\n",
    "                on m.MOMENT = s.MOMENT\n",
    "                AND s.QUANTITY > 0 AND t.QUANTITY > 0 AND m.PRICE > 0\n",
    "                AND s.SIDE = 'B'\n",
    "            ''', all_sql)\n",
    "\n",
    "df1"
   ]
  },
  {
   "cell_type": "code",
   "execution_count": 1003,
   "metadata": {},
   "outputs": [
    {
     "data": {
      "text/html": [
       "<div>\n",
       "<style scoped>\n",
       "    .dataframe tbody tr th:only-of-type {\n",
       "        vertical-align: middle;\n",
       "    }\n",
       "\n",
       "    .dataframe tbody tr th {\n",
       "        vertical-align: top;\n",
       "    }\n",
       "\n",
       "    .dataframe thead th {\n",
       "        text-align: right;\n",
       "    }\n",
       "</style>\n",
       "<table border=\"1\" class=\"dataframe\">\n",
       "  <thead>\n",
       "    <tr style=\"text-align: right;\">\n",
       "      <th></th>\n",
       "      <th>twap_pnl</th>\n",
       "      <th>signature_pnl</th>\n",
       "    </tr>\n",
       "  </thead>\n",
       "  <tbody>\n",
       "    <tr>\n",
       "      <th>sum</th>\n",
       "      <td>-102353.935000</td>\n",
       "      <td>-97780.855000</td>\n",
       "    </tr>\n",
       "    <tr>\n",
       "      <th>min</th>\n",
       "      <td>-149.120000</td>\n",
       "      <td>-151.500000</td>\n",
       "    </tr>\n",
       "    <tr>\n",
       "      <th>max</th>\n",
       "      <td>75.500000</td>\n",
       "      <td>161.777500</td>\n",
       "    </tr>\n",
       "    <tr>\n",
       "      <th>mean</th>\n",
       "      <td>-6.858804</td>\n",
       "      <td>-6.552359</td>\n",
       "    </tr>\n",
       "    <tr>\n",
       "      <th>std</th>\n",
       "      <td>8.662579</td>\n",
       "      <td>9.720887</td>\n",
       "    </tr>\n",
       "  </tbody>\n",
       "</table>\n",
       "</div>"
      ],
      "text/plain": [
       "           twap_pnl  signature_pnl\n",
       "sum  -102353.935000  -97780.855000\n",
       "min     -149.120000    -151.500000\n",
       "max       75.500000     161.777500\n",
       "mean      -6.858804      -6.552359\n",
       "std        8.662579       9.720887"
      ]
     },
     "execution_count": 1003,
     "metadata": {},
     "output_type": "execute_result"
    }
   ],
   "source": [
    "df1.agg(['sum', 'min', 'max', 'mean', 'std'])[['twap_pnl', 'signature_pnl']]"
   ]
  },
  {
   "cell_type": "code",
   "execution_count": 1004,
   "metadata": {},
   "outputs": [
    {
     "name": "stdout",
     "output_type": "stream",
     "text": [
      "95% confidence interval: (-6997.800246373764, -6719.80814336043)\n"
     ]
    }
   ],
   "source": [
    "twap_profits = np.array(1000 * df1['twap_pnl'])\n",
    "\n",
    "from statsmodels.stats.weightstats import DescrStatsW \n",
    "print(\"95% confidence interval:\", DescrStatsW(twap_profits).tconfint_mean())"
   ]
  },
  {
   "cell_type": "code",
   "execution_count": 1005,
   "metadata": {},
   "outputs": [
    {
     "name": "stdout",
     "output_type": "stream",
     "text": [
      "95% confidence interval: (-6708.336313100815, -6396.381907096228)\n"
     ]
    }
   ],
   "source": [
    "sign_profits = np.array(1000 * df1['signature_pnl'])\n",
    "\n",
    "from statsmodels.stats.weightstats import DescrStatsW \n",
    "print(\"95% confidence interval:\", DescrStatsW(sign_profits).tconfint_mean())"
   ]
  },
  {
   "cell_type": "markdown",
   "metadata": {},
   "source": [
    "Analysing TWAP/Signature algorithms for sell hedging:"
   ]
  },
  {
   "cell_type": "code",
   "execution_count": 1006,
   "metadata": {},
   "outputs": [
    {
     "data": {
      "text/html": [
       "<div>\n",
       "<style scoped>\n",
       "    .dataframe tbody tr th:only-of-type {\n",
       "        vertical-align: middle;\n",
       "    }\n",
       "\n",
       "    .dataframe tbody tr th {\n",
       "        vertical-align: top;\n",
       "    }\n",
       "\n",
       "    .dataframe thead th {\n",
       "        text-align: right;\n",
       "    }\n",
       "</style>\n",
       "<table border=\"1\" class=\"dataframe\">\n",
       "  <thead>\n",
       "    <tr style=\"text-align: right;\">\n",
       "      <th></th>\n",
       "      <th>MOMENT</th>\n",
       "      <th>twap_pnl</th>\n",
       "      <th>signature_pnl</th>\n",
       "    </tr>\n",
       "  </thead>\n",
       "  <tbody>\n",
       "    <tr>\n",
       "      <th>0</th>\n",
       "      <td>2021-02-01 10:00:09.015000</td>\n",
       "      <td>-53.0825</td>\n",
       "      <td>-16.3800</td>\n",
       "    </tr>\n",
       "    <tr>\n",
       "      <th>1</th>\n",
       "      <td>2021-02-01 10:04:36.332000</td>\n",
       "      <td>-19.6850</td>\n",
       "      <td>-10.5000</td>\n",
       "    </tr>\n",
       "    <tr>\n",
       "      <th>2</th>\n",
       "      <td>2021-02-01 10:04:57.946000</td>\n",
       "      <td>-28.5050</td>\n",
       "      <td>-23.6725</td>\n",
       "    </tr>\n",
       "    <tr>\n",
       "      <th>3</th>\n",
       "      <td>2021-02-01 10:05:19.015000</td>\n",
       "      <td>-3.2800</td>\n",
       "      <td>5.1150</td>\n",
       "    </tr>\n",
       "    <tr>\n",
       "      <th>4</th>\n",
       "      <td>2021-02-01 10:08:27.788000</td>\n",
       "      <td>-20.6250</td>\n",
       "      <td>-12.8000</td>\n",
       "    </tr>\n",
       "    <tr>\n",
       "      <th>...</th>\n",
       "      <td>...</td>\n",
       "      <td>...</td>\n",
       "      <td>...</td>\n",
       "    </tr>\n",
       "    <tr>\n",
       "      <th>14768</th>\n",
       "      <td>2021-06-30 19:03:41.640000</td>\n",
       "      <td>-2.7500</td>\n",
       "      <td>-6.0000</td>\n",
       "    </tr>\n",
       "    <tr>\n",
       "      <th>14769</th>\n",
       "      <td>2021-06-30 19:05:10.360000</td>\n",
       "      <td>-11.6300</td>\n",
       "      <td>-13.2500</td>\n",
       "    </tr>\n",
       "    <tr>\n",
       "      <th>14770</th>\n",
       "      <td>2021-06-30 19:05:24.713000</td>\n",
       "      <td>-16.5000</td>\n",
       "      <td>-11.8800</td>\n",
       "    </tr>\n",
       "    <tr>\n",
       "      <th>14771</th>\n",
       "      <td>2021-06-30 19:29:14.314000</td>\n",
       "      <td>-5.3525</td>\n",
       "      <td>-5.0525</td>\n",
       "    </tr>\n",
       "    <tr>\n",
       "      <th>14772</th>\n",
       "      <td>2021-06-30 19:40:36.010000</td>\n",
       "      <td>-7.6025</td>\n",
       "      <td>-5.3200</td>\n",
       "    </tr>\n",
       "  </tbody>\n",
       "</table>\n",
       "<p>14773 rows × 3 columns</p>\n",
       "</div>"
      ],
      "text/plain": [
       "                           MOMENT  twap_pnl  signature_pnl\n",
       "0      2021-02-01 10:00:09.015000  -53.0825       -16.3800\n",
       "1      2021-02-01 10:04:36.332000  -19.6850       -10.5000\n",
       "2      2021-02-01 10:04:57.946000  -28.5050       -23.6725\n",
       "3      2021-02-01 10:05:19.015000   -3.2800         5.1150\n",
       "4      2021-02-01 10:08:27.788000  -20.6250       -12.8000\n",
       "...                           ...       ...            ...\n",
       "14768  2021-06-30 19:03:41.640000   -2.7500        -6.0000\n",
       "14769  2021-06-30 19:05:10.360000  -11.6300       -13.2500\n",
       "14770  2021-06-30 19:05:24.713000  -16.5000       -11.8800\n",
       "14771  2021-06-30 19:29:14.314000   -5.3525        -5.0525\n",
       "14772  2021-06-30 19:40:36.010000   -7.6025        -5.3200\n",
       "\n",
       "[14773 rows x 3 columns]"
      ]
     },
     "execution_count": 1006,
     "metadata": {},
     "output_type": "execute_result"
    }
   ],
   "source": [
    "df2 = pd.read_sql('''SELECT m.MOMENT, t.SUM - m.PRICE * t.QUANTITY as twap_pnl, s.SUM - m.PRICE * t.QUANTITY as signature_pnl FROM sign.RESULT as s\n",
    "                INNER JOIN twap.RESULT as t\n",
    "                on s.MOMENT = t.MOMENT AND s.SIDE = t.SIDE\n",
    "                INNER JOIN mid.MIDPRICE as m\n",
    "                on m.MOMENT = s.MOMENT\n",
    "                AND s.QUANTITY > 0 AND t.QUANTITY > 0 AND m.PRICE > 0\n",
    "                AND s.SIDE = 'S'\n",
    "            ''', all_sql)\n",
    "\n",
    "df2"
   ]
  },
  {
   "cell_type": "code",
   "execution_count": 1007,
   "metadata": {},
   "outputs": [
    {
     "data": {
      "text/html": [
       "<div>\n",
       "<style scoped>\n",
       "    .dataframe tbody tr th:only-of-type {\n",
       "        vertical-align: middle;\n",
       "    }\n",
       "\n",
       "    .dataframe tbody tr th {\n",
       "        vertical-align: top;\n",
       "    }\n",
       "\n",
       "    .dataframe thead th {\n",
       "        text-align: right;\n",
       "    }\n",
       "</style>\n",
       "<table border=\"1\" class=\"dataframe\">\n",
       "  <thead>\n",
       "    <tr style=\"text-align: right;\">\n",
       "      <th></th>\n",
       "      <th>twap_pnl</th>\n",
       "      <th>signature_pnl</th>\n",
       "    </tr>\n",
       "  </thead>\n",
       "  <tbody>\n",
       "    <tr>\n",
       "      <th>sum</th>\n",
       "      <td>-102186.945000</td>\n",
       "      <td>-95313.755000</td>\n",
       "    </tr>\n",
       "    <tr>\n",
       "      <th>min</th>\n",
       "      <td>-106.367500</td>\n",
       "      <td>-167.067500</td>\n",
       "    </tr>\n",
       "    <tr>\n",
       "      <th>max</th>\n",
       "      <td>108.125000</td>\n",
       "      <td>116.000000</td>\n",
       "    </tr>\n",
       "    <tr>\n",
       "      <th>mean</th>\n",
       "      <td>-6.917142</td>\n",
       "      <td>-6.451889</td>\n",
       "    </tr>\n",
       "    <tr>\n",
       "      <th>std</th>\n",
       "      <td>8.317804</td>\n",
       "      <td>8.424837</td>\n",
       "    </tr>\n",
       "  </tbody>\n",
       "</table>\n",
       "</div>"
      ],
      "text/plain": [
       "           twap_pnl  signature_pnl\n",
       "sum  -102186.945000  -95313.755000\n",
       "min     -106.367500    -167.067500\n",
       "max      108.125000     116.000000\n",
       "mean      -6.917142      -6.451889\n",
       "std        8.317804       8.424837"
      ]
     },
     "execution_count": 1007,
     "metadata": {},
     "output_type": "execute_result"
    }
   ],
   "source": [
    "df2.agg(['sum', 'min', 'max', 'mean', 'std'])[['twap_pnl', 'signature_pnl']]"
   ]
  },
  {
   "cell_type": "code",
   "execution_count": 1008,
   "metadata": {},
   "outputs": [
    {
     "name": "stdout",
     "output_type": "stream",
     "text": [
      "95% confidence interval: (-7051.282337357716, -6783.002506614155)\n"
     ]
    }
   ],
   "source": [
    "twap_profits = np.array(1000 * df2['twap_pnl'])\n",
    "\n",
    "from statsmodels.stats.weightstats import DescrStatsW \n",
    "print(\"95% confidence interval:\", DescrStatsW(twap_profits).tconfint_mean())"
   ]
  },
  {
   "cell_type": "code",
   "execution_count": 1009,
   "metadata": {},
   "outputs": [
    {
     "name": "stdout",
     "output_type": "stream",
     "text": [
      "95% confidence interval: (-6587.7549412337485, -6316.022896713797)\n"
     ]
    }
   ],
   "source": [
    "sign_profits = np.array(1000 * df2['signature_pnl'])\n",
    "\n",
    "from statsmodels.stats.weightstats import DescrStatsW \n",
    "print(\"95% confidence interval:\", DescrStatsW(sign_profits).tconfint_mean())"
   ]
  },
  {
   "cell_type": "code",
   "execution_count": 1010,
   "metadata": {},
   "outputs": [],
   "source": [
    "cursorObject.close()\n",
    "all_sql.close()"
   ]
  },
  {
   "cell_type": "markdown",
   "metadata": {},
   "source": [
    "Collect information:"
   ]
  },
  {
   "cell_type": "code",
   "execution_count": 1011,
   "metadata": {},
   "outputs": [],
   "source": [
    "__f = pd.concat([df1, df2], axis=0)\n",
    "\n",
    "df_data['experiment_2'] = [DescrStatsW(__f['twap_pnl']).tconfint_mean(), DescrStatsW(__f['signature_pnl']).tconfint_mean(), 1000, 'toxic', '5_by_20%']"
   ]
  },
  {
   "cell_type": "markdown",
   "metadata": {},
   "source": [
    "# My Experiment 3"
   ]
  },
  {
   "cell_type": "code",
   "execution_count": 1012,
   "metadata": {},
   "outputs": [],
   "source": [
    "MID_PATH = '../0_CommonFiles/mid.db3'\n",
    "TWAP_PATH = '../5_Experiment3/twap.db3'\n",
    "SIGNATURE_PATH = '../5_Experiment3/signature.db3'"
   ]
  },
  {
   "cell_type": "code",
   "execution_count": 1013,
   "metadata": {},
   "outputs": [],
   "source": [
    "all_sql = sqlite3.connect('')"
   ]
  },
  {
   "cell_type": "code",
   "execution_count": 1014,
   "metadata": {},
   "outputs": [],
   "source": [
    "cursorObject = all_sql.cursor()"
   ]
  },
  {
   "cell_type": "code",
   "execution_count": 1015,
   "metadata": {},
   "outputs": [],
   "source": [
    "attach(cursorObject, MID_PATH, 'mid')\n",
    "attach(cursorObject, TWAP_PATH, 'twap')\n",
    "attach(cursorObject, SIGNATURE_PATH, 'sign')"
   ]
  },
  {
   "cell_type": "markdown",
   "metadata": {},
   "source": [
    "Analysing TWAP/Signature algorithms for buy hedging:"
   ]
  },
  {
   "cell_type": "code",
   "execution_count": 1016,
   "metadata": {},
   "outputs": [
    {
     "data": {
      "text/html": [
       "<div>\n",
       "<style scoped>\n",
       "    .dataframe tbody tr th:only-of-type {\n",
       "        vertical-align: middle;\n",
       "    }\n",
       "\n",
       "    .dataframe tbody tr th {\n",
       "        vertical-align: top;\n",
       "    }\n",
       "\n",
       "    .dataframe thead th {\n",
       "        text-align: right;\n",
       "    }\n",
       "</style>\n",
       "<table border=\"1\" class=\"dataframe\">\n",
       "  <thead>\n",
       "    <tr style=\"text-align: right;\">\n",
       "      <th></th>\n",
       "      <th>MOMENT</th>\n",
       "      <th>twap_pnl</th>\n",
       "      <th>signature_pnl</th>\n",
       "    </tr>\n",
       "  </thead>\n",
       "  <tbody>\n",
       "    <tr>\n",
       "      <th>0</th>\n",
       "      <td>2021-02-01 10:01:36.771000</td>\n",
       "      <td>-77.9900</td>\n",
       "      <td>-53.8025</td>\n",
       "    </tr>\n",
       "    <tr>\n",
       "      <th>1</th>\n",
       "      <td>2021-02-01 10:05:02.883000</td>\n",
       "      <td>-19.6850</td>\n",
       "      <td>-16.4200</td>\n",
       "    </tr>\n",
       "    <tr>\n",
       "      <th>2</th>\n",
       "      <td>2021-02-01 10:05:11.061000</td>\n",
       "      <td>-117.5025</td>\n",
       "      <td>-111.4225</td>\n",
       "    </tr>\n",
       "    <tr>\n",
       "      <th>3</th>\n",
       "      <td>2021-02-01 10:05:23.526000</td>\n",
       "      <td>-90.0075</td>\n",
       "      <td>-99.8900</td>\n",
       "    </tr>\n",
       "    <tr>\n",
       "      <th>4</th>\n",
       "      <td>2021-02-01 10:07:27.929000</td>\n",
       "      <td>-102.4950</td>\n",
       "      <td>-12.3750</td>\n",
       "    </tr>\n",
       "    <tr>\n",
       "      <th>...</th>\n",
       "      <td>...</td>\n",
       "      <td>...</td>\n",
       "      <td>...</td>\n",
       "    </tr>\n",
       "    <tr>\n",
       "      <th>14918</th>\n",
       "      <td>2021-06-30 19:17:20.554000</td>\n",
       "      <td>-34.1200</td>\n",
       "      <td>-34.6200</td>\n",
       "    </tr>\n",
       "    <tr>\n",
       "      <th>14919</th>\n",
       "      <td>2021-06-30 19:30:16.189000</td>\n",
       "      <td>-27.8450</td>\n",
       "      <td>-32.0500</td>\n",
       "    </tr>\n",
       "    <tr>\n",
       "      <th>14920</th>\n",
       "      <td>2021-06-30 19:31:46.414000</td>\n",
       "      <td>-33.7200</td>\n",
       "      <td>-40.1525</td>\n",
       "    </tr>\n",
       "    <tr>\n",
       "      <th>14921</th>\n",
       "      <td>2021-06-30 19:41:04.630000</td>\n",
       "      <td>-43.3000</td>\n",
       "      <td>-48.0100</td>\n",
       "    </tr>\n",
       "    <tr>\n",
       "      <th>14922</th>\n",
       "      <td>2021-06-30 19:41:04.636000</td>\n",
       "      <td>-43.3000</td>\n",
       "      <td>-44.3850</td>\n",
       "    </tr>\n",
       "  </tbody>\n",
       "</table>\n",
       "<p>14923 rows × 3 columns</p>\n",
       "</div>"
      ],
      "text/plain": [
       "                           MOMENT  twap_pnl  signature_pnl\n",
       "0      2021-02-01 10:01:36.771000  -77.9900       -53.8025\n",
       "1      2021-02-01 10:05:02.883000  -19.6850       -16.4200\n",
       "2      2021-02-01 10:05:11.061000 -117.5025      -111.4225\n",
       "3      2021-02-01 10:05:23.526000  -90.0075       -99.8900\n",
       "4      2021-02-01 10:07:27.929000 -102.4950       -12.3750\n",
       "...                           ...       ...            ...\n",
       "14918  2021-06-30 19:17:20.554000  -34.1200       -34.6200\n",
       "14919  2021-06-30 19:30:16.189000  -27.8450       -32.0500\n",
       "14920  2021-06-30 19:31:46.414000  -33.7200       -40.1525\n",
       "14921  2021-06-30 19:41:04.630000  -43.3000       -48.0100\n",
       "14922  2021-06-30 19:41:04.636000  -43.3000       -44.3850\n",
       "\n",
       "[14923 rows x 3 columns]"
      ]
     },
     "execution_count": 1016,
     "metadata": {},
     "output_type": "execute_result"
    }
   ],
   "source": [
    "df1 = pd.read_sql('''SELECT m.MOMENT, m.PRICE * t.QUANTITY - t.SUM as twap_pnl, m.PRICE * t.QUANTITY - s.SUM as signature_pnl FROM sign.RESULT as s\n",
    "                INNER JOIN twap.RESULT as t\n",
    "                on s.MOMENT = t.MOMENT AND s.SIDE = t.SIDE\n",
    "                INNER JOIN mid.MIDPRICE as m\n",
    "                on m.MOMENT = s.MOMENT\n",
    "                AND s.QUANTITY > 0 AND t.QUANTITY > 0 AND m.PRICE > 0\n",
    "                AND s.SIDE = 'B'\n",
    "            ''', all_sql)\n",
    "\n",
    "df1"
   ]
  },
  {
   "cell_type": "code",
   "execution_count": 1017,
   "metadata": {},
   "outputs": [
    {
     "data": {
      "text/html": [
       "<div>\n",
       "<style scoped>\n",
       "    .dataframe tbody tr th:only-of-type {\n",
       "        vertical-align: middle;\n",
       "    }\n",
       "\n",
       "    .dataframe tbody tr th {\n",
       "        vertical-align: top;\n",
       "    }\n",
       "\n",
       "    .dataframe thead th {\n",
       "        text-align: right;\n",
       "    }\n",
       "</style>\n",
       "<table border=\"1\" class=\"dataframe\">\n",
       "  <thead>\n",
       "    <tr style=\"text-align: right;\">\n",
       "      <th></th>\n",
       "      <th>twap_pnl</th>\n",
       "      <th>signature_pnl</th>\n",
       "    </tr>\n",
       "  </thead>\n",
       "  <tbody>\n",
       "    <tr>\n",
       "      <th>sum</th>\n",
       "      <td>-760641.360000</td>\n",
       "      <td>-766520.480000</td>\n",
       "    </tr>\n",
       "    <tr>\n",
       "      <th>min</th>\n",
       "      <td>-780.460000</td>\n",
       "      <td>-770.405000</td>\n",
       "    </tr>\n",
       "    <tr>\n",
       "      <th>max</th>\n",
       "      <td>358.907500</td>\n",
       "      <td>791.235000</td>\n",
       "    </tr>\n",
       "    <tr>\n",
       "      <th>mean</th>\n",
       "      <td>-50.971076</td>\n",
       "      <td>-51.365039</td>\n",
       "    </tr>\n",
       "    <tr>\n",
       "      <th>std</th>\n",
       "      <td>45.115669</td>\n",
       "      <td>50.406406</td>\n",
       "    </tr>\n",
       "  </tbody>\n",
       "</table>\n",
       "</div>"
      ],
      "text/plain": [
       "           twap_pnl  signature_pnl\n",
       "sum  -760641.360000 -766520.480000\n",
       "min     -780.460000    -770.405000\n",
       "max      358.907500     791.235000\n",
       "mean     -50.971076     -51.365039\n",
       "std       45.115669      50.406406"
      ]
     },
     "execution_count": 1017,
     "metadata": {},
     "output_type": "execute_result"
    }
   ],
   "source": [
    "df1.agg(['sum', 'min', 'max', 'mean', 'std'])[['twap_pnl', 'signature_pnl']]"
   ]
  },
  {
   "cell_type": "code",
   "execution_count": 1018,
   "metadata": {},
   "outputs": [
    {
     "name": "stdout",
     "output_type": "stream",
     "text": [
      "95% confidence interval: (-51694.98230731888, -50247.168734697385)\n"
     ]
    }
   ],
   "source": [
    "twap_profits = np.array(1000 * df1['twap_pnl'])\n",
    "\n",
    "from statsmodels.stats.weightstats import DescrStatsW \n",
    "print(\"95% confidence interval:\", DescrStatsW(twap_profits).tconfint_mean())"
   ]
  },
  {
   "cell_type": "code",
   "execution_count": 1019,
   "metadata": {},
   "outputs": [
    {
     "name": "stdout",
     "output_type": "stream",
     "text": [
      "95% confidence interval: (-52173.83890853017, -50556.23949393699)\n"
     ]
    }
   ],
   "source": [
    "sign_profits = np.array(1000 * df1['signature_pnl'])\n",
    "\n",
    "from statsmodels.stats.weightstats import DescrStatsW \n",
    "print(\"95% confidence interval:\", DescrStatsW(sign_profits).tconfint_mean())"
   ]
  },
  {
   "cell_type": "markdown",
   "metadata": {},
   "source": [
    "Analysing TWAP/Signature algorithms for sell hedging:"
   ]
  },
  {
   "cell_type": "code",
   "execution_count": 1020,
   "metadata": {},
   "outputs": [
    {
     "data": {
      "text/html": [
       "<div>\n",
       "<style scoped>\n",
       "    .dataframe tbody tr th:only-of-type {\n",
       "        vertical-align: middle;\n",
       "    }\n",
       "\n",
       "    .dataframe tbody tr th {\n",
       "        vertical-align: top;\n",
       "    }\n",
       "\n",
       "    .dataframe thead th {\n",
       "        text-align: right;\n",
       "    }\n",
       "</style>\n",
       "<table border=\"1\" class=\"dataframe\">\n",
       "  <thead>\n",
       "    <tr style=\"text-align: right;\">\n",
       "      <th></th>\n",
       "      <th>MOMENT</th>\n",
       "      <th>twap_pnl</th>\n",
       "      <th>signature_pnl</th>\n",
       "    </tr>\n",
       "  </thead>\n",
       "  <tbody>\n",
       "    <tr>\n",
       "      <th>0</th>\n",
       "      <td>2021-02-01 10:00:09.015000</td>\n",
       "      <td>-301.9725</td>\n",
       "      <td>-152.5775</td>\n",
       "    </tr>\n",
       "    <tr>\n",
       "      <th>1</th>\n",
       "      <td>2021-02-01 10:04:36.332000</td>\n",
       "      <td>-120.5075</td>\n",
       "      <td>-98.9700</td>\n",
       "    </tr>\n",
       "    <tr>\n",
       "      <th>2</th>\n",
       "      <td>2021-02-01 10:04:57.946000</td>\n",
       "      <td>-165.6700</td>\n",
       "      <td>-133.3925</td>\n",
       "    </tr>\n",
       "    <tr>\n",
       "      <th>3</th>\n",
       "      <td>2021-02-01 10:05:19.015000</td>\n",
       "      <td>-41.4350</td>\n",
       "      <td>9.6750</td>\n",
       "    </tr>\n",
       "    <tr>\n",
       "      <th>4</th>\n",
       "      <td>2021-02-01 10:08:27.788000</td>\n",
       "      <td>-128.5500</td>\n",
       "      <td>-96.9225</td>\n",
       "    </tr>\n",
       "    <tr>\n",
       "      <th>...</th>\n",
       "      <td>...</td>\n",
       "      <td>...</td>\n",
       "      <td>...</td>\n",
       "    </tr>\n",
       "    <tr>\n",
       "      <th>14768</th>\n",
       "      <td>2021-06-30 19:03:41.640000</td>\n",
       "      <td>-29.8200</td>\n",
       "      <td>-46.0925</td>\n",
       "    </tr>\n",
       "    <tr>\n",
       "      <th>14769</th>\n",
       "      <td>2021-06-30 19:05:10.360000</td>\n",
       "      <td>-78.4000</td>\n",
       "      <td>-90.1250</td>\n",
       "    </tr>\n",
       "    <tr>\n",
       "      <th>14770</th>\n",
       "      <td>2021-06-30 19:05:24.713000</td>\n",
       "      <td>-99.6175</td>\n",
       "      <td>-80.8950</td>\n",
       "    </tr>\n",
       "    <tr>\n",
       "      <th>14771</th>\n",
       "      <td>2021-06-30 19:29:14.314000</td>\n",
       "      <td>-42.5300</td>\n",
       "      <td>-47.1900</td>\n",
       "    </tr>\n",
       "    <tr>\n",
       "      <th>14772</th>\n",
       "      <td>2021-06-30 19:40:36.010000</td>\n",
       "      <td>-55.3700</td>\n",
       "      <td>-48.9675</td>\n",
       "    </tr>\n",
       "  </tbody>\n",
       "</table>\n",
       "<p>14773 rows × 3 columns</p>\n",
       "</div>"
      ],
      "text/plain": [
       "                           MOMENT  twap_pnl  signature_pnl\n",
       "0      2021-02-01 10:00:09.015000 -301.9725      -152.5775\n",
       "1      2021-02-01 10:04:36.332000 -120.5075       -98.9700\n",
       "2      2021-02-01 10:04:57.946000 -165.6700      -133.3925\n",
       "3      2021-02-01 10:05:19.015000  -41.4350         9.6750\n",
       "4      2021-02-01 10:08:27.788000 -128.5500       -96.9225\n",
       "...                           ...       ...            ...\n",
       "14768  2021-06-30 19:03:41.640000  -29.8200       -46.0925\n",
       "14769  2021-06-30 19:05:10.360000  -78.4000       -90.1250\n",
       "14770  2021-06-30 19:05:24.713000  -99.6175       -80.8950\n",
       "14771  2021-06-30 19:29:14.314000  -42.5300       -47.1900\n",
       "14772  2021-06-30 19:40:36.010000  -55.3700       -48.9675\n",
       "\n",
       "[14773 rows x 3 columns]"
      ]
     },
     "execution_count": 1020,
     "metadata": {},
     "output_type": "execute_result"
    }
   ],
   "source": [
    "df2 = pd.read_sql('''SELECT m.MOMENT, t.SUM - m.PRICE * t.QUANTITY as twap_pnl, s.SUM - m.PRICE * t.QUANTITY as signature_pnl FROM sign.RESULT as s\n",
    "                INNER JOIN twap.RESULT as t\n",
    "                on s.MOMENT = t.MOMENT AND s.SIDE = t.SIDE\n",
    "                INNER JOIN mid.MIDPRICE as m\n",
    "                on m.MOMENT = s.MOMENT\n",
    "                AND s.QUANTITY > 0 AND t.QUANTITY > 0 AND m.PRICE > 0\n",
    "                AND s.SIDE = 'S'\n",
    "            ''', all_sql)\n",
    "\n",
    "df2"
   ]
  },
  {
   "cell_type": "code",
   "execution_count": 1021,
   "metadata": {},
   "outputs": [
    {
     "data": {
      "text/html": [
       "<div>\n",
       "<style scoped>\n",
       "    .dataframe tbody tr th:only-of-type {\n",
       "        vertical-align: middle;\n",
       "    }\n",
       "\n",
       "    .dataframe tbody tr th {\n",
       "        vertical-align: top;\n",
       "    }\n",
       "\n",
       "    .dataframe thead th {\n",
       "        text-align: right;\n",
       "    }\n",
       "</style>\n",
       "<table border=\"1\" class=\"dataframe\">\n",
       "  <thead>\n",
       "    <tr style=\"text-align: right;\">\n",
       "      <th></th>\n",
       "      <th>twap_pnl</th>\n",
       "      <th>signature_pnl</th>\n",
       "    </tr>\n",
       "  </thead>\n",
       "  <tbody>\n",
       "    <tr>\n",
       "      <th>sum</th>\n",
       "      <td>-773865.022500</td>\n",
       "      <td>-775394.190000</td>\n",
       "    </tr>\n",
       "    <tr>\n",
       "      <th>min</th>\n",
       "      <td>-582.827500</td>\n",
       "      <td>-859.770000</td>\n",
       "    </tr>\n",
       "    <tr>\n",
       "      <th>max</th>\n",
       "      <td>480.942500</td>\n",
       "      <td>547.915000</td>\n",
       "    </tr>\n",
       "    <tr>\n",
       "      <th>mean</th>\n",
       "      <td>-52.383742</td>\n",
       "      <td>-52.487253</td>\n",
       "    </tr>\n",
       "    <tr>\n",
       "      <th>std</th>\n",
       "      <td>43.396773</td>\n",
       "      <td>44.349297</td>\n",
       "    </tr>\n",
       "  </tbody>\n",
       "</table>\n",
       "</div>"
      ],
      "text/plain": [
       "           twap_pnl  signature_pnl\n",
       "sum  -773865.022500 -775394.190000\n",
       "min     -582.827500    -859.770000\n",
       "max      480.942500     547.915000\n",
       "mean     -52.383742     -52.487253\n",
       "std       43.396773      44.349297"
      ]
     },
     "execution_count": 1021,
     "metadata": {},
     "output_type": "execute_result"
    }
   ],
   "source": [
    "df2.agg(['sum', 'min', 'max', 'mean', 'std'])[['twap_pnl', 'signature_pnl']]"
   ]
  },
  {
   "cell_type": "code",
   "execution_count": 1022,
   "metadata": {},
   "outputs": [
    {
     "name": "stdout",
     "output_type": "stream",
     "text": [
      "95% confidence interval: (-53083.595034733145, -51683.88922709374)\n"
     ]
    }
   ],
   "source": [
    "twap_profits = np.array(1000 * df2['twap_pnl'])\n",
    "\n",
    "from statsmodels.stats.weightstats import DescrStatsW \n",
    "print(\"95% confidence interval:\", DescrStatsW(twap_profits).tconfint_mean())"
   ]
  },
  {
   "cell_type": "code",
   "execution_count": 1023,
   "metadata": {},
   "outputs": [
    {
     "name": "stdout",
     "output_type": "stream",
     "text": [
      "95% confidence interval: (-53202.46720463435, -51772.03898909647)\n"
     ]
    }
   ],
   "source": [
    "sign_profits = np.array(1000 * df2['signature_pnl'])\n",
    "\n",
    "from statsmodels.stats.weightstats import DescrStatsW \n",
    "print(\"95% confidence interval:\", DescrStatsW(sign_profits).tconfint_mean())"
   ]
  },
  {
   "cell_type": "markdown",
   "metadata": {},
   "source": [
    "We can't definitely say that signature works better than TWAP,\n",
    "so let's use more accurate t-test for pairs:"
   ]
  },
  {
   "cell_type": "code",
   "execution_count": 1024,
   "metadata": {},
   "outputs": [
    {
     "data": {
      "text/plain": [
       "Ttest_relResult(statistic=-0.34860530952988533, pvalue=0.7273906091960318)"
      ]
     },
     "execution_count": 1024,
     "metadata": {},
     "output_type": "execute_result"
    }
   ],
   "source": [
    "sc.stats.ttest_rel(df2['signature_pnl'], df2['twap_pnl'])"
   ]
  },
  {
   "cell_type": "code",
   "execution_count": 1025,
   "metadata": {},
   "outputs": [
    {
     "data": {
      "text/plain": [
       "Ttest_relResult(statistic=-1.176036184270347, pvalue=0.2395991787018972)"
      ]
     },
     "execution_count": 1025,
     "metadata": {},
     "output_type": "execute_result"
    }
   ],
   "source": [
    "sc.stats.ttest_rel(df1['signature_pnl'], df1['twap_pnl'])"
   ]
  },
  {
   "cell_type": "code",
   "execution_count": 1026,
   "metadata": {},
   "outputs": [],
   "source": [
    "cursorObject.close()\n",
    "all_sql.close()"
   ]
  },
  {
   "cell_type": "markdown",
   "metadata": {},
   "source": [
    "Collect information:"
   ]
  },
  {
   "cell_type": "code",
   "execution_count": 1027,
   "metadata": {},
   "outputs": [],
   "source": [
    "__f = pd.concat([df1, df2], axis=0)\n",
    "\n",
    "df_data['experiment_3'] = [DescrStatsW(__f['twap_pnl']).tconfint_mean(), DescrStatsW(__f['signature_pnl']).tconfint_mean(), 5000, 'toxic', '5_by_20%']"
   ]
  },
  {
   "cell_type": "markdown",
   "metadata": {},
   "source": [
    "# My Experiment 4"
   ]
  },
  {
   "cell_type": "code",
   "execution_count": 1028,
   "metadata": {},
   "outputs": [],
   "source": [
    "MID_PATH = '../0_CommonFiles/mid.db3'\n",
    "TWAP_PATH = '../6_Experiment4/twap.db3'\n",
    "SIGNATURE_PATH = '../6_Experiment4/signature.db3'"
   ]
  },
  {
   "cell_type": "code",
   "execution_count": 1029,
   "metadata": {},
   "outputs": [],
   "source": [
    "all_sql = sqlite3.connect('')"
   ]
  },
  {
   "cell_type": "code",
   "execution_count": 1030,
   "metadata": {},
   "outputs": [],
   "source": [
    "cursorObject = all_sql.cursor()"
   ]
  },
  {
   "cell_type": "code",
   "execution_count": 1031,
   "metadata": {},
   "outputs": [],
   "source": [
    "attach(cursorObject, MID_PATH, 'mid')\n",
    "attach(cursorObject, TWAP_PATH, 'twap')\n",
    "attach(cursorObject, SIGNATURE_PATH, 'sign')"
   ]
  },
  {
   "cell_type": "markdown",
   "metadata": {},
   "source": [
    "Analysing TWAP/Signature algorithms for buy hedging:"
   ]
  },
  {
   "cell_type": "code",
   "execution_count": 1032,
   "metadata": {},
   "outputs": [
    {
     "data": {
      "text/html": [
       "<div>\n",
       "<style scoped>\n",
       "    .dataframe tbody tr th:only-of-type {\n",
       "        vertical-align: middle;\n",
       "    }\n",
       "\n",
       "    .dataframe tbody tr th {\n",
       "        vertical-align: top;\n",
       "    }\n",
       "\n",
       "    .dataframe thead th {\n",
       "        text-align: right;\n",
       "    }\n",
       "</style>\n",
       "<table border=\"1\" class=\"dataframe\">\n",
       "  <thead>\n",
       "    <tr style=\"text-align: right;\">\n",
       "      <th></th>\n",
       "      <th>MOMENT</th>\n",
       "      <th>twap_pnl</th>\n",
       "      <th>signature_pnl</th>\n",
       "    </tr>\n",
       "  </thead>\n",
       "  <tbody>\n",
       "    <tr>\n",
       "      <th>0</th>\n",
       "      <td>2021-02-01 10:01:36.771000</td>\n",
       "      <td>-192.3800</td>\n",
       "      <td>-157.6750</td>\n",
       "    </tr>\n",
       "    <tr>\n",
       "      <th>1</th>\n",
       "      <td>2021-02-01 10:05:02.883000</td>\n",
       "      <td>-88.0100</td>\n",
       "      <td>-62.9075</td>\n",
       "    </tr>\n",
       "    <tr>\n",
       "      <th>2</th>\n",
       "      <td>2021-02-01 10:05:11.061000</td>\n",
       "      <td>-279.2000</td>\n",
       "      <td>-266.8175</td>\n",
       "    </tr>\n",
       "    <tr>\n",
       "      <th>3</th>\n",
       "      <td>2021-02-01 10:05:23.526000</td>\n",
       "      <td>-222.3900</td>\n",
       "      <td>-225.5350</td>\n",
       "    </tr>\n",
       "    <tr>\n",
       "      <th>4</th>\n",
       "      <td>2021-02-01 10:07:27.929000</td>\n",
       "      <td>-216.8175</td>\n",
       "      <td>-34.4825</td>\n",
       "    </tr>\n",
       "    <tr>\n",
       "      <th>...</th>\n",
       "      <td>...</td>\n",
       "      <td>...</td>\n",
       "      <td>...</td>\n",
       "    </tr>\n",
       "    <tr>\n",
       "      <th>14918</th>\n",
       "      <td>2021-06-30 19:17:20.554000</td>\n",
       "      <td>-93.0650</td>\n",
       "      <td>-112.0950</td>\n",
       "    </tr>\n",
       "    <tr>\n",
       "      <th>14919</th>\n",
       "      <td>2021-06-30 19:30:16.189000</td>\n",
       "      <td>-79.0625</td>\n",
       "      <td>-96.1300</td>\n",
       "    </tr>\n",
       "    <tr>\n",
       "      <th>14920</th>\n",
       "      <td>2021-06-30 19:31:46.414000</td>\n",
       "      <td>-94.2200</td>\n",
       "      <td>-112.3450</td>\n",
       "    </tr>\n",
       "    <tr>\n",
       "      <th>14921</th>\n",
       "      <td>2021-06-30 19:41:04.630000</td>\n",
       "      <td>-117.0725</td>\n",
       "      <td>-115.8350</td>\n",
       "    </tr>\n",
       "    <tr>\n",
       "      <th>14922</th>\n",
       "      <td>2021-06-30 19:41:04.636000</td>\n",
       "      <td>-117.0725</td>\n",
       "      <td>-113.5625</td>\n",
       "    </tr>\n",
       "  </tbody>\n",
       "</table>\n",
       "<p>14923 rows × 3 columns</p>\n",
       "</div>"
      ],
      "text/plain": [
       "                           MOMENT  twap_pnl  signature_pnl\n",
       "0      2021-02-01 10:01:36.771000 -192.3800      -157.6750\n",
       "1      2021-02-01 10:05:02.883000  -88.0100       -62.9075\n",
       "2      2021-02-01 10:05:11.061000 -279.2000      -266.8175\n",
       "3      2021-02-01 10:05:23.526000 -222.3900      -225.5350\n",
       "4      2021-02-01 10:07:27.929000 -216.8175       -34.4825\n",
       "...                           ...       ...            ...\n",
       "14918  2021-06-30 19:17:20.554000  -93.0650      -112.0950\n",
       "14919  2021-06-30 19:30:16.189000  -79.0625       -96.1300\n",
       "14920  2021-06-30 19:31:46.414000  -94.2200      -112.3450\n",
       "14921  2021-06-30 19:41:04.630000 -117.0725      -115.8350\n",
       "14922  2021-06-30 19:41:04.636000 -117.0725      -113.5625\n",
       "\n",
       "[14923 rows x 3 columns]"
      ]
     },
     "execution_count": 1032,
     "metadata": {},
     "output_type": "execute_result"
    }
   ],
   "source": [
    "df1 = pd.read_sql('''SELECT m.MOMENT, m.PRICE * t.QUANTITY - t.SUM as twap_pnl, m.PRICE * t.QUANTITY - s.SUM as signature_pnl FROM sign.RESULT as s\n",
    "                INNER JOIN twap.RESULT as t\n",
    "                on s.MOMENT = t.MOMENT AND s.SIDE = t.SIDE\n",
    "                INNER JOIN mid.MIDPRICE as m\n",
    "                on m.MOMENT = s.MOMENT\n",
    "                AND s.QUANTITY > 0 AND t.QUANTITY > 0 AND m.PRICE > 0\n",
    "                AND s.SIDE = 'B'\n",
    "            ''', all_sql)\n",
    "\n",
    "df1"
   ]
  },
  {
   "cell_type": "code",
   "execution_count": 1033,
   "metadata": {},
   "outputs": [
    {
     "data": {
      "text/html": [
       "<div>\n",
       "<style scoped>\n",
       "    .dataframe tbody tr th:only-of-type {\n",
       "        vertical-align: middle;\n",
       "    }\n",
       "\n",
       "    .dataframe tbody tr th {\n",
       "        vertical-align: top;\n",
       "    }\n",
       "\n",
       "    .dataframe thead th {\n",
       "        text-align: right;\n",
       "    }\n",
       "</style>\n",
       "<table border=\"1\" class=\"dataframe\">\n",
       "  <thead>\n",
       "    <tr style=\"text-align: right;\">\n",
       "      <th></th>\n",
       "      <th>twap_pnl</th>\n",
       "      <th>signature_pnl</th>\n",
       "    </tr>\n",
       "  </thead>\n",
       "  <tbody>\n",
       "    <tr>\n",
       "      <th>sum</th>\n",
       "      <td>-2.011407e+06</td>\n",
       "      <td>-2.047776e+06</td>\n",
       "    </tr>\n",
       "    <tr>\n",
       "      <th>min</th>\n",
       "      <td>-1.619068e+03</td>\n",
       "      <td>-1.576862e+03</td>\n",
       "    </tr>\n",
       "    <tr>\n",
       "      <th>max</th>\n",
       "      <td>6.713950e+02</td>\n",
       "      <td>1.519245e+03</td>\n",
       "    </tr>\n",
       "    <tr>\n",
       "      <th>mean</th>\n",
       "      <td>-1.347857e+02</td>\n",
       "      <td>-1.372228e+02</td>\n",
       "    </tr>\n",
       "    <tr>\n",
       "      <th>std</th>\n",
       "      <td>9.369620e+01</td>\n",
       "      <td>1.042126e+02</td>\n",
       "    </tr>\n",
       "  </tbody>\n",
       "</table>\n",
       "</div>"
      ],
      "text/plain": [
       "          twap_pnl  signature_pnl\n",
       "sum  -2.011407e+06  -2.047776e+06\n",
       "min  -1.619068e+03  -1.576862e+03\n",
       "max   6.713950e+02   1.519245e+03\n",
       "mean -1.347857e+02  -1.372228e+02\n",
       "std   9.369620e+01   1.042126e+02"
      ]
     },
     "execution_count": 1033,
     "metadata": {},
     "output_type": "execute_result"
    }
   ],
   "source": [
    "df1.agg(['sum', 'min', 'max', 'mean', 'std'])[['twap_pnl', 'signature_pnl']]"
   ]
  },
  {
   "cell_type": "code",
   "execution_count": 1034,
   "metadata": {},
   "outputs": [
    {
     "name": "stdout",
     "output_type": "stream",
     "text": [
      "95% confidence interval: (-136289.11408481558, -133282.2954843083)\n"
     ]
    }
   ],
   "source": [
    "twap_profits = np.array(1000 * df1['twap_pnl'])\n",
    "\n",
    "from statsmodels.stats.weightstats import DescrStatsW \n",
    "print(\"95% confidence interval:\", DescrStatsW(twap_profits).tconfint_mean())"
   ]
  },
  {
   "cell_type": "code",
   "execution_count": 1035,
   "metadata": {},
   "outputs": [
    {
     "name": "stdout",
     "output_type": "stream",
     "text": [
      "95% confidence interval: (-138894.99250647525, -135550.69200736604)\n"
     ]
    }
   ],
   "source": [
    "sign_profits = np.array(1000 * df1['signature_pnl'])\n",
    "\n",
    "from statsmodels.stats.weightstats import DescrStatsW \n",
    "print(\"95% confidence interval:\", DescrStatsW(sign_profits).tconfint_mean())"
   ]
  },
  {
   "cell_type": "markdown",
   "metadata": {},
   "source": [
    "Analysing TWAP/Signature algorithms for sell hedging:"
   ]
  },
  {
   "cell_type": "code",
   "execution_count": 1036,
   "metadata": {},
   "outputs": [
    {
     "data": {
      "text/html": [
       "<div>\n",
       "<style scoped>\n",
       "    .dataframe tbody tr th:only-of-type {\n",
       "        vertical-align: middle;\n",
       "    }\n",
       "\n",
       "    .dataframe tbody tr th {\n",
       "        vertical-align: top;\n",
       "    }\n",
       "\n",
       "    .dataframe thead th {\n",
       "        text-align: right;\n",
       "    }\n",
       "</style>\n",
       "<table border=\"1\" class=\"dataframe\">\n",
       "  <thead>\n",
       "    <tr style=\"text-align: right;\">\n",
       "      <th></th>\n",
       "      <th>MOMENT</th>\n",
       "      <th>twap_pnl</th>\n",
       "      <th>signature_pnl</th>\n",
       "    </tr>\n",
       "  </thead>\n",
       "  <tbody>\n",
       "    <tr>\n",
       "      <th>0</th>\n",
       "      <td>2021-02-01 10:00:09.015000</td>\n",
       "      <td>-644.3750</td>\n",
       "      <td>-349.4250</td>\n",
       "    </tr>\n",
       "    <tr>\n",
       "      <th>1</th>\n",
       "      <td>2021-02-01 10:04:36.332000</td>\n",
       "      <td>-315.7075</td>\n",
       "      <td>-258.2975</td>\n",
       "    </tr>\n",
       "    <tr>\n",
       "      <th>2</th>\n",
       "      <td>2021-02-01 10:04:57.946000</td>\n",
       "      <td>-394.3350</td>\n",
       "      <td>-298.9875</td>\n",
       "    </tr>\n",
       "    <tr>\n",
       "      <th>3</th>\n",
       "      <td>2021-02-01 10:05:19.015000</td>\n",
       "      <td>-143.1375</td>\n",
       "      <td>-8.5450</td>\n",
       "    </tr>\n",
       "    <tr>\n",
       "      <th>4</th>\n",
       "      <td>2021-02-01 10:08:27.788000</td>\n",
       "      <td>-311.9450</td>\n",
       "      <td>-249.0775</td>\n",
       "    </tr>\n",
       "    <tr>\n",
       "      <th>...</th>\n",
       "      <td>...</td>\n",
       "      <td>...</td>\n",
       "      <td>...</td>\n",
       "    </tr>\n",
       "    <tr>\n",
       "      <th>14768</th>\n",
       "      <td>2021-06-30 19:03:41.640000</td>\n",
       "      <td>-84.2250</td>\n",
       "      <td>-136.7300</td>\n",
       "    </tr>\n",
       "    <tr>\n",
       "      <th>14769</th>\n",
       "      <td>2021-06-30 19:05:10.360000</td>\n",
       "      <td>-190.4900</td>\n",
       "      <td>-224.5950</td>\n",
       "    </tr>\n",
       "    <tr>\n",
       "      <th>14770</th>\n",
       "      <td>2021-06-30 19:05:24.713000</td>\n",
       "      <td>-240.3500</td>\n",
       "      <td>-198.8475</td>\n",
       "    </tr>\n",
       "    <tr>\n",
       "      <th>14771</th>\n",
       "      <td>2021-06-30 19:29:14.314000</td>\n",
       "      <td>-118.9050</td>\n",
       "      <td>-141.7750</td>\n",
       "    </tr>\n",
       "    <tr>\n",
       "      <th>14772</th>\n",
       "      <td>2021-06-30 19:40:36.010000</td>\n",
       "      <td>-148.2125</td>\n",
       "      <td>-144.5450</td>\n",
       "    </tr>\n",
       "  </tbody>\n",
       "</table>\n",
       "<p>14773 rows × 3 columns</p>\n",
       "</div>"
      ],
      "text/plain": [
       "                           MOMENT  twap_pnl  signature_pnl\n",
       "0      2021-02-01 10:00:09.015000 -644.3750      -349.4250\n",
       "1      2021-02-01 10:04:36.332000 -315.7075      -258.2975\n",
       "2      2021-02-01 10:04:57.946000 -394.3350      -298.9875\n",
       "3      2021-02-01 10:05:19.015000 -143.1375        -8.5450\n",
       "4      2021-02-01 10:08:27.788000 -311.9450      -249.0775\n",
       "...                           ...       ...            ...\n",
       "14768  2021-06-30 19:03:41.640000  -84.2250      -136.7300\n",
       "14769  2021-06-30 19:05:10.360000 -190.4900      -224.5950\n",
       "14770  2021-06-30 19:05:24.713000 -240.3500      -198.8475\n",
       "14771  2021-06-30 19:29:14.314000 -118.9050      -141.7750\n",
       "14772  2021-06-30 19:40:36.010000 -148.2125      -144.5450\n",
       "\n",
       "[14773 rows x 3 columns]"
      ]
     },
     "execution_count": 1036,
     "metadata": {},
     "output_type": "execute_result"
    }
   ],
   "source": [
    "df2 = pd.read_sql('''SELECT m.MOMENT, t.SUM - m.PRICE * t.QUANTITY as twap_pnl, s.SUM - m.PRICE * t.QUANTITY as signature_pnl FROM sign.RESULT as s\n",
    "                INNER JOIN twap.RESULT as t\n",
    "                on s.MOMENT = t.MOMENT AND s.SIDE = t.SIDE\n",
    "                INNER JOIN mid.MIDPRICE as m\n",
    "                on m.MOMENT = s.MOMENT\n",
    "                AND s.QUANTITY > 0 AND t.QUANTITY > 0 AND m.PRICE > 0\n",
    "                AND s.SIDE = 'S'\n",
    "            ''', all_sql)\n",
    "\n",
    "df2"
   ]
  },
  {
   "cell_type": "code",
   "execution_count": 1037,
   "metadata": {},
   "outputs": [
    {
     "data": {
      "text/html": [
       "<div>\n",
       "<style scoped>\n",
       "    .dataframe tbody tr th:only-of-type {\n",
       "        vertical-align: middle;\n",
       "    }\n",
       "\n",
       "    .dataframe tbody tr th {\n",
       "        vertical-align: top;\n",
       "    }\n",
       "\n",
       "    .dataframe thead th {\n",
       "        text-align: right;\n",
       "    }\n",
       "</style>\n",
       "<table border=\"1\" class=\"dataframe\">\n",
       "  <thead>\n",
       "    <tr style=\"text-align: right;\">\n",
       "      <th></th>\n",
       "      <th>twap_pnl</th>\n",
       "      <th>signature_pnl</th>\n",
       "    </tr>\n",
       "  </thead>\n",
       "  <tbody>\n",
       "    <tr>\n",
       "      <th>sum</th>\n",
       "      <td>-2.061596e+06</td>\n",
       "      <td>-2.099519e+06</td>\n",
       "    </tr>\n",
       "    <tr>\n",
       "      <th>min</th>\n",
       "      <td>-1.224490e+03</td>\n",
       "      <td>-1.769285e+03</td>\n",
       "    </tr>\n",
       "    <tr>\n",
       "      <th>max</th>\n",
       "      <td>9.007700e+02</td>\n",
       "      <td>1.035713e+03</td>\n",
       "    </tr>\n",
       "    <tr>\n",
       "      <th>mean</th>\n",
       "      <td>-1.395516e+02</td>\n",
       "      <td>-1.421187e+02</td>\n",
       "    </tr>\n",
       "    <tr>\n",
       "      <th>std</th>\n",
       "      <td>8.999216e+01</td>\n",
       "      <td>9.230369e+01</td>\n",
       "    </tr>\n",
       "  </tbody>\n",
       "</table>\n",
       "</div>"
      ],
      "text/plain": [
       "          twap_pnl  signature_pnl\n",
       "sum  -2.061596e+06  -2.099519e+06\n",
       "min  -1.224490e+03  -1.769285e+03\n",
       "max   9.007700e+02   1.035713e+03\n",
       "mean -1.395516e+02  -1.421187e+02\n",
       "std   8.999216e+01   9.230369e+01"
      ]
     },
     "execution_count": 1037,
     "metadata": {},
     "output_type": "execute_result"
    }
   ],
   "source": [
    "df2.agg(['sum', 'min', 'max', 'mean', 'std'])[['twap_pnl', 'signature_pnl']]"
   ]
  },
  {
   "cell_type": "code",
   "execution_count": 1038,
   "metadata": {},
   "outputs": [
    {
     "name": "stdout",
     "output_type": "stream",
     "text": [
      "95% confidence interval: (-141002.90478073191, -138100.3261134661)\n"
     ]
    }
   ],
   "source": [
    "twap_profits = np.array(1000 * df2['twap_pnl'])\n",
    "\n",
    "from statsmodels.stats.weightstats import DescrStatsW \n",
    "print(\"95% confidence interval:\", DescrStatsW(twap_profits).tconfint_mean())"
   ]
  },
  {
   "cell_type": "code",
   "execution_count": 1039,
   "metadata": {},
   "outputs": [
    {
     "name": "stdout",
     "output_type": "stream",
     "text": [
      "95% confidence interval: (-143607.24007510592, -140630.10609696317)\n"
     ]
    }
   ],
   "source": [
    "sign_profits = np.array(1000 * df2['signature_pnl'])\n",
    "\n",
    "from statsmodels.stats.weightstats import DescrStatsW \n",
    "print(\"95% confidence interval:\", DescrStatsW(sign_profits).tconfint_mean())"
   ]
  },
  {
   "cell_type": "markdown",
   "metadata": {},
   "source": [
    "We can't definitely say that signature works better than TWAP,\n",
    "so let's use more accurate t-test for pairs:"
   ]
  },
  {
   "cell_type": "code",
   "execution_count": 1040,
   "metadata": {},
   "outputs": [
    {
     "data": {
      "text/plain": [
       "Ttest_relResult(statistic=-4.259885558974294, pvalue=2.0579760160828642e-05)"
      ]
     },
     "execution_count": 1040,
     "metadata": {},
     "output_type": "execute_result"
    }
   ],
   "source": [
    "sc.stats.ttest_rel(df2['signature_pnl'], df2['twap_pnl'])"
   ]
  },
  {
   "cell_type": "code",
   "execution_count": 1041,
   "metadata": {},
   "outputs": [
    {
     "data": {
      "text/plain": [
       "Ttest_relResult(statistic=-3.578244829812668, pvalue=0.00034700545680469607)"
      ]
     },
     "execution_count": 1041,
     "metadata": {},
     "output_type": "execute_result"
    }
   ],
   "source": [
    "sc.stats.ttest_rel(df1['signature_pnl'], df1['twap_pnl'])"
   ]
  },
  {
   "cell_type": "code",
   "execution_count": 1042,
   "metadata": {},
   "outputs": [],
   "source": [
    "cursorObject.close()\n",
    "all_sql.close()"
   ]
  },
  {
   "cell_type": "markdown",
   "metadata": {},
   "source": [
    "Collect information:"
   ]
  },
  {
   "cell_type": "code",
   "execution_count": 1043,
   "metadata": {},
   "outputs": [],
   "source": [
    "__f = pd.concat([df1, df2], axis=0)\n",
    "\n",
    "df_data['experiment_4'] = [DescrStatsW(__f['twap_pnl']).tconfint_mean(), DescrStatsW(__f['signature_pnl']).tconfint_mean(), 10000, 'toxic', '5_by_20%']"
   ]
  },
  {
   "cell_type": "markdown",
   "metadata": {},
   "source": [
    "# My Experiment 5"
   ]
  },
  {
   "cell_type": "code",
   "execution_count": 1044,
   "metadata": {},
   "outputs": [],
   "source": [
    "MID_PATH = '../0_CommonFiles/mid.db3'\n",
    "TWAP_PATH = '../7_Experiment5/twap.db3'\n",
    "SIGNATURE_PATH = '../7_Experiment5/signature.db3'"
   ]
  },
  {
   "cell_type": "code",
   "execution_count": 1045,
   "metadata": {},
   "outputs": [],
   "source": [
    "all_sql = sqlite3.connect('')"
   ]
  },
  {
   "cell_type": "code",
   "execution_count": 1046,
   "metadata": {},
   "outputs": [],
   "source": [
    "cursorObject = all_sql.cursor()"
   ]
  },
  {
   "cell_type": "code",
   "execution_count": 1047,
   "metadata": {},
   "outputs": [],
   "source": [
    "attach(cursorObject, MID_PATH, 'mid')\n",
    "attach(cursorObject, TWAP_PATH, 'twap')\n",
    "attach(cursorObject, SIGNATURE_PATH, 'sign')"
   ]
  },
  {
   "cell_type": "markdown",
   "metadata": {},
   "source": [
    "Analysing TWAP/Signature algorithms for buy hedging:"
   ]
  },
  {
   "cell_type": "code",
   "execution_count": 1048,
   "metadata": {},
   "outputs": [
    {
     "data": {
      "text/html": [
       "<div>\n",
       "<style scoped>\n",
       "    .dataframe tbody tr th:only-of-type {\n",
       "        vertical-align: middle;\n",
       "    }\n",
       "\n",
       "    .dataframe tbody tr th {\n",
       "        vertical-align: top;\n",
       "    }\n",
       "\n",
       "    .dataframe thead th {\n",
       "        text-align: right;\n",
       "    }\n",
       "</style>\n",
       "<table border=\"1\" class=\"dataframe\">\n",
       "  <thead>\n",
       "    <tr style=\"text-align: right;\">\n",
       "      <th></th>\n",
       "      <th>MOMENT</th>\n",
       "      <th>twap_pnl</th>\n",
       "      <th>signature_pnl</th>\n",
       "    </tr>\n",
       "  </thead>\n",
       "  <tbody>\n",
       "    <tr>\n",
       "      <th>0</th>\n",
       "      <td>2021-02-01 18:10:15.611222</td>\n",
       "      <td>-10.3800</td>\n",
       "      <td>3.75</td>\n",
       "    </tr>\n",
       "    <tr>\n",
       "      <th>1</th>\n",
       "      <td>2021-02-01 22:20:17.074682</td>\n",
       "      <td>2.5000</td>\n",
       "      <td>0.50</td>\n",
       "    </tr>\n",
       "    <tr>\n",
       "      <th>2</th>\n",
       "      <td>2021-02-01 23:31:08.196003</td>\n",
       "      <td>-16.4950</td>\n",
       "      <td>-12.75</td>\n",
       "    </tr>\n",
       "    <tr>\n",
       "      <th>3</th>\n",
       "      <td>2021-02-01 13:23:14.931749</td>\n",
       "      <td>0.7750</td>\n",
       "      <td>3.25</td>\n",
       "    </tr>\n",
       "    <tr>\n",
       "      <th>4</th>\n",
       "      <td>2021-02-01 13:31:09.506345</td>\n",
       "      <td>3.5775</td>\n",
       "      <td>3.50</td>\n",
       "    </tr>\n",
       "    <tr>\n",
       "      <th>...</th>\n",
       "      <td>...</td>\n",
       "      <td>...</td>\n",
       "      <td>...</td>\n",
       "    </tr>\n",
       "    <tr>\n",
       "      <th>2698</th>\n",
       "      <td>2021-10-06 16:22:34.587892</td>\n",
       "      <td>-5.3025</td>\n",
       "      <td>-14.75</td>\n",
       "    </tr>\n",
       "    <tr>\n",
       "      <th>2699</th>\n",
       "      <td>2021-10-06 16:32:02.367660</td>\n",
       "      <td>7.3000</td>\n",
       "      <td>32.00</td>\n",
       "    </tr>\n",
       "    <tr>\n",
       "      <th>2700</th>\n",
       "      <td>2021-10-06 15:11:23.178082</td>\n",
       "      <td>-0.3750</td>\n",
       "      <td>1.75</td>\n",
       "    </tr>\n",
       "    <tr>\n",
       "      <th>2701</th>\n",
       "      <td>2021-10-06 15:22:44.063087</td>\n",
       "      <td>14.2400</td>\n",
       "      <td>21.00</td>\n",
       "    </tr>\n",
       "    <tr>\n",
       "      <th>2702</th>\n",
       "      <td>2021-10-06 15:34:35.640399</td>\n",
       "      <td>5.2425</td>\n",
       "      <td>3.00</td>\n",
       "    </tr>\n",
       "  </tbody>\n",
       "</table>\n",
       "<p>2703 rows × 3 columns</p>\n",
       "</div>"
      ],
      "text/plain": [
       "                          MOMENT  twap_pnl  signature_pnl\n",
       "0     2021-02-01 18:10:15.611222  -10.3800           3.75\n",
       "1     2021-02-01 22:20:17.074682    2.5000           0.50\n",
       "2     2021-02-01 23:31:08.196003  -16.4950         -12.75\n",
       "3     2021-02-01 13:23:14.931749    0.7750           3.25\n",
       "4     2021-02-01 13:31:09.506345    3.5775           3.50\n",
       "...                          ...       ...            ...\n",
       "2698  2021-10-06 16:22:34.587892   -5.3025         -14.75\n",
       "2699  2021-10-06 16:32:02.367660    7.3000          32.00\n",
       "2700  2021-10-06 15:11:23.178082   -0.3750           1.75\n",
       "2701  2021-10-06 15:22:44.063087   14.2400          21.00\n",
       "2702  2021-10-06 15:34:35.640399    5.2425           3.00\n",
       "\n",
       "[2703 rows x 3 columns]"
      ]
     },
     "execution_count": 1048,
     "metadata": {},
     "output_type": "execute_result"
    }
   ],
   "source": [
    "df1 = pd.read_sql('''SELECT m.MOMENT, m.PRICE * t.QUANTITY - t.SUM as twap_pnl, m.PRICE * t.QUANTITY - s.SUM as signature_pnl FROM sign.RESULT as s\n",
    "                INNER JOIN twap.RESULT as t\n",
    "                on s.MOMENT = t.MOMENT AND s.SIDE = t.SIDE\n",
    "                INNER JOIN mid.MIDPRICE as m\n",
    "                on m.MOMENT = s.MOMENT\n",
    "                AND s.QUANTITY > 0 AND t.QUANTITY > 0 AND m.PRICE > 0\n",
    "                AND s.SIDE = 'B'\n",
    "            ''', all_sql)\n",
    "\n",
    "df1"
   ]
  },
  {
   "cell_type": "code",
   "execution_count": 1049,
   "metadata": {},
   "outputs": [
    {
     "data": {
      "text/html": [
       "<div>\n",
       "<style scoped>\n",
       "    .dataframe tbody tr th:only-of-type {\n",
       "        vertical-align: middle;\n",
       "    }\n",
       "\n",
       "    .dataframe tbody tr th {\n",
       "        vertical-align: top;\n",
       "    }\n",
       "\n",
       "    .dataframe thead th {\n",
       "        text-align: right;\n",
       "    }\n",
       "</style>\n",
       "<table border=\"1\" class=\"dataframe\">\n",
       "  <thead>\n",
       "    <tr style=\"text-align: right;\">\n",
       "      <th></th>\n",
       "      <th>twap_pnl</th>\n",
       "      <th>signature_pnl</th>\n",
       "    </tr>\n",
       "  </thead>\n",
       "  <tbody>\n",
       "    <tr>\n",
       "      <th>sum</th>\n",
       "      <td>-12128.645000</td>\n",
       "      <td>-9803.000000</td>\n",
       "    </tr>\n",
       "    <tr>\n",
       "      <th>min</th>\n",
       "      <td>-49.035000</td>\n",
       "      <td>-196.000000</td>\n",
       "    </tr>\n",
       "    <tr>\n",
       "      <th>max</th>\n",
       "      <td>44.465000</td>\n",
       "      <td>55.500000</td>\n",
       "    </tr>\n",
       "    <tr>\n",
       "      <th>mean</th>\n",
       "      <td>-4.487105</td>\n",
       "      <td>-3.626711</td>\n",
       "    </tr>\n",
       "    <tr>\n",
       "      <th>std</th>\n",
       "      <td>6.720531</td>\n",
       "      <td>11.606779</td>\n",
       "    </tr>\n",
       "  </tbody>\n",
       "</table>\n",
       "</div>"
      ],
      "text/plain": [
       "          twap_pnl  signature_pnl\n",
       "sum  -12128.645000   -9803.000000\n",
       "min     -49.035000    -196.000000\n",
       "max      44.465000      55.500000\n",
       "mean     -4.487105      -3.626711\n",
       "std       6.720531      11.606779"
      ]
     },
     "execution_count": 1049,
     "metadata": {},
     "output_type": "execute_result"
    }
   ],
   "source": [
    "df1.agg(['sum', 'min', 'max', 'mean', 'std'])[['twap_pnl', 'signature_pnl']]"
   ]
  },
  {
   "cell_type": "code",
   "execution_count": 1050,
   "metadata": {},
   "outputs": [
    {
     "name": "stdout",
     "output_type": "stream",
     "text": [
      "95% confidence interval: (-4740.573114976838, -4233.637021908407)\n"
     ]
    }
   ],
   "source": [
    "twap_profits = np.array(1000 * df1['twap_pnl'])\n",
    "\n",
    "from statsmodels.stats.weightstats import DescrStatsW \n",
    "print(\"95% confidence interval:\", DescrStatsW(twap_profits).tconfint_mean())"
   ]
  },
  {
   "cell_type": "code",
   "execution_count": 1051,
   "metadata": {},
   "outputs": [
    {
     "name": "stdout",
     "output_type": "stream",
     "text": [
      "95% confidence interval: (-4064.4663356779643, -3188.955787888595)\n"
     ]
    }
   ],
   "source": [
    "sign_profits = np.array(1000 * df1['signature_pnl'])\n",
    "\n",
    "from statsmodels.stats.weightstats import DescrStatsW \n",
    "print(\"95% confidence interval:\", DescrStatsW(sign_profits).tconfint_mean())"
   ]
  },
  {
   "cell_type": "markdown",
   "metadata": {},
   "source": [
    "Analysing TWAP/Signature algorithms for sell hedging:"
   ]
  },
  {
   "cell_type": "code",
   "execution_count": 1052,
   "metadata": {},
   "outputs": [
    {
     "data": {
      "text/html": [
       "<div>\n",
       "<style scoped>\n",
       "    .dataframe tbody tr th:only-of-type {\n",
       "        vertical-align: middle;\n",
       "    }\n",
       "\n",
       "    .dataframe tbody tr th {\n",
       "        vertical-align: top;\n",
       "    }\n",
       "\n",
       "    .dataframe thead th {\n",
       "        text-align: right;\n",
       "    }\n",
       "</style>\n",
       "<table border=\"1\" class=\"dataframe\">\n",
       "  <thead>\n",
       "    <tr style=\"text-align: right;\">\n",
       "      <th></th>\n",
       "      <th>MOMENT</th>\n",
       "      <th>twap_pnl</th>\n",
       "      <th>signature_pnl</th>\n",
       "    </tr>\n",
       "  </thead>\n",
       "  <tbody>\n",
       "    <tr>\n",
       "      <th>0</th>\n",
       "      <td>2021-02-01 18:10:15.611222</td>\n",
       "      <td>1.6575</td>\n",
       "      <td>-10.50</td>\n",
       "    </tr>\n",
       "    <tr>\n",
       "      <th>1</th>\n",
       "      <td>2021-02-01 22:20:17.074682</td>\n",
       "      <td>-11.1350</td>\n",
       "      <td>-6.00</td>\n",
       "    </tr>\n",
       "    <tr>\n",
       "      <th>2</th>\n",
       "      <td>2021-02-01 23:31:08.196003</td>\n",
       "      <td>3.5300</td>\n",
       "      <td>2.00</td>\n",
       "    </tr>\n",
       "    <tr>\n",
       "      <th>3</th>\n",
       "      <td>2021-02-01 13:23:14.931749</td>\n",
       "      <td>-7.7325</td>\n",
       "      <td>-9.00</td>\n",
       "    </tr>\n",
       "    <tr>\n",
       "      <th>4</th>\n",
       "      <td>2021-02-01 13:31:09.506345</td>\n",
       "      <td>-12.6200</td>\n",
       "      <td>-8.50</td>\n",
       "    </tr>\n",
       "    <tr>\n",
       "      <th>...</th>\n",
       "      <td>...</td>\n",
       "      <td>...</td>\n",
       "      <td>...</td>\n",
       "    </tr>\n",
       "    <tr>\n",
       "      <th>2698</th>\n",
       "      <td>2021-10-06 16:22:34.587892</td>\n",
       "      <td>-3.0000</td>\n",
       "      <td>8.25</td>\n",
       "    </tr>\n",
       "    <tr>\n",
       "      <th>2699</th>\n",
       "      <td>2021-10-06 16:32:02.367660</td>\n",
       "      <td>-16.1250</td>\n",
       "      <td>-38.00</td>\n",
       "    </tr>\n",
       "    <tr>\n",
       "      <th>2700</th>\n",
       "      <td>2021-10-06 15:11:23.178082</td>\n",
       "      <td>-8.9550</td>\n",
       "      <td>-9.75</td>\n",
       "    </tr>\n",
       "    <tr>\n",
       "      <th>2701</th>\n",
       "      <td>2021-10-06 15:22:44.063087</td>\n",
       "      <td>-20.7500</td>\n",
       "      <td>-26.00</td>\n",
       "    </tr>\n",
       "    <tr>\n",
       "      <th>2702</th>\n",
       "      <td>2021-10-06 15:34:35.640399</td>\n",
       "      <td>-13.5025</td>\n",
       "      <td>-9.50</td>\n",
       "    </tr>\n",
       "  </tbody>\n",
       "</table>\n",
       "<p>2703 rows × 3 columns</p>\n",
       "</div>"
      ],
      "text/plain": [
       "                          MOMENT  twap_pnl  signature_pnl\n",
       "0     2021-02-01 18:10:15.611222    1.6575         -10.50\n",
       "1     2021-02-01 22:20:17.074682  -11.1350          -6.00\n",
       "2     2021-02-01 23:31:08.196003    3.5300           2.00\n",
       "3     2021-02-01 13:23:14.931749   -7.7325          -9.00\n",
       "4     2021-02-01 13:31:09.506345  -12.6200          -8.50\n",
       "...                          ...       ...            ...\n",
       "2698  2021-10-06 16:22:34.587892   -3.0000           8.25\n",
       "2699  2021-10-06 16:32:02.367660  -16.1250         -38.00\n",
       "2700  2021-10-06 15:11:23.178082   -8.9550          -9.75\n",
       "2701  2021-10-06 15:22:44.063087  -20.7500         -26.00\n",
       "2702  2021-10-06 15:34:35.640399  -13.5025          -9.50\n",
       "\n",
       "[2703 rows x 3 columns]"
      ]
     },
     "execution_count": 1052,
     "metadata": {},
     "output_type": "execute_result"
    }
   ],
   "source": [
    "df2 = pd.read_sql('''SELECT m.MOMENT, t.SUM - m.PRICE * t.QUANTITY as twap_pnl, s.SUM - m.PRICE * t.QUANTITY as signature_pnl FROM sign.RESULT as s\n",
    "                INNER JOIN twap.RESULT as t\n",
    "                on s.MOMENT = t.MOMENT AND s.SIDE = t.SIDE\n",
    "                INNER JOIN mid.MIDPRICE as m\n",
    "                on m.MOMENT = s.MOMENT\n",
    "                AND s.QUANTITY > 0 AND t.QUANTITY > 0 AND m.PRICE > 0\n",
    "                AND s.SIDE = 'S'\n",
    "            ''', all_sql)\n",
    "\n",
    "df2"
   ]
  },
  {
   "cell_type": "code",
   "execution_count": 1053,
   "metadata": {},
   "outputs": [
    {
     "data": {
      "text/html": [
       "<div>\n",
       "<style scoped>\n",
       "    .dataframe tbody tr th:only-of-type {\n",
       "        vertical-align: middle;\n",
       "    }\n",
       "\n",
       "    .dataframe tbody tr th {\n",
       "        vertical-align: top;\n",
       "    }\n",
       "\n",
       "    .dataframe thead th {\n",
       "        text-align: right;\n",
       "    }\n",
       "</style>\n",
       "<table border=\"1\" class=\"dataframe\">\n",
       "  <thead>\n",
       "    <tr style=\"text-align: right;\">\n",
       "      <th></th>\n",
       "      <th>twap_pnl</th>\n",
       "      <th>signature_pnl</th>\n",
       "    </tr>\n",
       "  </thead>\n",
       "  <tbody>\n",
       "    <tr>\n",
       "      <th>sum</th>\n",
       "      <td>-12701.187500</td>\n",
       "      <td>-10336.250000</td>\n",
       "    </tr>\n",
       "    <tr>\n",
       "      <th>min</th>\n",
       "      <td>-58.362500</td>\n",
       "      <td>-65.250000</td>\n",
       "    </tr>\n",
       "    <tr>\n",
       "      <th>max</th>\n",
       "      <td>31.750000</td>\n",
       "      <td>186.250000</td>\n",
       "    </tr>\n",
       "    <tr>\n",
       "      <th>mean</th>\n",
       "      <td>-4.698922</td>\n",
       "      <td>-3.823992</td>\n",
       "    </tr>\n",
       "    <tr>\n",
       "      <th>std</th>\n",
       "      <td>6.774072</td>\n",
       "      <td>11.488317</td>\n",
       "    </tr>\n",
       "  </tbody>\n",
       "</table>\n",
       "</div>"
      ],
      "text/plain": [
       "          twap_pnl  signature_pnl\n",
       "sum  -12701.187500  -10336.250000\n",
       "min     -58.362500     -65.250000\n",
       "max      31.750000     186.250000\n",
       "mean     -4.698922      -3.823992\n",
       "std       6.774072      11.488317"
      ]
     },
     "execution_count": 1053,
     "metadata": {},
     "output_type": "execute_result"
    }
   ],
   "source": [
    "df2.agg(['sum', 'min', 'max', 'mean', 'std'])[['twap_pnl', 'signature_pnl']]"
   ]
  },
  {
   "cell_type": "code",
   "execution_count": 1054,
   "metadata": {},
   "outputs": [
    {
     "name": "stdout",
     "output_type": "stream",
     "text": [
      "95% confidence interval: (-4954.40988003455, -4443.435107016455)\n"
     ]
    }
   ],
   "source": [
    "twap_profits = np.array(1000 * df2['twap_pnl'])\n",
    "\n",
    "from statsmodels.stats.weightstats import DescrStatsW \n",
    "print(\"95% confidence interval:\", DescrStatsW(twap_profits).tconfint_mean())"
   ]
  },
  {
   "cell_type": "code",
   "execution_count": 1055,
   "metadata": {},
   "outputs": [
    {
     "name": "stdout",
     "output_type": "stream",
     "text": [
      "95% confidence interval: (-4257.279270501713, -3390.7044512888583)\n"
     ]
    }
   ],
   "source": [
    "sign_profits = np.array(1000 * df2['signature_pnl'])\n",
    "\n",
    "from statsmodels.stats.weightstats import DescrStatsW \n",
    "print(\"95% confidence interval:\", DescrStatsW(sign_profits).tconfint_mean())"
   ]
  },
  {
   "cell_type": "code",
   "execution_count": 1056,
   "metadata": {},
   "outputs": [],
   "source": [
    "cursorObject.close()\n",
    "all_sql.close()"
   ]
  },
  {
   "cell_type": "markdown",
   "metadata": {},
   "source": [
    "Collect information:"
   ]
  },
  {
   "cell_type": "code",
   "execution_count": 1057,
   "metadata": {},
   "outputs": [],
   "source": [
    "__f = pd.concat([df1, df2], axis=0)\n",
    "\n",
    "df_data['experiment_5'] = [DescrStatsW(__f['twap_pnl']).tconfint_mean(), DescrStatsW(__f['signature_pnl']).tconfint_mean(), 1000, 'public', '5_by_20%']"
   ]
  },
  {
   "cell_type": "markdown",
   "metadata": {},
   "source": [
    "# My Experiment 6"
   ]
  },
  {
   "cell_type": "code",
   "execution_count": 1058,
   "metadata": {},
   "outputs": [],
   "source": [
    "MID_PATH = '../0_CommonFiles/mid.db3'\n",
    "TWAP_PATH = '../8_Experiment6/twap.db3'\n",
    "SIGNATURE_PATH = '../8_Experiment6/signature.db3'"
   ]
  },
  {
   "cell_type": "code",
   "execution_count": 1059,
   "metadata": {},
   "outputs": [],
   "source": [
    "all_sql = sqlite3.connect('')"
   ]
  },
  {
   "cell_type": "code",
   "execution_count": 1060,
   "metadata": {},
   "outputs": [],
   "source": [
    "cursorObject = all_sql.cursor()"
   ]
  },
  {
   "cell_type": "code",
   "execution_count": 1061,
   "metadata": {},
   "outputs": [],
   "source": [
    "attach(cursorObject, MID_PATH, 'mid')\n",
    "attach(cursorObject, TWAP_PATH, 'twap')\n",
    "attach(cursorObject, SIGNATURE_PATH, 'sign')"
   ]
  },
  {
   "cell_type": "markdown",
   "metadata": {},
   "source": [
    "Analysing TWAP/Signature algorithms for buy hedging:"
   ]
  },
  {
   "cell_type": "code",
   "execution_count": 1062,
   "metadata": {},
   "outputs": [
    {
     "data": {
      "text/html": [
       "<div>\n",
       "<style scoped>\n",
       "    .dataframe tbody tr th:only-of-type {\n",
       "        vertical-align: middle;\n",
       "    }\n",
       "\n",
       "    .dataframe tbody tr th {\n",
       "        vertical-align: top;\n",
       "    }\n",
       "\n",
       "    .dataframe thead th {\n",
       "        text-align: right;\n",
       "    }\n",
       "</style>\n",
       "<table border=\"1\" class=\"dataframe\">\n",
       "  <thead>\n",
       "    <tr style=\"text-align: right;\">\n",
       "      <th></th>\n",
       "      <th>MOMENT</th>\n",
       "      <th>twap_pnl</th>\n",
       "      <th>signature_pnl</th>\n",
       "    </tr>\n",
       "  </thead>\n",
       "  <tbody>\n",
       "    <tr>\n",
       "      <th>0</th>\n",
       "      <td>2021-02-01 18:10:15.611222</td>\n",
       "      <td>-60.6325</td>\n",
       "      <td>18.75</td>\n",
       "    </tr>\n",
       "    <tr>\n",
       "      <th>1</th>\n",
       "      <td>2021-02-01 22:20:17.074682</td>\n",
       "      <td>1.4600</td>\n",
       "      <td>2.50</td>\n",
       "    </tr>\n",
       "    <tr>\n",
       "      <th>2</th>\n",
       "      <td>2021-02-01 23:31:08.196003</td>\n",
       "      <td>-93.3000</td>\n",
       "      <td>-63.75</td>\n",
       "    </tr>\n",
       "    <tr>\n",
       "      <th>3</th>\n",
       "      <td>2021-02-01 13:23:14.931749</td>\n",
       "      <td>-12.1075</td>\n",
       "      <td>16.25</td>\n",
       "    </tr>\n",
       "    <tr>\n",
       "      <th>4</th>\n",
       "      <td>2021-02-01 13:31:09.506345</td>\n",
       "      <td>-3.3875</td>\n",
       "      <td>17.50</td>\n",
       "    </tr>\n",
       "    <tr>\n",
       "      <th>...</th>\n",
       "      <td>...</td>\n",
       "      <td>...</td>\n",
       "      <td>...</td>\n",
       "    </tr>\n",
       "    <tr>\n",
       "      <th>2698</th>\n",
       "      <td>2021-10-06 16:22:34.587892</td>\n",
       "      <td>-37.1525</td>\n",
       "      <td>-73.75</td>\n",
       "    </tr>\n",
       "    <tr>\n",
       "      <th>2699</th>\n",
       "      <td>2021-10-06 16:32:02.367660</td>\n",
       "      <td>24.6250</td>\n",
       "      <td>160.00</td>\n",
       "    </tr>\n",
       "    <tr>\n",
       "      <th>2700</th>\n",
       "      <td>2021-10-06 15:11:23.178082</td>\n",
       "      <td>-11.4100</td>\n",
       "      <td>8.75</td>\n",
       "    </tr>\n",
       "    <tr>\n",
       "      <th>2701</th>\n",
       "      <td>2021-10-06 15:22:44.063087</td>\n",
       "      <td>57.8550</td>\n",
       "      <td>105.00</td>\n",
       "    </tr>\n",
       "    <tr>\n",
       "      <th>2702</th>\n",
       "      <td>2021-10-06 15:34:35.640399</td>\n",
       "      <td>14.6550</td>\n",
       "      <td>15.00</td>\n",
       "    </tr>\n",
       "  </tbody>\n",
       "</table>\n",
       "<p>2703 rows × 3 columns</p>\n",
       "</div>"
      ],
      "text/plain": [
       "                          MOMENT  twap_pnl  signature_pnl\n",
       "0     2021-02-01 18:10:15.611222  -60.6325          18.75\n",
       "1     2021-02-01 22:20:17.074682    1.4600           2.50\n",
       "2     2021-02-01 23:31:08.196003  -93.3000         -63.75\n",
       "3     2021-02-01 13:23:14.931749  -12.1075          16.25\n",
       "4     2021-02-01 13:31:09.506345   -3.3875          17.50\n",
       "...                          ...       ...            ...\n",
       "2698  2021-10-06 16:22:34.587892  -37.1525         -73.75\n",
       "2699  2021-10-06 16:32:02.367660   24.6250         160.00\n",
       "2700  2021-10-06 15:11:23.178082  -11.4100           8.75\n",
       "2701  2021-10-06 15:22:44.063087   57.8550         105.00\n",
       "2702  2021-10-06 15:34:35.640399   14.6550          15.00\n",
       "\n",
       "[2703 rows x 3 columns]"
      ]
     },
     "execution_count": 1062,
     "metadata": {},
     "output_type": "execute_result"
    }
   ],
   "source": [
    "df1 = pd.read_sql('''SELECT m.MOMENT, m.PRICE * t.QUANTITY - t.SUM as twap_pnl, m.PRICE * t.QUANTITY - s.SUM as signature_pnl FROM sign.RESULT as s\n",
    "                INNER JOIN twap.RESULT as t\n",
    "                on s.MOMENT = t.MOMENT AND s.SIDE = t.SIDE\n",
    "                INNER JOIN mid.MIDPRICE as m\n",
    "                on m.MOMENT = s.MOMENT\n",
    "                AND s.QUANTITY > 0 AND t.QUANTITY > 0 AND m.PRICE > 0\n",
    "                AND s.SIDE = 'B'\n",
    "            ''', all_sql)\n",
    "\n",
    "df1"
   ]
  },
  {
   "cell_type": "code",
   "execution_count": 1063,
   "metadata": {},
   "outputs": [
    {
     "data": {
      "text/html": [
       "<div>\n",
       "<style scoped>\n",
       "    .dataframe tbody tr th:only-of-type {\n",
       "        vertical-align: middle;\n",
       "    }\n",
       "\n",
       "    .dataframe tbody tr th {\n",
       "        vertical-align: top;\n",
       "    }\n",
       "\n",
       "    .dataframe thead th {\n",
       "        text-align: right;\n",
       "    }\n",
       "</style>\n",
       "<table border=\"1\" class=\"dataframe\">\n",
       "  <thead>\n",
       "    <tr style=\"text-align: right;\">\n",
       "      <th></th>\n",
       "      <th>twap_pnl</th>\n",
       "      <th>signature_pnl</th>\n",
       "    </tr>\n",
       "  </thead>\n",
       "  <tbody>\n",
       "    <tr>\n",
       "      <th>sum</th>\n",
       "      <td>-98334.015000</td>\n",
       "      <td>-49015.000000</td>\n",
       "    </tr>\n",
       "    <tr>\n",
       "      <th>min</th>\n",
       "      <td>-282.247500</td>\n",
       "      <td>-980.000000</td>\n",
       "    </tr>\n",
       "    <tr>\n",
       "      <th>max</th>\n",
       "      <td>194.717500</td>\n",
       "      <td>277.500000</td>\n",
       "    </tr>\n",
       "    <tr>\n",
       "      <th>mean</th>\n",
       "      <td>-36.379584</td>\n",
       "      <td>-18.133555</td>\n",
       "    </tr>\n",
       "    <tr>\n",
       "      <th>std</th>\n",
       "      <td>34.831721</td>\n",
       "      <td>58.033897</td>\n",
       "    </tr>\n",
       "  </tbody>\n",
       "</table>\n",
       "</div>"
      ],
      "text/plain": [
       "          twap_pnl  signature_pnl\n",
       "sum  -98334.015000  -49015.000000\n",
       "min    -282.247500    -980.000000\n",
       "max     194.717500     277.500000\n",
       "mean    -36.379584     -18.133555\n",
       "std      34.831721      58.033897"
      ]
     },
     "execution_count": 1063,
     "metadata": {},
     "output_type": "execute_result"
    }
   ],
   "source": [
    "df1.agg(['sum', 'min', 'max', 'mean', 'std'])[['twap_pnl', 'signature_pnl']]"
   ]
  },
  {
   "cell_type": "code",
   "execution_count": 1064,
   "metadata": {},
   "outputs": [
    {
     "name": "stdout",
     "output_type": "stream",
     "text": [
      "95% confidence interval: (-37693.2789123625, -35065.88867920282)\n"
     ]
    }
   ],
   "source": [
    "twap_profits = np.array(1000 * df1['twap_pnl'])\n",
    "\n",
    "from statsmodels.stats.weightstats import DescrStatsW \n",
    "print(\"95% confidence interval:\", DescrStatsW(twap_profits).tconfint_mean())"
   ]
  },
  {
   "cell_type": "code",
   "execution_count": 1065,
   "metadata": {},
   "outputs": [
    {
     "name": "stdout",
     "output_type": "stream",
     "text": [
      "95% confidence interval: (-20322.33167838968, -15944.778939442791)\n"
     ]
    }
   ],
   "source": [
    "sign_profits = np.array(1000 * df1['signature_pnl'])\n",
    "\n",
    "from statsmodels.stats.weightstats import DescrStatsW \n",
    "print(\"95% confidence interval:\", DescrStatsW(sign_profits).tconfint_mean())"
   ]
  },
  {
   "cell_type": "markdown",
   "metadata": {},
   "source": [
    "Analysing TWAP/Signature algorithms for sell hedging:"
   ]
  },
  {
   "cell_type": "code",
   "execution_count": 1066,
   "metadata": {},
   "outputs": [
    {
     "data": {
      "text/html": [
       "<div>\n",
       "<style scoped>\n",
       "    .dataframe tbody tr th:only-of-type {\n",
       "        vertical-align: middle;\n",
       "    }\n",
       "\n",
       "    .dataframe tbody tr th {\n",
       "        vertical-align: top;\n",
       "    }\n",
       "\n",
       "    .dataframe thead th {\n",
       "        text-align: right;\n",
       "    }\n",
       "</style>\n",
       "<table border=\"1\" class=\"dataframe\">\n",
       "  <thead>\n",
       "    <tr style=\"text-align: right;\">\n",
       "      <th></th>\n",
       "      <th>MOMENT</th>\n",
       "      <th>twap_pnl</th>\n",
       "      <th>signature_pnl</th>\n",
       "    </tr>\n",
       "  </thead>\n",
       "  <tbody>\n",
       "    <tr>\n",
       "      <th>0</th>\n",
       "      <td>2021-02-01 18:10:15.611222</td>\n",
       "      <td>-15.7775</td>\n",
       "      <td>-52.50</td>\n",
       "    </tr>\n",
       "    <tr>\n",
       "      <th>1</th>\n",
       "      <td>2021-02-01 22:20:17.074682</td>\n",
       "      <td>-83.7500</td>\n",
       "      <td>-30.00</td>\n",
       "    </tr>\n",
       "    <tr>\n",
       "      <th>2</th>\n",
       "      <td>2021-02-01 23:31:08.196003</td>\n",
       "      <td>3.3350</td>\n",
       "      <td>10.00</td>\n",
       "    </tr>\n",
       "    <tr>\n",
       "      <th>3</th>\n",
       "      <td>2021-02-01 13:23:14.931749</td>\n",
       "      <td>-57.6750</td>\n",
       "      <td>-45.00</td>\n",
       "    </tr>\n",
       "    <tr>\n",
       "      <th>4</th>\n",
       "      <td>2021-02-01 13:31:09.506345</td>\n",
       "      <td>-74.8300</td>\n",
       "      <td>-42.50</td>\n",
       "    </tr>\n",
       "    <tr>\n",
       "      <th>...</th>\n",
       "      <td>...</td>\n",
       "      <td>...</td>\n",
       "      <td>...</td>\n",
       "    </tr>\n",
       "    <tr>\n",
       "      <th>2698</th>\n",
       "      <td>2021-10-06 16:22:34.587892</td>\n",
       "      <td>-19.3525</td>\n",
       "      <td>41.25</td>\n",
       "    </tr>\n",
       "    <tr>\n",
       "      <th>2699</th>\n",
       "      <td>2021-10-06 16:32:02.367660</td>\n",
       "      <td>-88.4225</td>\n",
       "      <td>-190.00</td>\n",
       "    </tr>\n",
       "    <tr>\n",
       "      <th>2700</th>\n",
       "      <td>2021-10-06 15:11:23.178082</td>\n",
       "      <td>-53.8925</td>\n",
       "      <td>-48.75</td>\n",
       "    </tr>\n",
       "    <tr>\n",
       "      <th>2701</th>\n",
       "      <td>2021-10-06 15:22:44.063087</td>\n",
       "      <td>-115.7350</td>\n",
       "      <td>-130.00</td>\n",
       "    </tr>\n",
       "    <tr>\n",
       "      <th>2702</th>\n",
       "      <td>2021-10-06 15:34:35.640399</td>\n",
       "      <td>-78.3775</td>\n",
       "      <td>-47.50</td>\n",
       "    </tr>\n",
       "  </tbody>\n",
       "</table>\n",
       "<p>2703 rows × 3 columns</p>\n",
       "</div>"
      ],
      "text/plain": [
       "                          MOMENT  twap_pnl  signature_pnl\n",
       "0     2021-02-01 18:10:15.611222  -15.7775         -52.50\n",
       "1     2021-02-01 22:20:17.074682  -83.7500         -30.00\n",
       "2     2021-02-01 23:31:08.196003    3.3350          10.00\n",
       "3     2021-02-01 13:23:14.931749  -57.6750         -45.00\n",
       "4     2021-02-01 13:31:09.506345  -74.8300         -42.50\n",
       "...                          ...       ...            ...\n",
       "2698  2021-10-06 16:22:34.587892  -19.3525          41.25\n",
       "2699  2021-10-06 16:32:02.367660  -88.4225        -190.00\n",
       "2700  2021-10-06 15:11:23.178082  -53.8925         -48.75\n",
       "2701  2021-10-06 15:22:44.063087 -115.7350        -130.00\n",
       "2702  2021-10-06 15:34:35.640399  -78.3775         -47.50\n",
       "\n",
       "[2703 rows x 3 columns]"
      ]
     },
     "execution_count": 1066,
     "metadata": {},
     "output_type": "execute_result"
    }
   ],
   "source": [
    "df2 = pd.read_sql('''SELECT m.MOMENT, t.SUM - m.PRICE * t.QUANTITY as twap_pnl, s.SUM - m.PRICE * t.QUANTITY as signature_pnl FROM sign.RESULT as s\n",
    "                INNER JOIN twap.RESULT as t\n",
    "                on s.MOMENT = t.MOMENT AND s.SIDE = t.SIDE\n",
    "                INNER JOIN mid.MIDPRICE as m\n",
    "                on m.MOMENT = s.MOMENT\n",
    "                AND s.QUANTITY > 0 AND t.QUANTITY > 0 AND m.PRICE > 0\n",
    "                AND s.SIDE = 'S'\n",
    "            ''', all_sql)\n",
    "\n",
    "df2"
   ]
  },
  {
   "cell_type": "code",
   "execution_count": 1067,
   "metadata": {},
   "outputs": [
    {
     "data": {
      "text/html": [
       "<div>\n",
       "<style scoped>\n",
       "    .dataframe tbody tr th:only-of-type {\n",
       "        vertical-align: middle;\n",
       "    }\n",
       "\n",
       "    .dataframe tbody tr th {\n",
       "        vertical-align: top;\n",
       "    }\n",
       "\n",
       "    .dataframe thead th {\n",
       "        text-align: right;\n",
       "    }\n",
       "</style>\n",
       "<table border=\"1\" class=\"dataframe\">\n",
       "  <thead>\n",
       "    <tr style=\"text-align: right;\">\n",
       "      <th></th>\n",
       "      <th>twap_pnl</th>\n",
       "      <th>signature_pnl</th>\n",
       "    </tr>\n",
       "  </thead>\n",
       "  <tbody>\n",
       "    <tr>\n",
       "      <th>sum</th>\n",
       "      <td>-102247.180000</td>\n",
       "      <td>-51681.250000</td>\n",
       "    </tr>\n",
       "    <tr>\n",
       "      <th>min</th>\n",
       "      <td>-306.995000</td>\n",
       "      <td>-326.250000</td>\n",
       "    </tr>\n",
       "    <tr>\n",
       "      <th>max</th>\n",
       "      <td>145.045000</td>\n",
       "      <td>931.250000</td>\n",
       "    </tr>\n",
       "    <tr>\n",
       "      <th>mean</th>\n",
       "      <td>-37.827296</td>\n",
       "      <td>-19.119959</td>\n",
       "    </tr>\n",
       "    <tr>\n",
       "      <th>std</th>\n",
       "      <td>35.312403</td>\n",
       "      <td>57.441586</td>\n",
       "    </tr>\n",
       "  </tbody>\n",
       "</table>\n",
       "</div>"
      ],
      "text/plain": [
       "           twap_pnl  signature_pnl\n",
       "sum  -102247.180000  -51681.250000\n",
       "min     -306.995000    -326.250000\n",
       "max      145.045000     931.250000\n",
       "mean     -37.827296     -19.119959\n",
       "std       35.312403      57.441586"
      ]
     },
     "execution_count": 1067,
     "metadata": {},
     "output_type": "execute_result"
    }
   ],
   "source": [
    "df2.agg(['sum', 'min', 'max', 'mean', 'std'])[['twap_pnl', 'signature_pnl']]"
   ]
  },
  {
   "cell_type": "code",
   "execution_count": 1068,
   "metadata": {},
   "outputs": [
    {
     "name": "stdout",
     "output_type": "stream",
     "text": [
      "95% confidence interval: (-39159.11987588771, -36495.471319079275)\n"
     ]
    }
   ],
   "source": [
    "twap_profits = np.array(1000 * df2['twap_pnl'])\n",
    "\n",
    "from statsmodels.stats.weightstats import DescrStatsW \n",
    "print(\"95% confidence interval:\", DescrStatsW(twap_profits).tconfint_mean())"
   ]
  },
  {
   "cell_type": "code",
   "execution_count": 1069,
   "metadata": {},
   "outputs": [
    {
     "name": "stdout",
     "output_type": "stream",
     "text": [
      "95% confidence interval: (-21286.396352508385, -16953.522256444066)\n"
     ]
    }
   ],
   "source": [
    "sign_profits = np.array(1000 * df2['signature_pnl'])\n",
    "\n",
    "from statsmodels.stats.weightstats import DescrStatsW \n",
    "print(\"95% confidence interval:\", DescrStatsW(sign_profits).tconfint_mean())"
   ]
  },
  {
   "cell_type": "code",
   "execution_count": 1070,
   "metadata": {},
   "outputs": [],
   "source": [
    "cursorObject.close()\n",
    "all_sql.close()"
   ]
  },
  {
   "cell_type": "markdown",
   "metadata": {},
   "source": [
    "Collect information:"
   ]
  },
  {
   "cell_type": "code",
   "execution_count": 1071,
   "metadata": {},
   "outputs": [],
   "source": [
    "__f = pd.concat([df1, df2], axis=0)\n",
    "\n",
    "df_data['experiment_6'] = [DescrStatsW(__f['twap_pnl']).tconfint_mean(), DescrStatsW(__f['signature_pnl']).tconfint_mean(), 5000, 'public', '5_by_20%']"
   ]
  },
  {
   "cell_type": "markdown",
   "metadata": {},
   "source": [
    "# My Experiment 7"
   ]
  },
  {
   "cell_type": "code",
   "execution_count": 1072,
   "metadata": {},
   "outputs": [],
   "source": [
    "MID_PATH = '../0_CommonFiles/mid.db3'\n",
    "TWAP_PATH = '../9_Experiment7/twap.db3'\n",
    "SIGNATURE_PATH = '../9_Experiment7/signature.db3'"
   ]
  },
  {
   "cell_type": "code",
   "execution_count": 1073,
   "metadata": {},
   "outputs": [],
   "source": [
    "all_sql = sqlite3.connect('')"
   ]
  },
  {
   "cell_type": "code",
   "execution_count": 1074,
   "metadata": {},
   "outputs": [],
   "source": [
    "cursorObject = all_sql.cursor()"
   ]
  },
  {
   "cell_type": "code",
   "execution_count": 1075,
   "metadata": {},
   "outputs": [],
   "source": [
    "attach(cursorObject, MID_PATH, 'mid')\n",
    "attach(cursorObject, TWAP_PATH, 'twap')\n",
    "attach(cursorObject, SIGNATURE_PATH, 'sign')"
   ]
  },
  {
   "cell_type": "markdown",
   "metadata": {},
   "source": [
    "Analysing TWAP/Signature algorithms for buy hedging:"
   ]
  },
  {
   "cell_type": "code",
   "execution_count": 1076,
   "metadata": {},
   "outputs": [
    {
     "data": {
      "text/html": [
       "<div>\n",
       "<style scoped>\n",
       "    .dataframe tbody tr th:only-of-type {\n",
       "        vertical-align: middle;\n",
       "    }\n",
       "\n",
       "    .dataframe tbody tr th {\n",
       "        vertical-align: top;\n",
       "    }\n",
       "\n",
       "    .dataframe thead th {\n",
       "        text-align: right;\n",
       "    }\n",
       "</style>\n",
       "<table border=\"1\" class=\"dataframe\">\n",
       "  <thead>\n",
       "    <tr style=\"text-align: right;\">\n",
       "      <th></th>\n",
       "      <th>MOMENT</th>\n",
       "      <th>twap_pnl</th>\n",
       "      <th>signature_pnl</th>\n",
       "    </tr>\n",
       "  </thead>\n",
       "  <tbody>\n",
       "    <tr>\n",
       "      <th>0</th>\n",
       "      <td>2021-02-01 18:10:15.611222</td>\n",
       "      <td>-137.4900</td>\n",
       "      <td>37.5</td>\n",
       "    </tr>\n",
       "    <tr>\n",
       "      <th>1</th>\n",
       "      <td>2021-02-01 22:20:17.074682</td>\n",
       "      <td>-7.0900</td>\n",
       "      <td>5.0</td>\n",
       "    </tr>\n",
       "    <tr>\n",
       "      <th>2</th>\n",
       "      <td>2021-02-01 23:31:08.196003</td>\n",
       "      <td>-202.8625</td>\n",
       "      <td>-127.5</td>\n",
       "    </tr>\n",
       "    <tr>\n",
       "      <th>3</th>\n",
       "      <td>2021-02-01 13:23:14.931749</td>\n",
       "      <td>-38.5050</td>\n",
       "      <td>32.5</td>\n",
       "    </tr>\n",
       "    <tr>\n",
       "      <th>4</th>\n",
       "      <td>2021-02-01 13:31:09.506345</td>\n",
       "      <td>-49.8050</td>\n",
       "      <td>35.0</td>\n",
       "    </tr>\n",
       "    <tr>\n",
       "      <th>...</th>\n",
       "      <td>...</td>\n",
       "      <td>...</td>\n",
       "      <td>...</td>\n",
       "    </tr>\n",
       "    <tr>\n",
       "      <th>2698</th>\n",
       "      <td>2021-10-06 16:22:34.587892</td>\n",
       "      <td>-88.5750</td>\n",
       "      <td>-147.5</td>\n",
       "    </tr>\n",
       "    <tr>\n",
       "      <th>2699</th>\n",
       "      <td>2021-10-06 16:32:02.367660</td>\n",
       "      <td>34.0375</td>\n",
       "      <td>320.0</td>\n",
       "    </tr>\n",
       "    <tr>\n",
       "      <th>2700</th>\n",
       "      <td>2021-10-06 15:11:23.178082</td>\n",
       "      <td>-35.5275</td>\n",
       "      <td>17.5</td>\n",
       "    </tr>\n",
       "    <tr>\n",
       "      <th>2701</th>\n",
       "      <td>2021-10-06 15:22:44.063087</td>\n",
       "      <td>98.0950</td>\n",
       "      <td>210.0</td>\n",
       "    </tr>\n",
       "    <tr>\n",
       "      <th>2702</th>\n",
       "      <td>2021-10-06 15:34:35.640399</td>\n",
       "      <td>14.3775</td>\n",
       "      <td>30.0</td>\n",
       "    </tr>\n",
       "  </tbody>\n",
       "</table>\n",
       "<p>2703 rows × 3 columns</p>\n",
       "</div>"
      ],
      "text/plain": [
       "                          MOMENT  twap_pnl  signature_pnl\n",
       "0     2021-02-01 18:10:15.611222 -137.4900           37.5\n",
       "1     2021-02-01 22:20:17.074682   -7.0900            5.0\n",
       "2     2021-02-01 23:31:08.196003 -202.8625         -127.5\n",
       "3     2021-02-01 13:23:14.931749  -38.5050           32.5\n",
       "4     2021-02-01 13:31:09.506345  -49.8050           35.0\n",
       "...                          ...       ...            ...\n",
       "2698  2021-10-06 16:22:34.587892  -88.5750         -147.5\n",
       "2699  2021-10-06 16:32:02.367660   34.0375          320.0\n",
       "2700  2021-10-06 15:11:23.178082  -35.5275           17.5\n",
       "2701  2021-10-06 15:22:44.063087   98.0950          210.0\n",
       "2702  2021-10-06 15:34:35.640399   14.3775           30.0\n",
       "\n",
       "[2703 rows x 3 columns]"
      ]
     },
     "execution_count": 1076,
     "metadata": {},
     "output_type": "execute_result"
    }
   ],
   "source": [
    "df1 = pd.read_sql('''SELECT m.MOMENT, m.PRICE * t.QUANTITY - t.SUM as twap_pnl, m.PRICE * t.QUANTITY - s.SUM as signature_pnl FROM sign.RESULT as s\n",
    "                INNER JOIN twap.RESULT as t\n",
    "                on s.MOMENT = t.MOMENT AND s.SIDE = t.SIDE\n",
    "                INNER JOIN mid.MIDPRICE as m\n",
    "                on m.MOMENT = s.MOMENT\n",
    "                AND s.QUANTITY > 0 AND t.QUANTITY > 0 AND m.PRICE > 0\n",
    "                AND s.SIDE = 'B'\n",
    "            ''', all_sql)\n",
    "\n",
    "df1"
   ]
  },
  {
   "cell_type": "code",
   "execution_count": 1077,
   "metadata": {},
   "outputs": [
    {
     "data": {
      "text/html": [
       "<div>\n",
       "<style scoped>\n",
       "    .dataframe tbody tr th:only-of-type {\n",
       "        vertical-align: middle;\n",
       "    }\n",
       "\n",
       "    .dataframe tbody tr th {\n",
       "        vertical-align: top;\n",
       "    }\n",
       "\n",
       "    .dataframe thead th {\n",
       "        text-align: right;\n",
       "    }\n",
       "</style>\n",
       "<table border=\"1\" class=\"dataframe\">\n",
       "  <thead>\n",
       "    <tr style=\"text-align: right;\">\n",
       "      <th></th>\n",
       "      <th>twap_pnl</th>\n",
       "      <th>signature_pnl</th>\n",
       "    </tr>\n",
       "  </thead>\n",
       "  <tbody>\n",
       "    <tr>\n",
       "      <th>sum</th>\n",
       "      <td>-272122.735000</td>\n",
       "      <td>-98030.000000</td>\n",
       "    </tr>\n",
       "    <tr>\n",
       "      <th>min</th>\n",
       "      <td>-608.042500</td>\n",
       "      <td>-1960.000000</td>\n",
       "    </tr>\n",
       "    <tr>\n",
       "      <th>max</th>\n",
       "      <td>336.807500</td>\n",
       "      <td>555.000000</td>\n",
       "    </tr>\n",
       "    <tr>\n",
       "      <th>mean</th>\n",
       "      <td>-100.674338</td>\n",
       "      <td>-36.267111</td>\n",
       "    </tr>\n",
       "    <tr>\n",
       "      <th>std</th>\n",
       "      <td>72.467629</td>\n",
       "      <td>116.067795</td>\n",
       "    </tr>\n",
       "  </tbody>\n",
       "</table>\n",
       "</div>"
      ],
      "text/plain": [
       "           twap_pnl  signature_pnl\n",
       "sum  -272122.735000  -98030.000000\n",
       "min     -608.042500   -1960.000000\n",
       "max      336.807500     555.000000\n",
       "mean    -100.674338     -36.267111\n",
       "std       72.467629     116.067795"
      ]
     },
     "execution_count": 1077,
     "metadata": {},
     "output_type": "execute_result"
    }
   ],
   "source": [
    "df1.agg(['sum', 'min', 'max', 'mean', 'std'])[['twap_pnl', 'signature_pnl']]"
   ]
  },
  {
   "cell_type": "code",
   "execution_count": 1078,
   "metadata": {},
   "outputs": [
    {
     "name": "stdout",
     "output_type": "stream",
     "text": [
      "95% confidence interval: (-103407.48928135725, -97941.18626433432)\n"
     ]
    }
   ],
   "source": [
    "twap_profits = np.array(1000 * df1['twap_pnl'])\n",
    "\n",
    "from statsmodels.stats.weightstats import DescrStatsW \n",
    "print(\"95% confidence interval:\", DescrStatsW(twap_profits).tconfint_mean())"
   ]
  },
  {
   "cell_type": "code",
   "execution_count": 1079,
   "metadata": {},
   "outputs": [
    {
     "name": "stdout",
     "output_type": "stream",
     "text": [
      "95% confidence interval: (-40644.66335677936, -31889.557878885582)\n"
     ]
    }
   ],
   "source": [
    "sign_profits = np.array(1000 * df1['signature_pnl'])\n",
    "\n",
    "from statsmodels.stats.weightstats import DescrStatsW \n",
    "print(\"95% confidence interval:\", DescrStatsW(sign_profits).tconfint_mean())"
   ]
  },
  {
   "cell_type": "markdown",
   "metadata": {},
   "source": [
    "Analysing TWAP/Signature algorithms for sell hedging:"
   ]
  },
  {
   "cell_type": "code",
   "execution_count": 1080,
   "metadata": {},
   "outputs": [
    {
     "data": {
      "text/html": [
       "<div>\n",
       "<style scoped>\n",
       "    .dataframe tbody tr th:only-of-type {\n",
       "        vertical-align: middle;\n",
       "    }\n",
       "\n",
       "    .dataframe tbody tr th {\n",
       "        vertical-align: top;\n",
       "    }\n",
       "\n",
       "    .dataframe thead th {\n",
       "        text-align: right;\n",
       "    }\n",
       "</style>\n",
       "<table border=\"1\" class=\"dataframe\">\n",
       "  <thead>\n",
       "    <tr style=\"text-align: right;\">\n",
       "      <th></th>\n",
       "      <th>MOMENT</th>\n",
       "      <th>twap_pnl</th>\n",
       "      <th>signature_pnl</th>\n",
       "    </tr>\n",
       "  </thead>\n",
       "  <tbody>\n",
       "    <tr>\n",
       "      <th>0</th>\n",
       "      <td>2021-02-01 18:10:15.611222</td>\n",
       "      <td>-71.9125</td>\n",
       "      <td>-105.0</td>\n",
       "    </tr>\n",
       "    <tr>\n",
       "      <th>1</th>\n",
       "      <td>2021-02-01 22:20:17.074682</td>\n",
       "      <td>-211.0575</td>\n",
       "      <td>-60.0</td>\n",
       "    </tr>\n",
       "    <tr>\n",
       "      <th>2</th>\n",
       "      <td>2021-02-01 23:31:08.196003</td>\n",
       "      <td>-29.3700</td>\n",
       "      <td>20.0</td>\n",
       "    </tr>\n",
       "    <tr>\n",
       "      <th>3</th>\n",
       "      <td>2021-02-01 13:23:14.931749</td>\n",
       "      <td>-155.4575</td>\n",
       "      <td>-90.0</td>\n",
       "    </tr>\n",
       "    <tr>\n",
       "      <th>4</th>\n",
       "      <td>2021-02-01 13:31:09.506345</td>\n",
       "      <td>-163.1825</td>\n",
       "      <td>-85.0</td>\n",
       "    </tr>\n",
       "    <tr>\n",
       "      <th>...</th>\n",
       "      <td>...</td>\n",
       "      <td>...</td>\n",
       "      <td>...</td>\n",
       "    </tr>\n",
       "    <tr>\n",
       "      <th>2698</th>\n",
       "      <td>2021-10-06 16:22:34.587892</td>\n",
       "      <td>-45.2400</td>\n",
       "      <td>82.5</td>\n",
       "    </tr>\n",
       "    <tr>\n",
       "      <th>2699</th>\n",
       "      <td>2021-10-06 16:32:02.367660</td>\n",
       "      <td>-192.7675</td>\n",
       "      <td>-380.0</td>\n",
       "    </tr>\n",
       "    <tr>\n",
       "      <th>2700</th>\n",
       "      <td>2021-10-06 15:11:23.178082</td>\n",
       "      <td>-123.3675</td>\n",
       "      <td>-97.5</td>\n",
       "    </tr>\n",
       "    <tr>\n",
       "      <th>2701</th>\n",
       "      <td>2021-10-06 15:22:44.063087</td>\n",
       "      <td>-244.2900</td>\n",
       "      <td>-260.0</td>\n",
       "    </tr>\n",
       "    <tr>\n",
       "      <th>2702</th>\n",
       "      <td>2021-10-06 15:34:35.640399</td>\n",
       "      <td>-172.2125</td>\n",
       "      <td>-95.0</td>\n",
       "    </tr>\n",
       "  </tbody>\n",
       "</table>\n",
       "<p>2703 rows × 3 columns</p>\n",
       "</div>"
      ],
      "text/plain": [
       "                          MOMENT  twap_pnl  signature_pnl\n",
       "0     2021-02-01 18:10:15.611222  -71.9125         -105.0\n",
       "1     2021-02-01 22:20:17.074682 -211.0575          -60.0\n",
       "2     2021-02-01 23:31:08.196003  -29.3700           20.0\n",
       "3     2021-02-01 13:23:14.931749 -155.4575          -90.0\n",
       "4     2021-02-01 13:31:09.506345 -163.1825          -85.0\n",
       "...                          ...       ...            ...\n",
       "2698  2021-10-06 16:22:34.587892  -45.2400           82.5\n",
       "2699  2021-10-06 16:32:02.367660 -192.7675         -380.0\n",
       "2700  2021-10-06 15:11:23.178082 -123.3675          -97.5\n",
       "2701  2021-10-06 15:22:44.063087 -244.2900         -260.0\n",
       "2702  2021-10-06 15:34:35.640399 -172.2125          -95.0\n",
       "\n",
       "[2703 rows x 3 columns]"
      ]
     },
     "execution_count": 1080,
     "metadata": {},
     "output_type": "execute_result"
    }
   ],
   "source": [
    "df2 = pd.read_sql('''SELECT m.MOMENT, t.SUM - m.PRICE * t.QUANTITY as twap_pnl, s.SUM - m.PRICE * t.QUANTITY as signature_pnl FROM sign.RESULT as s\n",
    "                INNER JOIN twap.RESULT as t\n",
    "                on s.MOMENT = t.MOMENT AND s.SIDE = t.SIDE\n",
    "                INNER JOIN mid.MIDPRICE as m\n",
    "                on m.MOMENT = s.MOMENT\n",
    "                AND s.QUANTITY > 0 AND t.QUANTITY > 0 AND m.PRICE > 0\n",
    "                AND s.SIDE = 'S'\n",
    "            ''', all_sql)\n",
    "\n",
    "df2"
   ]
  },
  {
   "cell_type": "code",
   "execution_count": 1081,
   "metadata": {},
   "outputs": [
    {
     "data": {
      "text/html": [
       "<div>\n",
       "<style scoped>\n",
       "    .dataframe tbody tr th:only-of-type {\n",
       "        vertical-align: middle;\n",
       "    }\n",
       "\n",
       "    .dataframe tbody tr th {\n",
       "        vertical-align: top;\n",
       "    }\n",
       "\n",
       "    .dataframe thead th {\n",
       "        text-align: right;\n",
       "    }\n",
       "</style>\n",
       "<table border=\"1\" class=\"dataframe\">\n",
       "  <thead>\n",
       "    <tr style=\"text-align: right;\">\n",
       "      <th></th>\n",
       "      <th>twap_pnl</th>\n",
       "      <th>signature_pnl</th>\n",
       "    </tr>\n",
       "  </thead>\n",
       "  <tbody>\n",
       "    <tr>\n",
       "      <th>sum</th>\n",
       "      <td>-283413.547500</td>\n",
       "      <td>-103362.500000</td>\n",
       "    </tr>\n",
       "    <tr>\n",
       "      <th>min</th>\n",
       "      <td>-665.332500</td>\n",
       "      <td>-652.500000</td>\n",
       "    </tr>\n",
       "    <tr>\n",
       "      <th>max</th>\n",
       "      <td>254.427500</td>\n",
       "      <td>1862.500000</td>\n",
       "    </tr>\n",
       "    <tr>\n",
       "      <th>mean</th>\n",
       "      <td>-104.851479</td>\n",
       "      <td>-38.239919</td>\n",
       "    </tr>\n",
       "    <tr>\n",
       "      <th>std</th>\n",
       "      <td>73.554772</td>\n",
       "      <td>114.883172</td>\n",
       "    </tr>\n",
       "  </tbody>\n",
       "</table>\n",
       "</div>"
      ],
      "text/plain": [
       "           twap_pnl  signature_pnl\n",
       "sum  -283413.547500 -103362.500000\n",
       "min     -665.332500    -652.500000\n",
       "max      254.427500    1862.500000\n",
       "mean    -104.851479     -38.239919\n",
       "std       73.554772     114.883172"
      ]
     },
     "execution_count": 1081,
     "metadata": {},
     "output_type": "execute_result"
    }
   ],
   "source": [
    "df2.agg(['sum', 'min', 'max', 'mean', 'std'])[['twap_pnl', 'signature_pnl']]"
   ]
  },
  {
   "cell_type": "code",
   "execution_count": 1082,
   "metadata": {},
   "outputs": [
    {
     "name": "stdout",
     "output_type": "stream",
     "text": [
      "95% confidence interval: (-107625.63253510208, -102077.32528953752)\n"
     ]
    }
   ],
   "source": [
    "twap_profits = np.array(1000 * df2['twap_pnl'])\n",
    "\n",
    "from statsmodels.stats.weightstats import DescrStatsW \n",
    "print(\"95% confidence interval:\", DescrStatsW(twap_profits).tconfint_mean())"
   ]
  },
  {
   "cell_type": "code",
   "execution_count": 1083,
   "metadata": {},
   "outputs": [
    {
     "name": "stdout",
     "output_type": "stream",
     "text": [
      "95% confidence interval: (-42572.79270501677, -33907.04451288813)\n"
     ]
    }
   ],
   "source": [
    "sign_profits = np.array(1000 * df2['signature_pnl'])\n",
    "\n",
    "from statsmodels.stats.weightstats import DescrStatsW \n",
    "print(\"95% confidence interval:\", DescrStatsW(sign_profits).tconfint_mean())"
   ]
  },
  {
   "cell_type": "code",
   "execution_count": 1084,
   "metadata": {},
   "outputs": [],
   "source": [
    "cursorObject.close()\n",
    "all_sql.close()"
   ]
  },
  {
   "cell_type": "markdown",
   "metadata": {},
   "source": [
    "Collect information:"
   ]
  },
  {
   "cell_type": "code",
   "execution_count": 1085,
   "metadata": {},
   "outputs": [],
   "source": [
    "__f = pd.concat([df1, df2], axis=0)\n",
    "\n",
    "df_data['experiment_7'] = [DescrStatsW(__f['twap_pnl']).tconfint_mean(), DescrStatsW(__f['signature_pnl']).tconfint_mean(), 10000, 'public', '5_by_20%']"
   ]
  },
  {
   "cell_type": "markdown",
   "metadata": {},
   "source": [
    "# My Experiment 8"
   ]
  },
  {
   "cell_type": "code",
   "execution_count": 1086,
   "metadata": {},
   "outputs": [],
   "source": [
    "MID_PATH = '../0_CommonFiles/mid.db3'\n",
    "TWAP_PATH = '../a_Experiment8/twap.db3'\n",
    "SIGNATURE_PATH = '../a_Experiment8/signature.db3'"
   ]
  },
  {
   "cell_type": "code",
   "execution_count": 1087,
   "metadata": {},
   "outputs": [],
   "source": [
    "all_sql = sqlite3.connect('')"
   ]
  },
  {
   "cell_type": "code",
   "execution_count": 1088,
   "metadata": {},
   "outputs": [],
   "source": [
    "cursorObject = all_sql.cursor()"
   ]
  },
  {
   "cell_type": "code",
   "execution_count": 1089,
   "metadata": {},
   "outputs": [],
   "source": [
    "attach(cursorObject, MID_PATH, 'mid')\n",
    "attach(cursorObject, TWAP_PATH, 'twap')\n",
    "attach(cursorObject, SIGNATURE_PATH, 'sign')"
   ]
  },
  {
   "cell_type": "markdown",
   "metadata": {},
   "source": [
    "Analysing TWAP/Signature algorithms for buy hedging:"
   ]
  },
  {
   "cell_type": "code",
   "execution_count": 1090,
   "metadata": {},
   "outputs": [
    {
     "data": {
      "text/html": [
       "<div>\n",
       "<style scoped>\n",
       "    .dataframe tbody tr th:only-of-type {\n",
       "        vertical-align: middle;\n",
       "    }\n",
       "\n",
       "    .dataframe tbody tr th {\n",
       "        vertical-align: top;\n",
       "    }\n",
       "\n",
       "    .dataframe thead th {\n",
       "        text-align: right;\n",
       "    }\n",
       "</style>\n",
       "<table border=\"1\" class=\"dataframe\">\n",
       "  <thead>\n",
       "    <tr style=\"text-align: right;\">\n",
       "      <th></th>\n",
       "      <th>MOMENT</th>\n",
       "      <th>twap_pnl</th>\n",
       "      <th>signature_pnl</th>\n",
       "    </tr>\n",
       "  </thead>\n",
       "  <tbody>\n",
       "    <tr>\n",
       "      <th>0</th>\n",
       "      <td>2021-02-01 18:10:15.611222</td>\n",
       "      <td>-7.8725</td>\n",
       "      <td>3.75</td>\n",
       "    </tr>\n",
       "    <tr>\n",
       "      <th>1</th>\n",
       "      <td>2021-02-01 22:20:17.074682</td>\n",
       "      <td>1.0125</td>\n",
       "      <td>0.50</td>\n",
       "    </tr>\n",
       "    <tr>\n",
       "      <th>2</th>\n",
       "      <td>2021-02-01 23:31:08.196003</td>\n",
       "      <td>-13.5000</td>\n",
       "      <td>-12.75</td>\n",
       "    </tr>\n",
       "    <tr>\n",
       "      <th>3</th>\n",
       "      <td>2021-02-01 13:23:14.931749</td>\n",
       "      <td>1.1200</td>\n",
       "      <td>3.25</td>\n",
       "    </tr>\n",
       "    <tr>\n",
       "      <th>4</th>\n",
       "      <td>2021-02-01 13:31:09.506345</td>\n",
       "      <td>9.5800</td>\n",
       "      <td>3.50</td>\n",
       "    </tr>\n",
       "    <tr>\n",
       "      <th>...</th>\n",
       "      <td>...</td>\n",
       "      <td>...</td>\n",
       "      <td>...</td>\n",
       "    </tr>\n",
       "    <tr>\n",
       "      <th>2698</th>\n",
       "      <td>2021-10-06 16:22:34.587892</td>\n",
       "      <td>-7.5000</td>\n",
       "      <td>-14.75</td>\n",
       "    </tr>\n",
       "    <tr>\n",
       "      <th>2699</th>\n",
       "      <td>2021-10-06 16:32:02.367660</td>\n",
       "      <td>18.1750</td>\n",
       "      <td>32.00</td>\n",
       "    </tr>\n",
       "    <tr>\n",
       "      <th>2700</th>\n",
       "      <td>2021-10-06 15:11:23.178082</td>\n",
       "      <td>1.8725</td>\n",
       "      <td>1.75</td>\n",
       "    </tr>\n",
       "    <tr>\n",
       "      <th>2701</th>\n",
       "      <td>2021-10-06 15:22:44.063087</td>\n",
       "      <td>18.6250</td>\n",
       "      <td>21.00</td>\n",
       "    </tr>\n",
       "    <tr>\n",
       "      <th>2702</th>\n",
       "      <td>2021-10-06 15:34:35.640399</td>\n",
       "      <td>7.9975</td>\n",
       "      <td>3.00</td>\n",
       "    </tr>\n",
       "  </tbody>\n",
       "</table>\n",
       "<p>2703 rows × 3 columns</p>\n",
       "</div>"
      ],
      "text/plain": [
       "                          MOMENT  twap_pnl  signature_pnl\n",
       "0     2021-02-01 18:10:15.611222   -7.8725           3.75\n",
       "1     2021-02-01 22:20:17.074682    1.0125           0.50\n",
       "2     2021-02-01 23:31:08.196003  -13.5000         -12.75\n",
       "3     2021-02-01 13:23:14.931749    1.1200           3.25\n",
       "4     2021-02-01 13:31:09.506345    9.5800           3.50\n",
       "...                          ...       ...            ...\n",
       "2698  2021-10-06 16:22:34.587892   -7.5000         -14.75\n",
       "2699  2021-10-06 16:32:02.367660   18.1750          32.00\n",
       "2700  2021-10-06 15:11:23.178082    1.8725           1.75\n",
       "2701  2021-10-06 15:22:44.063087   18.6250          21.00\n",
       "2702  2021-10-06 15:34:35.640399    7.9975           3.00\n",
       "\n",
       "[2703 rows x 3 columns]"
      ]
     },
     "execution_count": 1090,
     "metadata": {},
     "output_type": "execute_result"
    }
   ],
   "source": [
    "df1 = pd.read_sql('''SELECT m.MOMENT, m.PRICE * t.QUANTITY - t.SUM as twap_pnl, m.PRICE * t.QUANTITY - s.SUM as signature_pnl FROM sign.RESULT as s\n",
    "                INNER JOIN twap.RESULT as t\n",
    "                on s.MOMENT = t.MOMENT AND s.SIDE = t.SIDE\n",
    "                INNER JOIN mid.MIDPRICE as m\n",
    "                on m.MOMENT = s.MOMENT\n",
    "                AND s.QUANTITY > 0 AND t.QUANTITY > 0 AND m.PRICE > 0\n",
    "                AND s.SIDE = 'B'\n",
    "            ''', all_sql)\n",
    "\n",
    "df1"
   ]
  },
  {
   "cell_type": "code",
   "execution_count": 1091,
   "metadata": {},
   "outputs": [
    {
     "data": {
      "text/html": [
       "<div>\n",
       "<style scoped>\n",
       "    .dataframe tbody tr th:only-of-type {\n",
       "        vertical-align: middle;\n",
       "    }\n",
       "\n",
       "    .dataframe tbody tr th {\n",
       "        vertical-align: top;\n",
       "    }\n",
       "\n",
       "    .dataframe thead th {\n",
       "        text-align: right;\n",
       "    }\n",
       "</style>\n",
       "<table border=\"1\" class=\"dataframe\">\n",
       "  <thead>\n",
       "    <tr style=\"text-align: right;\">\n",
       "      <th></th>\n",
       "      <th>twap_pnl</th>\n",
       "      <th>signature_pnl</th>\n",
       "    </tr>\n",
       "  </thead>\n",
       "  <tbody>\n",
       "    <tr>\n",
       "      <th>sum</th>\n",
       "      <td>-10581.175000</td>\n",
       "      <td>-9803.000000</td>\n",
       "    </tr>\n",
       "    <tr>\n",
       "      <th>min</th>\n",
       "      <td>-131.215000</td>\n",
       "      <td>-196.000000</td>\n",
       "    </tr>\n",
       "    <tr>\n",
       "      <th>max</th>\n",
       "      <td>64.020000</td>\n",
       "      <td>55.500000</td>\n",
       "    </tr>\n",
       "    <tr>\n",
       "      <th>mean</th>\n",
       "      <td>-3.914604</td>\n",
       "      <td>-3.626711</td>\n",
       "    </tr>\n",
       "    <tr>\n",
       "      <th>std</th>\n",
       "      <td>9.329311</td>\n",
       "      <td>11.606779</td>\n",
       "    </tr>\n",
       "  </tbody>\n",
       "</table>\n",
       "</div>"
      ],
      "text/plain": [
       "          twap_pnl  signature_pnl\n",
       "sum  -10581.175000   -9803.000000\n",
       "min    -131.215000    -196.000000\n",
       "max      64.020000      55.500000\n",
       "mean     -3.914604      -3.626711\n",
       "std       9.329311      11.606779"
      ]
     },
     "execution_count": 1091,
     "metadata": {},
     "output_type": "execute_result"
    }
   ],
   "source": [
    "df1.agg(['sum', 'min', 'max', 'mean', 'std'])[['twap_pnl', 'signature_pnl']]"
   ]
  },
  {
   "cell_type": "code",
   "execution_count": 1092,
   "metadata": {},
   "outputs": [
    {
     "name": "stdout",
     "output_type": "stream",
     "text": [
      "95% confidence interval: (-4266.463579521978, -3562.7447075670448)\n"
     ]
    }
   ],
   "source": [
    "twap_profits = np.array(1000 * df1['twap_pnl'])\n",
    "\n",
    "from statsmodels.stats.weightstats import DescrStatsW \n",
    "print(\"95% confidence interval:\", DescrStatsW(twap_profits).tconfint_mean())"
   ]
  },
  {
   "cell_type": "code",
   "execution_count": 1093,
   "metadata": {},
   "outputs": [
    {
     "name": "stdout",
     "output_type": "stream",
     "text": [
      "95% confidence interval: (-4064.4663356779643, -3188.955787888595)\n"
     ]
    }
   ],
   "source": [
    "sign_profits = np.array(1000 * df1['signature_pnl'])\n",
    "\n",
    "from statsmodels.stats.weightstats import DescrStatsW \n",
    "print(\"95% confidence interval:\", DescrStatsW(sign_profits).tconfint_mean())"
   ]
  },
  {
   "cell_type": "markdown",
   "metadata": {},
   "source": [
    "Analysing TWAP/Signature algorithms for sell hedging:"
   ]
  },
  {
   "cell_type": "code",
   "execution_count": 1094,
   "metadata": {},
   "outputs": [
    {
     "data": {
      "text/html": [
       "<div>\n",
       "<style scoped>\n",
       "    .dataframe tbody tr th:only-of-type {\n",
       "        vertical-align: middle;\n",
       "    }\n",
       "\n",
       "    .dataframe tbody tr th {\n",
       "        vertical-align: top;\n",
       "    }\n",
       "\n",
       "    .dataframe thead th {\n",
       "        text-align: right;\n",
       "    }\n",
       "</style>\n",
       "<table border=\"1\" class=\"dataframe\">\n",
       "  <thead>\n",
       "    <tr style=\"text-align: right;\">\n",
       "      <th></th>\n",
       "      <th>MOMENT</th>\n",
       "      <th>twap_pnl</th>\n",
       "      <th>signature_pnl</th>\n",
       "    </tr>\n",
       "  </thead>\n",
       "  <tbody>\n",
       "    <tr>\n",
       "      <th>0</th>\n",
       "      <td>2021-02-01 18:10:15.611222</td>\n",
       "      <td>0.2650</td>\n",
       "      <td>-10.50</td>\n",
       "    </tr>\n",
       "    <tr>\n",
       "      <th>1</th>\n",
       "      <td>2021-02-01 22:20:17.074682</td>\n",
       "      <td>-7.9975</td>\n",
       "      <td>-6.00</td>\n",
       "    </tr>\n",
       "    <tr>\n",
       "      <th>2</th>\n",
       "      <td>2021-02-01 23:31:08.196003</td>\n",
       "      <td>3.6375</td>\n",
       "      <td>2.00</td>\n",
       "    </tr>\n",
       "    <tr>\n",
       "      <th>3</th>\n",
       "      <td>2021-02-01 13:23:14.931749</td>\n",
       "      <td>-7.2500</td>\n",
       "      <td>-9.00</td>\n",
       "    </tr>\n",
       "    <tr>\n",
       "      <th>4</th>\n",
       "      <td>2021-02-01 13:31:09.506345</td>\n",
       "      <td>-17.0125</td>\n",
       "      <td>-8.50</td>\n",
       "    </tr>\n",
       "    <tr>\n",
       "      <th>...</th>\n",
       "      <td>...</td>\n",
       "      <td>...</td>\n",
       "      <td>...</td>\n",
       "    </tr>\n",
       "    <tr>\n",
       "      <th>2698</th>\n",
       "      <td>2021-10-06 16:22:34.587892</td>\n",
       "      <td>0.7500</td>\n",
       "      <td>8.25</td>\n",
       "    </tr>\n",
       "    <tr>\n",
       "      <th>2699</th>\n",
       "      <td>2021-10-06 16:32:02.367660</td>\n",
       "      <td>-25.1750</td>\n",
       "      <td>-38.00</td>\n",
       "    </tr>\n",
       "    <tr>\n",
       "      <th>2700</th>\n",
       "      <td>2021-10-06 15:11:23.178082</td>\n",
       "      <td>-9.8750</td>\n",
       "      <td>-9.75</td>\n",
       "    </tr>\n",
       "    <tr>\n",
       "      <th>2701</th>\n",
       "      <td>2021-10-06 15:22:44.063087</td>\n",
       "      <td>-24.1225</td>\n",
       "      <td>-26.00</td>\n",
       "    </tr>\n",
       "    <tr>\n",
       "      <th>2702</th>\n",
       "      <td>2021-10-06 15:34:35.640399</td>\n",
       "      <td>-15.1275</td>\n",
       "      <td>-9.50</td>\n",
       "    </tr>\n",
       "  </tbody>\n",
       "</table>\n",
       "<p>2703 rows × 3 columns</p>\n",
       "</div>"
      ],
      "text/plain": [
       "                          MOMENT  twap_pnl  signature_pnl\n",
       "0     2021-02-01 18:10:15.611222    0.2650         -10.50\n",
       "1     2021-02-01 22:20:17.074682   -7.9975          -6.00\n",
       "2     2021-02-01 23:31:08.196003    3.6375           2.00\n",
       "3     2021-02-01 13:23:14.931749   -7.2500          -9.00\n",
       "4     2021-02-01 13:31:09.506345  -17.0125          -8.50\n",
       "...                          ...       ...            ...\n",
       "2698  2021-10-06 16:22:34.587892    0.7500           8.25\n",
       "2699  2021-10-06 16:32:02.367660  -25.1750         -38.00\n",
       "2700  2021-10-06 15:11:23.178082   -9.8750          -9.75\n",
       "2701  2021-10-06 15:22:44.063087  -24.1225         -26.00\n",
       "2702  2021-10-06 15:34:35.640399  -15.1275          -9.50\n",
       "\n",
       "[2703 rows x 3 columns]"
      ]
     },
     "execution_count": 1094,
     "metadata": {},
     "output_type": "execute_result"
    }
   ],
   "source": [
    "df2 = pd.read_sql('''SELECT m.MOMENT, t.SUM - m.PRICE * t.QUANTITY as twap_pnl, s.SUM - m.PRICE * t.QUANTITY as signature_pnl FROM sign.RESULT as s\n",
    "                INNER JOIN twap.RESULT as t\n",
    "                on s.MOMENT = t.MOMENT AND s.SIDE = t.SIDE\n",
    "                INNER JOIN mid.MIDPRICE as m\n",
    "                on m.MOMENT = s.MOMENT\n",
    "                AND s.QUANTITY > 0 AND t.QUANTITY > 0 AND m.PRICE > 0\n",
    "                AND s.SIDE = 'S'\n",
    "            ''', all_sql)\n",
    "\n",
    "df2"
   ]
  },
  {
   "cell_type": "code",
   "execution_count": 1095,
   "metadata": {},
   "outputs": [
    {
     "data": {
      "text/html": [
       "<div>\n",
       "<style scoped>\n",
       "    .dataframe tbody tr th:only-of-type {\n",
       "        vertical-align: middle;\n",
       "    }\n",
       "\n",
       "    .dataframe tbody tr th {\n",
       "        vertical-align: top;\n",
       "    }\n",
       "\n",
       "    .dataframe thead th {\n",
       "        text-align: right;\n",
       "    }\n",
       "</style>\n",
       "<table border=\"1\" class=\"dataframe\">\n",
       "  <thead>\n",
       "    <tr style=\"text-align: right;\">\n",
       "      <th></th>\n",
       "      <th>twap_pnl</th>\n",
       "      <th>signature_pnl</th>\n",
       "    </tr>\n",
       "  </thead>\n",
       "  <tbody>\n",
       "    <tr>\n",
       "      <th>sum</th>\n",
       "      <td>-11021.412500</td>\n",
       "      <td>-10336.250000</td>\n",
       "    </tr>\n",
       "    <tr>\n",
       "      <th>min</th>\n",
       "      <td>-75.290000</td>\n",
       "      <td>-65.250000</td>\n",
       "    </tr>\n",
       "    <tr>\n",
       "      <th>max</th>\n",
       "      <td>120.130000</td>\n",
       "      <td>186.250000</td>\n",
       "    </tr>\n",
       "    <tr>\n",
       "      <th>mean</th>\n",
       "      <td>-4.077474</td>\n",
       "      <td>-3.823992</td>\n",
       "    </tr>\n",
       "    <tr>\n",
       "      <th>std</th>\n",
       "      <td>9.311975</td>\n",
       "      <td>11.488317</td>\n",
       "    </tr>\n",
       "  </tbody>\n",
       "</table>\n",
       "</div>"
      ],
      "text/plain": [
       "          twap_pnl  signature_pnl\n",
       "sum  -11021.412500  -10336.250000\n",
       "min     -75.290000     -65.250000\n",
       "max     120.130000     186.250000\n",
       "mean     -4.077474      -3.823992\n",
       "std       9.311975      11.488317"
      ]
     },
     "execution_count": 1095,
     "metadata": {},
     "output_type": "execute_result"
    }
   ],
   "source": [
    "df2.agg(['sum', 'min', 'max', 'mean', 'std'])[['twap_pnl', 'signature_pnl']]"
   ]
  },
  {
   "cell_type": "code",
   "execution_count": 1096,
   "metadata": {},
   "outputs": [
    {
     "name": "stdout",
     "output_type": "stream",
     "text": [
      "95% confidence interval: (-4428.6797074959195, -3726.2684982011665)\n"
     ]
    }
   ],
   "source": [
    "twap_profits = np.array(1000 * df2['twap_pnl'])\n",
    "\n",
    "from statsmodels.stats.weightstats import DescrStatsW \n",
    "print(\"95% confidence interval:\", DescrStatsW(twap_profits).tconfint_mean())"
   ]
  },
  {
   "cell_type": "code",
   "execution_count": 1097,
   "metadata": {},
   "outputs": [
    {
     "name": "stdout",
     "output_type": "stream",
     "text": [
      "95% confidence interval: (-4257.279270501713, -3390.7044512888583)\n"
     ]
    }
   ],
   "source": [
    "sign_profits = np.array(1000 * df2['signature_pnl'])\n",
    "\n",
    "from statsmodels.stats.weightstats import DescrStatsW \n",
    "print(\"95% confidence interval:\", DescrStatsW(sign_profits).tconfint_mean())"
   ]
  },
  {
   "cell_type": "markdown",
   "metadata": {},
   "source": [
    "We can't definitely say that signature works better than TWAP,\n",
    "so let's use more accurate t-test for pairs:"
   ]
  },
  {
   "cell_type": "code",
   "execution_count": 1098,
   "metadata": {},
   "outputs": [
    {
     "data": {
      "text/plain": [
       "Ttest_relResult(statistic=2.5567675686020337, pvalue=0.010619182269009935)"
      ]
     },
     "execution_count": 1098,
     "metadata": {},
     "output_type": "execute_result"
    }
   ],
   "source": [
    "sc.stats.ttest_rel(df2['signature_pnl'], df2['twap_pnl'])"
   ]
  },
  {
   "cell_type": "code",
   "execution_count": 1099,
   "metadata": {},
   "outputs": [
    {
     "data": {
      "text/plain": [
       "Ttest_relResult(statistic=2.8868219184831685, pvalue=0.003922439015763016)"
      ]
     },
     "execution_count": 1099,
     "metadata": {},
     "output_type": "execute_result"
    }
   ],
   "source": [
    "sc.stats.ttest_rel(df1['signature_pnl'], df1['twap_pnl'])"
   ]
  },
  {
   "cell_type": "code",
   "execution_count": 1100,
   "metadata": {},
   "outputs": [],
   "source": [
    "cursorObject.close()\n",
    "all_sql.close()"
   ]
  },
  {
   "cell_type": "markdown",
   "metadata": {},
   "source": [
    "Collect information:"
   ]
  },
  {
   "cell_type": "code",
   "execution_count": 1101,
   "metadata": {},
   "outputs": [],
   "source": [
    "__f = pd.concat([df1, df2], axis=0)\n",
    "\n",
    "df_data['experiment_8'] = [DescrStatsW(__f['twap_pnl']).tconfint_mean(), DescrStatsW(__f['signature_pnl']).tconfint_mean(), 1000, 'public', '10_by_10%']"
   ]
  },
  {
   "cell_type": "markdown",
   "metadata": {},
   "source": [
    "# My Experiment 9"
   ]
  },
  {
   "cell_type": "code",
   "execution_count": 1102,
   "metadata": {},
   "outputs": [],
   "source": [
    "MID_PATH = '../0_CommonFiles/mid.db3'\n",
    "TWAP_PATH = '../b_Experiment9/twap.db3'\n",
    "SIGNATURE_PATH = '../b_Experiment9/signature.db3'"
   ]
  },
  {
   "cell_type": "code",
   "execution_count": 1103,
   "metadata": {},
   "outputs": [],
   "source": [
    "all_sql = sqlite3.connect('')"
   ]
  },
  {
   "cell_type": "code",
   "execution_count": 1104,
   "metadata": {},
   "outputs": [],
   "source": [
    "cursorObject = all_sql.cursor()"
   ]
  },
  {
   "cell_type": "code",
   "execution_count": 1105,
   "metadata": {},
   "outputs": [],
   "source": [
    "attach(cursorObject, MID_PATH, 'mid')\n",
    "attach(cursorObject, TWAP_PATH, 'twap')\n",
    "attach(cursorObject, SIGNATURE_PATH, 'sign')"
   ]
  },
  {
   "cell_type": "markdown",
   "metadata": {},
   "source": [
    "Analysing TWAP/Signature algorithms for buy hedging:"
   ]
  },
  {
   "cell_type": "code",
   "execution_count": 1106,
   "metadata": {},
   "outputs": [
    {
     "data": {
      "text/html": [
       "<div>\n",
       "<style scoped>\n",
       "    .dataframe tbody tr th:only-of-type {\n",
       "        vertical-align: middle;\n",
       "    }\n",
       "\n",
       "    .dataframe tbody tr th {\n",
       "        vertical-align: top;\n",
       "    }\n",
       "\n",
       "    .dataframe thead th {\n",
       "        text-align: right;\n",
       "    }\n",
       "</style>\n",
       "<table border=\"1\" class=\"dataframe\">\n",
       "  <thead>\n",
       "    <tr style=\"text-align: right;\">\n",
       "      <th></th>\n",
       "      <th>MOMENT</th>\n",
       "      <th>twap_pnl</th>\n",
       "      <th>signature_pnl</th>\n",
       "    </tr>\n",
       "  </thead>\n",
       "  <tbody>\n",
       "    <tr>\n",
       "      <th>0</th>\n",
       "      <td>2021-02-01 18:10:15.611222</td>\n",
       "      <td>-49.0475</td>\n",
       "      <td>18.75</td>\n",
       "    </tr>\n",
       "    <tr>\n",
       "      <th>1</th>\n",
       "      <td>2021-02-01 22:20:17.074682</td>\n",
       "      <td>-5.1900</td>\n",
       "      <td>2.50</td>\n",
       "    </tr>\n",
       "    <tr>\n",
       "      <th>2</th>\n",
       "      <td>2021-02-01 23:31:08.196003</td>\n",
       "      <td>-81.5525</td>\n",
       "      <td>-63.75</td>\n",
       "    </tr>\n",
       "    <tr>\n",
       "      <th>3</th>\n",
       "      <td>2021-02-01 13:23:14.931749</td>\n",
       "      <td>-5.8325</td>\n",
       "      <td>16.25</td>\n",
       "    </tr>\n",
       "    <tr>\n",
       "      <th>4</th>\n",
       "      <td>2021-02-01 13:31:09.506345</td>\n",
       "      <td>37.6200</td>\n",
       "      <td>17.50</td>\n",
       "    </tr>\n",
       "    <tr>\n",
       "      <th>...</th>\n",
       "      <td>...</td>\n",
       "      <td>...</td>\n",
       "      <td>...</td>\n",
       "    </tr>\n",
       "    <tr>\n",
       "      <th>2698</th>\n",
       "      <td>2021-10-06 16:22:34.587892</td>\n",
       "      <td>-44.6600</td>\n",
       "      <td>-73.75</td>\n",
       "    </tr>\n",
       "    <tr>\n",
       "      <th>2699</th>\n",
       "      <td>2021-10-06 16:32:02.367660</td>\n",
       "      <td>84.5175</td>\n",
       "      <td>160.00</td>\n",
       "    </tr>\n",
       "    <tr>\n",
       "      <th>2700</th>\n",
       "      <td>2021-10-06 15:11:23.178082</td>\n",
       "      <td>1.0025</td>\n",
       "      <td>8.75</td>\n",
       "    </tr>\n",
       "    <tr>\n",
       "      <th>2701</th>\n",
       "      <td>2021-10-06 15:22:44.063087</td>\n",
       "      <td>84.5900</td>\n",
       "      <td>105.00</td>\n",
       "    </tr>\n",
       "    <tr>\n",
       "      <th>2702</th>\n",
       "      <td>2021-10-06 15:34:35.640399</td>\n",
       "      <td>32.8525</td>\n",
       "      <td>15.00</td>\n",
       "    </tr>\n",
       "  </tbody>\n",
       "</table>\n",
       "<p>2703 rows × 3 columns</p>\n",
       "</div>"
      ],
      "text/plain": [
       "                          MOMENT  twap_pnl  signature_pnl\n",
       "0     2021-02-01 18:10:15.611222  -49.0475          18.75\n",
       "1     2021-02-01 22:20:17.074682   -5.1900           2.50\n",
       "2     2021-02-01 23:31:08.196003  -81.5525         -63.75\n",
       "3     2021-02-01 13:23:14.931749   -5.8325          16.25\n",
       "4     2021-02-01 13:31:09.506345   37.6200          17.50\n",
       "...                          ...       ...            ...\n",
       "2698  2021-10-06 16:22:34.587892  -44.6600         -73.75\n",
       "2699  2021-10-06 16:32:02.367660   84.5175         160.00\n",
       "2700  2021-10-06 15:11:23.178082    1.0025           8.75\n",
       "2701  2021-10-06 15:22:44.063087   84.5900         105.00\n",
       "2702  2021-10-06 15:34:35.640399   32.8525          15.00\n",
       "\n",
       "[2703 rows x 3 columns]"
      ]
     },
     "execution_count": 1106,
     "metadata": {},
     "output_type": "execute_result"
    }
   ],
   "source": [
    "df1 = pd.read_sql('''SELECT m.MOMENT, m.PRICE * t.QUANTITY - t.SUM as twap_pnl, m.PRICE * t.QUANTITY - s.SUM as signature_pnl FROM sign.RESULT as s\n",
    "                INNER JOIN twap.RESULT as t\n",
    "                on s.MOMENT = t.MOMENT AND s.SIDE = t.SIDE\n",
    "                INNER JOIN mid.MIDPRICE as m\n",
    "                on m.MOMENT = s.MOMENT\n",
    "                AND s.QUANTITY > 0 AND t.QUANTITY > 0 AND m.PRICE > 0\n",
    "                AND s.SIDE = 'B'\n",
    "            ''', all_sql)\n",
    "\n",
    "df1"
   ]
  },
  {
   "cell_type": "code",
   "execution_count": 1107,
   "metadata": {},
   "outputs": [
    {
     "data": {
      "text/html": [
       "<div>\n",
       "<style scoped>\n",
       "    .dataframe tbody tr th:only-of-type {\n",
       "        vertical-align: middle;\n",
       "    }\n",
       "\n",
       "    .dataframe tbody tr th {\n",
       "        vertical-align: top;\n",
       "    }\n",
       "\n",
       "    .dataframe thead th {\n",
       "        text-align: right;\n",
       "    }\n",
       "</style>\n",
       "<table border=\"1\" class=\"dataframe\">\n",
       "  <thead>\n",
       "    <tr style=\"text-align: right;\">\n",
       "      <th></th>\n",
       "      <th>twap_pnl</th>\n",
       "      <th>signature_pnl</th>\n",
       "    </tr>\n",
       "  </thead>\n",
       "  <tbody>\n",
       "    <tr>\n",
       "      <th>sum</th>\n",
       "      <td>-75337.895000</td>\n",
       "      <td>-49015.000000</td>\n",
       "    </tr>\n",
       "    <tr>\n",
       "      <th>min</th>\n",
       "      <td>-668.672500</td>\n",
       "      <td>-980.000000</td>\n",
       "    </tr>\n",
       "    <tr>\n",
       "      <th>max</th>\n",
       "      <td>297.052500</td>\n",
       "      <td>277.500000</td>\n",
       "    </tr>\n",
       "    <tr>\n",
       "      <th>mean</th>\n",
       "      <td>-27.871955</td>\n",
       "      <td>-18.133555</td>\n",
       "    </tr>\n",
       "    <tr>\n",
       "      <th>std</th>\n",
       "      <td>47.042237</td>\n",
       "      <td>58.033897</td>\n",
       "    </tr>\n",
       "  </tbody>\n",
       "</table>\n",
       "</div>"
      ],
      "text/plain": [
       "          twap_pnl  signature_pnl\n",
       "sum  -75337.895000  -49015.000000\n",
       "min    -668.672500    -980.000000\n",
       "max     297.052500     277.500000\n",
       "mean    -27.871955     -18.133555\n",
       "std      47.042237      58.033897"
      ]
     },
     "execution_count": 1107,
     "metadata": {},
     "output_type": "execute_result"
    }
   ],
   "source": [
    "df1.agg(['sum', 'min', 'max', 'mean', 'std'])[['twap_pnl', 'signature_pnl']]"
   ]
  },
  {
   "cell_type": "code",
   "execution_count": 1108,
   "metadata": {},
   "outputs": [
    {
     "name": "stdout",
     "output_type": "stream",
     "text": [
      "95% confidence interval: (-29646.17585761524, -26097.734612236793)\n"
     ]
    }
   ],
   "source": [
    "twap_profits = np.array(1000 * df1['twap_pnl'])\n",
    "\n",
    "from statsmodels.stats.weightstats import DescrStatsW \n",
    "print(\"95% confidence interval:\", DescrStatsW(twap_profits).tconfint_mean())"
   ]
  },
  {
   "cell_type": "code",
   "execution_count": 1109,
   "metadata": {},
   "outputs": [
    {
     "name": "stdout",
     "output_type": "stream",
     "text": [
      "95% confidence interval: (-20322.33167838968, -15944.778939442791)\n"
     ]
    }
   ],
   "source": [
    "sign_profits = np.array(1000 * df1['signature_pnl'])\n",
    "\n",
    "from statsmodels.stats.weightstats import DescrStatsW \n",
    "print(\"95% confidence interval:\", DescrStatsW(sign_profits).tconfint_mean())"
   ]
  },
  {
   "cell_type": "markdown",
   "metadata": {},
   "source": [
    "Analysing TWAP/Signature algorithms for sell hedging:"
   ]
  },
  {
   "cell_type": "code",
   "execution_count": 1110,
   "metadata": {},
   "outputs": [
    {
     "data": {
      "text/html": [
       "<div>\n",
       "<style scoped>\n",
       "    .dataframe tbody tr th:only-of-type {\n",
       "        vertical-align: middle;\n",
       "    }\n",
       "\n",
       "    .dataframe tbody tr th {\n",
       "        vertical-align: top;\n",
       "    }\n",
       "\n",
       "    .dataframe thead th {\n",
       "        text-align: right;\n",
       "    }\n",
       "</style>\n",
       "<table border=\"1\" class=\"dataframe\">\n",
       "  <thead>\n",
       "    <tr style=\"text-align: right;\">\n",
       "      <th></th>\n",
       "      <th>MOMENT</th>\n",
       "      <th>twap_pnl</th>\n",
       "      <th>signature_pnl</th>\n",
       "    </tr>\n",
       "  </thead>\n",
       "  <tbody>\n",
       "    <tr>\n",
       "      <th>0</th>\n",
       "      <td>2021-02-01 18:10:15.611222</td>\n",
       "      <td>-13.5100</td>\n",
       "      <td>-52.50</td>\n",
       "    </tr>\n",
       "    <tr>\n",
       "      <th>1</th>\n",
       "      <td>2021-02-01 22:20:17.074682</td>\n",
       "      <td>-52.3450</td>\n",
       "      <td>-30.00</td>\n",
       "    </tr>\n",
       "    <tr>\n",
       "      <th>2</th>\n",
       "      <td>2021-02-01 23:31:08.196003</td>\n",
       "      <td>10.1475</td>\n",
       "      <td>10.00</td>\n",
       "    </tr>\n",
       "    <tr>\n",
       "      <th>3</th>\n",
       "      <td>2021-02-01 13:23:14.931749</td>\n",
       "      <td>-42.5275</td>\n",
       "      <td>-45.00</td>\n",
       "    </tr>\n",
       "    <tr>\n",
       "      <th>4</th>\n",
       "      <td>2021-02-01 13:31:09.506345</td>\n",
       "      <td>-93.1050</td>\n",
       "      <td>-42.50</td>\n",
       "    </tr>\n",
       "    <tr>\n",
       "      <th>...</th>\n",
       "      <td>...</td>\n",
       "      <td>...</td>\n",
       "      <td>...</td>\n",
       "    </tr>\n",
       "    <tr>\n",
       "      <th>2698</th>\n",
       "      <td>2021-10-06 16:22:34.587892</td>\n",
       "      <td>3.0550</td>\n",
       "      <td>41.25</td>\n",
       "    </tr>\n",
       "    <tr>\n",
       "      <th>2699</th>\n",
       "      <td>2021-10-06 16:32:02.367660</td>\n",
       "      <td>-133.7000</td>\n",
       "      <td>-190.00</td>\n",
       "    </tr>\n",
       "    <tr>\n",
       "      <th>2700</th>\n",
       "      <td>2021-10-06 15:11:23.178082</td>\n",
       "      <td>-55.7800</td>\n",
       "      <td>-48.75</td>\n",
       "    </tr>\n",
       "    <tr>\n",
       "      <th>2701</th>\n",
       "      <td>2021-10-06 15:22:44.063087</td>\n",
       "      <td>-129.3775</td>\n",
       "      <td>-130.00</td>\n",
       "    </tr>\n",
       "    <tr>\n",
       "      <th>2702</th>\n",
       "      <td>2021-10-06 15:34:35.640399</td>\n",
       "      <td>-82.8775</td>\n",
       "      <td>-47.50</td>\n",
       "    </tr>\n",
       "  </tbody>\n",
       "</table>\n",
       "<p>2703 rows × 3 columns</p>\n",
       "</div>"
      ],
      "text/plain": [
       "                          MOMENT  twap_pnl  signature_pnl\n",
       "0     2021-02-01 18:10:15.611222  -13.5100         -52.50\n",
       "1     2021-02-01 22:20:17.074682  -52.3450         -30.00\n",
       "2     2021-02-01 23:31:08.196003   10.1475          10.00\n",
       "3     2021-02-01 13:23:14.931749  -42.5275         -45.00\n",
       "4     2021-02-01 13:31:09.506345  -93.1050         -42.50\n",
       "...                          ...       ...            ...\n",
       "2698  2021-10-06 16:22:34.587892    3.0550          41.25\n",
       "2699  2021-10-06 16:32:02.367660 -133.7000        -190.00\n",
       "2700  2021-10-06 15:11:23.178082  -55.7800         -48.75\n",
       "2701  2021-10-06 15:22:44.063087 -129.3775        -130.00\n",
       "2702  2021-10-06 15:34:35.640399  -82.8775         -47.50\n",
       "\n",
       "[2703 rows x 3 columns]"
      ]
     },
     "execution_count": 1110,
     "metadata": {},
     "output_type": "execute_result"
    }
   ],
   "source": [
    "df2 = pd.read_sql('''SELECT m.MOMENT, t.SUM - m.PRICE * t.QUANTITY as twap_pnl, s.SUM - m.PRICE * t.QUANTITY as signature_pnl FROM sign.RESULT as s\n",
    "                INNER JOIN twap.RESULT as t\n",
    "                on s.MOMENT = t.MOMENT AND s.SIDE = t.SIDE\n",
    "                INNER JOIN mid.MIDPRICE as m\n",
    "                on m.MOMENT = s.MOMENT\n",
    "                AND s.QUANTITY > 0 AND t.QUANTITY > 0 AND m.PRICE > 0\n",
    "                AND s.SIDE = 'S'\n",
    "            ''', all_sql)\n",
    "\n",
    "df2"
   ]
  },
  {
   "cell_type": "code",
   "execution_count": 1111,
   "metadata": {},
   "outputs": [
    {
     "data": {
      "text/html": [
       "<div>\n",
       "<style scoped>\n",
       "    .dataframe tbody tr th:only-of-type {\n",
       "        vertical-align: middle;\n",
       "    }\n",
       "\n",
       "    .dataframe tbody tr th {\n",
       "        vertical-align: top;\n",
       "    }\n",
       "\n",
       "    .dataframe thead th {\n",
       "        text-align: right;\n",
       "    }\n",
       "</style>\n",
       "<table border=\"1\" class=\"dataframe\">\n",
       "  <thead>\n",
       "    <tr style=\"text-align: right;\">\n",
       "      <th></th>\n",
       "      <th>twap_pnl</th>\n",
       "      <th>signature_pnl</th>\n",
       "    </tr>\n",
       "  </thead>\n",
       "  <tbody>\n",
       "    <tr>\n",
       "      <th>sum</th>\n",
       "      <td>-77277.805000</td>\n",
       "      <td>-51681.250000</td>\n",
       "    </tr>\n",
       "    <tr>\n",
       "      <th>min</th>\n",
       "      <td>-389.755000</td>\n",
       "      <td>-326.250000</td>\n",
       "    </tr>\n",
       "    <tr>\n",
       "      <th>max</th>\n",
       "      <td>589.077500</td>\n",
       "      <td>931.250000</td>\n",
       "    </tr>\n",
       "    <tr>\n",
       "      <th>mean</th>\n",
       "      <td>-28.589643</td>\n",
       "      <td>-19.119959</td>\n",
       "    </tr>\n",
       "    <tr>\n",
       "      <th>std</th>\n",
       "      <td>47.045021</td>\n",
       "      <td>57.441586</td>\n",
       "    </tr>\n",
       "  </tbody>\n",
       "</table>\n",
       "</div>"
      ],
      "text/plain": [
       "          twap_pnl  signature_pnl\n",
       "sum  -77277.805000  -51681.250000\n",
       "min    -389.755000    -326.250000\n",
       "max     589.077500     931.250000\n",
       "mean    -28.589643     -19.119959\n",
       "std      47.045021      57.441586"
      ]
     },
     "execution_count": 1111,
     "metadata": {},
     "output_type": "execute_result"
    }
   ],
   "source": [
    "df2.agg(['sum', 'min', 'max', 'mean', 'std'])[['twap_pnl', 'signature_pnl']]"
   ]
  },
  {
   "cell_type": "code",
   "execution_count": 1112,
   "metadata": {},
   "outputs": [
    {
     "name": "stdout",
     "output_type": "stream",
     "text": [
      "95% confidence interval: (-30363.96860450857, -26815.317374031532)\n"
     ]
    }
   ],
   "source": [
    "twap_profits = np.array(1000 * df2['twap_pnl'])\n",
    "\n",
    "from statsmodels.stats.weightstats import DescrStatsW \n",
    "print(\"95% confidence interval:\", DescrStatsW(twap_profits).tconfint_mean())"
   ]
  },
  {
   "cell_type": "code",
   "execution_count": 1113,
   "metadata": {},
   "outputs": [
    {
     "name": "stdout",
     "output_type": "stream",
     "text": [
      "95% confidence interval: (-21286.396352508385, -16953.522256444066)\n"
     ]
    }
   ],
   "source": [
    "sign_profits = np.array(1000 * df2['signature_pnl'])\n",
    "\n",
    "from statsmodels.stats.weightstats import DescrStatsW \n",
    "print(\"95% confidence interval:\", DescrStatsW(sign_profits).tconfint_mean())"
   ]
  },
  {
   "cell_type": "code",
   "execution_count": 1114,
   "metadata": {},
   "outputs": [],
   "source": [
    "cursorObject.close()\n",
    "all_sql.close()"
   ]
  },
  {
   "cell_type": "markdown",
   "metadata": {},
   "source": [
    "Collect information:"
   ]
  },
  {
   "cell_type": "code",
   "execution_count": 1115,
   "metadata": {},
   "outputs": [],
   "source": [
    "__f = pd.concat([df1, df2], axis=0)\n",
    "\n",
    "df_data['experiment_9'] = [DescrStatsW(__f['twap_pnl']).tconfint_mean(), DescrStatsW(__f['signature_pnl']).tconfint_mean(), 5000, 'public', '10_by_10%']"
   ]
  },
  {
   "cell_type": "markdown",
   "metadata": {},
   "source": [
    "# My Experiment 10"
   ]
  },
  {
   "cell_type": "code",
   "execution_count": 1116,
   "metadata": {},
   "outputs": [],
   "source": [
    "MID_PATH = '../0_CommonFiles/mid.db3'\n",
    "TWAP_PATH = '../c_Experiment10/twap.db3'\n",
    "SIGNATURE_PATH = '../c_Experiment10/signature.db3'"
   ]
  },
  {
   "cell_type": "code",
   "execution_count": 1117,
   "metadata": {},
   "outputs": [],
   "source": [
    "all_sql = sqlite3.connect('')"
   ]
  },
  {
   "cell_type": "code",
   "execution_count": 1118,
   "metadata": {},
   "outputs": [],
   "source": [
    "cursorObject = all_sql.cursor()"
   ]
  },
  {
   "cell_type": "code",
   "execution_count": 1119,
   "metadata": {},
   "outputs": [],
   "source": [
    "attach(cursorObject, MID_PATH, 'mid')\n",
    "attach(cursorObject, TWAP_PATH, 'twap')\n",
    "attach(cursorObject, SIGNATURE_PATH, 'sign')"
   ]
  },
  {
   "cell_type": "markdown",
   "metadata": {},
   "source": [
    "Analysing TWAP/Signature algorithms for buy hedging:"
   ]
  },
  {
   "cell_type": "code",
   "execution_count": 1120,
   "metadata": {},
   "outputs": [
    {
     "data": {
      "text/html": [
       "<div>\n",
       "<style scoped>\n",
       "    .dataframe tbody tr th:only-of-type {\n",
       "        vertical-align: middle;\n",
       "    }\n",
       "\n",
       "    .dataframe tbody tr th {\n",
       "        vertical-align: top;\n",
       "    }\n",
       "\n",
       "    .dataframe thead th {\n",
       "        text-align: right;\n",
       "    }\n",
       "</style>\n",
       "<table border=\"1\" class=\"dataframe\">\n",
       "  <thead>\n",
       "    <tr style=\"text-align: right;\">\n",
       "      <th></th>\n",
       "      <th>MOMENT</th>\n",
       "      <th>twap_pnl</th>\n",
       "      <th>signature_pnl</th>\n",
       "    </tr>\n",
       "  </thead>\n",
       "  <tbody>\n",
       "    <tr>\n",
       "      <th>0</th>\n",
       "      <td>2021-02-01 18:10:15.611222</td>\n",
       "      <td>-112.7150</td>\n",
       "      <td>37.5</td>\n",
       "    </tr>\n",
       "    <tr>\n",
       "      <th>1</th>\n",
       "      <td>2021-02-01 22:20:17.074682</td>\n",
       "      <td>-25.0200</td>\n",
       "      <td>5.0</td>\n",
       "    </tr>\n",
       "    <tr>\n",
       "      <th>2</th>\n",
       "      <td>2021-02-01 23:31:08.196003</td>\n",
       "      <td>-179.6400</td>\n",
       "      <td>-127.5</td>\n",
       "    </tr>\n",
       "    <tr>\n",
       "      <th>3</th>\n",
       "      <td>2021-02-01 13:23:14.931749</td>\n",
       "      <td>-27.8325</td>\n",
       "      <td>32.5</td>\n",
       "    </tr>\n",
       "    <tr>\n",
       "      <th>4</th>\n",
       "      <td>2021-02-01 13:31:09.506345</td>\n",
       "      <td>48.4275</td>\n",
       "      <td>35.0</td>\n",
       "    </tr>\n",
       "    <tr>\n",
       "      <th>...</th>\n",
       "      <td>...</td>\n",
       "      <td>...</td>\n",
       "      <td>...</td>\n",
       "    </tr>\n",
       "    <tr>\n",
       "      <th>2698</th>\n",
       "      <td>2021-10-06 16:22:34.587892</td>\n",
       "      <td>-102.2025</td>\n",
       "      <td>-147.5</td>\n",
       "    </tr>\n",
       "    <tr>\n",
       "      <th>2699</th>\n",
       "      <td>2021-10-06 16:32:02.367660</td>\n",
       "      <td>156.4950</td>\n",
       "      <td>320.0</td>\n",
       "    </tr>\n",
       "    <tr>\n",
       "      <th>2700</th>\n",
       "      <td>2021-10-06 15:11:23.178082</td>\n",
       "      <td>-9.4150</td>\n",
       "      <td>17.5</td>\n",
       "    </tr>\n",
       "    <tr>\n",
       "      <th>2701</th>\n",
       "      <td>2021-10-06 15:22:44.063087</td>\n",
       "      <td>154.9525</td>\n",
       "      <td>210.0</td>\n",
       "    </tr>\n",
       "    <tr>\n",
       "      <th>2702</th>\n",
       "      <td>2021-10-06 15:34:35.640399</td>\n",
       "      <td>52.0550</td>\n",
       "      <td>30.0</td>\n",
       "    </tr>\n",
       "  </tbody>\n",
       "</table>\n",
       "<p>2703 rows × 3 columns</p>\n",
       "</div>"
      ],
      "text/plain": [
       "                          MOMENT  twap_pnl  signature_pnl\n",
       "0     2021-02-01 18:10:15.611222 -112.7150           37.5\n",
       "1     2021-02-01 22:20:17.074682  -25.0200            5.0\n",
       "2     2021-02-01 23:31:08.196003 -179.6400         -127.5\n",
       "3     2021-02-01 13:23:14.931749  -27.8325           32.5\n",
       "4     2021-02-01 13:31:09.506345   48.4275           35.0\n",
       "...                          ...       ...            ...\n",
       "2698  2021-10-06 16:22:34.587892 -102.2025         -147.5\n",
       "2699  2021-10-06 16:32:02.367660  156.4950          320.0\n",
       "2700  2021-10-06 15:11:23.178082   -9.4150           17.5\n",
       "2701  2021-10-06 15:22:44.063087  154.9525          210.0\n",
       "2702  2021-10-06 15:34:35.640399   52.0550           30.0\n",
       "\n",
       "[2703 rows x 3 columns]"
      ]
     },
     "execution_count": 1120,
     "metadata": {},
     "output_type": "execute_result"
    }
   ],
   "source": [
    "df1 = pd.read_sql('''SELECT m.MOMENT, m.PRICE * t.QUANTITY - t.SUM as twap_pnl, m.PRICE * t.QUANTITY - s.SUM as signature_pnl FROM sign.RESULT as s\n",
    "                INNER JOIN twap.RESULT as t\n",
    "                on s.MOMENT = t.MOMENT AND s.SIDE = t.SIDE\n",
    "                INNER JOIN mid.MIDPRICE as m\n",
    "                on m.MOMENT = s.MOMENT\n",
    "                AND s.QUANTITY > 0 AND t.QUANTITY > 0 AND m.PRICE > 0\n",
    "                AND s.SIDE = 'B'\n",
    "            ''', all_sql)\n",
    "\n",
    "df1"
   ]
  },
  {
   "cell_type": "code",
   "execution_count": 1121,
   "metadata": {},
   "outputs": [
    {
     "data": {
      "text/html": [
       "<div>\n",
       "<style scoped>\n",
       "    .dataframe tbody tr th:only-of-type {\n",
       "        vertical-align: middle;\n",
       "    }\n",
       "\n",
       "    .dataframe tbody tr th {\n",
       "        vertical-align: top;\n",
       "    }\n",
       "\n",
       "    .dataframe thead th {\n",
       "        text-align: right;\n",
       "    }\n",
       "</style>\n",
       "<table border=\"1\" class=\"dataframe\">\n",
       "  <thead>\n",
       "    <tr style=\"text-align: right;\">\n",
       "      <th></th>\n",
       "      <th>twap_pnl</th>\n",
       "      <th>signature_pnl</th>\n",
       "    </tr>\n",
       "  </thead>\n",
       "  <tbody>\n",
       "    <tr>\n",
       "      <th>sum</th>\n",
       "      <td>-195313.315000</td>\n",
       "      <td>-98030.000000</td>\n",
       "    </tr>\n",
       "    <tr>\n",
       "      <th>min</th>\n",
       "      <td>-1359.822500</td>\n",
       "      <td>-1960.000000</td>\n",
       "    </tr>\n",
       "    <tr>\n",
       "      <th>max</th>\n",
       "      <td>560.425000</td>\n",
       "      <td>555.000000</td>\n",
       "    </tr>\n",
       "    <tr>\n",
       "      <th>mean</th>\n",
       "      <td>-72.257978</td>\n",
       "      <td>-36.267111</td>\n",
       "    </tr>\n",
       "    <tr>\n",
       "      <th>std</th>\n",
       "      <td>94.969269</td>\n",
       "      <td>116.067795</td>\n",
       "    </tr>\n",
       "  </tbody>\n",
       "</table>\n",
       "</div>"
      ],
      "text/plain": [
       "           twap_pnl  signature_pnl\n",
       "sum  -195313.315000  -98030.000000\n",
       "min    -1359.822500   -1960.000000\n",
       "max      560.425000     555.000000\n",
       "mean     -72.257978     -36.267111\n",
       "std       94.969269     116.067795"
      ]
     },
     "execution_count": 1121,
     "metadata": {},
     "output_type": "execute_result"
    }
   ],
   "source": [
    "df1.agg(['sum', 'min', 'max', 'mean', 'std'])[['twap_pnl', 'signature_pnl']]"
   ]
  },
  {
   "cell_type": "code",
   "execution_count": 1122,
   "metadata": {},
   "outputs": [
    {
     "name": "stdout",
     "output_type": "stream",
     "text": [
      "95% confidence interval: (-75839.78986106958, -68676.1664837377)\n"
     ]
    }
   ],
   "source": [
    "twap_profits = np.array(1000 * df1['twap_pnl'])\n",
    "\n",
    "from statsmodels.stats.weightstats import DescrStatsW \n",
    "print(\"95% confidence interval:\", DescrStatsW(twap_profits).tconfint_mean())"
   ]
  },
  {
   "cell_type": "code",
   "execution_count": 1123,
   "metadata": {},
   "outputs": [
    {
     "name": "stdout",
     "output_type": "stream",
     "text": [
      "95% confidence interval: (-40644.66335677936, -31889.557878885582)\n"
     ]
    }
   ],
   "source": [
    "sign_profits = np.array(1000 * df1['signature_pnl'])\n",
    "\n",
    "from statsmodels.stats.weightstats import DescrStatsW \n",
    "print(\"95% confidence interval:\", DescrStatsW(sign_profits).tconfint_mean())"
   ]
  },
  {
   "cell_type": "markdown",
   "metadata": {},
   "source": [
    "Analysing TWAP/Signature algorithms for sell hedging:"
   ]
  },
  {
   "cell_type": "code",
   "execution_count": 1124,
   "metadata": {},
   "outputs": [
    {
     "data": {
      "text/html": [
       "<div>\n",
       "<style scoped>\n",
       "    .dataframe tbody tr th:only-of-type {\n",
       "        vertical-align: middle;\n",
       "    }\n",
       "\n",
       "    .dataframe tbody tr th {\n",
       "        vertical-align: top;\n",
       "    }\n",
       "\n",
       "    .dataframe thead th {\n",
       "        text-align: right;\n",
       "    }\n",
       "</style>\n",
       "<table border=\"1\" class=\"dataframe\">\n",
       "  <thead>\n",
       "    <tr style=\"text-align: right;\">\n",
       "      <th></th>\n",
       "      <th>MOMENT</th>\n",
       "      <th>twap_pnl</th>\n",
       "      <th>signature_pnl</th>\n",
       "    </tr>\n",
       "  </thead>\n",
       "  <tbody>\n",
       "    <tr>\n",
       "      <th>0</th>\n",
       "      <td>2021-02-01 18:10:15.611222</td>\n",
       "      <td>-51.0550</td>\n",
       "      <td>-105.0</td>\n",
       "    </tr>\n",
       "    <tr>\n",
       "      <th>1</th>\n",
       "      <td>2021-02-01 22:20:17.074682</td>\n",
       "      <td>-124.6950</td>\n",
       "      <td>-60.0</td>\n",
       "    </tr>\n",
       "    <tr>\n",
       "      <th>2</th>\n",
       "      <td>2021-02-01 23:31:08.196003</td>\n",
       "      <td>3.0275</td>\n",
       "      <td>20.0</td>\n",
       "    </tr>\n",
       "    <tr>\n",
       "      <th>3</th>\n",
       "      <td>2021-02-01 13:23:14.931749</td>\n",
       "      <td>-105.8100</td>\n",
       "      <td>-90.0</td>\n",
       "    </tr>\n",
       "    <tr>\n",
       "      <th>4</th>\n",
       "      <td>2021-02-01 13:31:09.506345</td>\n",
       "      <td>-204.2725</td>\n",
       "      <td>-85.0</td>\n",
       "    </tr>\n",
       "    <tr>\n",
       "      <th>...</th>\n",
       "      <td>...</td>\n",
       "      <td>...</td>\n",
       "      <td>...</td>\n",
       "    </tr>\n",
       "    <tr>\n",
       "      <th>2698</th>\n",
       "      <td>2021-10-06 16:22:34.587892</td>\n",
       "      <td>-2.7825</td>\n",
       "      <td>82.5</td>\n",
       "    </tr>\n",
       "    <tr>\n",
       "      <th>2699</th>\n",
       "      <td>2021-10-06 16:32:02.367660</td>\n",
       "      <td>-276.5125</td>\n",
       "      <td>-380.0</td>\n",
       "    </tr>\n",
       "    <tr>\n",
       "      <th>2700</th>\n",
       "      <td>2021-10-06 15:11:23.178082</td>\n",
       "      <td>-122.1275</td>\n",
       "      <td>-97.5</td>\n",
       "    </tr>\n",
       "    <tr>\n",
       "      <th>2701</th>\n",
       "      <td>2021-10-06 15:22:44.063087</td>\n",
       "      <td>-267.9475</td>\n",
       "      <td>-260.0</td>\n",
       "    </tr>\n",
       "    <tr>\n",
       "      <th>2702</th>\n",
       "      <td>2021-10-06 15:34:35.640399</td>\n",
       "      <td>-177.7500</td>\n",
       "      <td>-95.0</td>\n",
       "    </tr>\n",
       "  </tbody>\n",
       "</table>\n",
       "<p>2703 rows × 3 columns</p>\n",
       "</div>"
      ],
      "text/plain": [
       "                          MOMENT  twap_pnl  signature_pnl\n",
       "0     2021-02-01 18:10:15.611222  -51.0550         -105.0\n",
       "1     2021-02-01 22:20:17.074682 -124.6950          -60.0\n",
       "2     2021-02-01 23:31:08.196003    3.0275           20.0\n",
       "3     2021-02-01 13:23:14.931749 -105.8100          -90.0\n",
       "4     2021-02-01 13:31:09.506345 -204.2725          -85.0\n",
       "...                          ...       ...            ...\n",
       "2698  2021-10-06 16:22:34.587892   -2.7825           82.5\n",
       "2699  2021-10-06 16:32:02.367660 -276.5125         -380.0\n",
       "2700  2021-10-06 15:11:23.178082 -122.1275          -97.5\n",
       "2701  2021-10-06 15:22:44.063087 -267.9475         -260.0\n",
       "2702  2021-10-06 15:34:35.640399 -177.7500          -95.0\n",
       "\n",
       "[2703 rows x 3 columns]"
      ]
     },
     "execution_count": 1124,
     "metadata": {},
     "output_type": "execute_result"
    }
   ],
   "source": [
    "df2 = pd.read_sql('''SELECT m.MOMENT, t.SUM - m.PRICE * t.QUANTITY as twap_pnl, s.SUM - m.PRICE * t.QUANTITY as signature_pnl FROM sign.RESULT as s\n",
    "                INNER JOIN twap.RESULT as t\n",
    "                on s.MOMENT = t.MOMENT AND s.SIDE = t.SIDE\n",
    "                INNER JOIN mid.MIDPRICE as m\n",
    "                on m.MOMENT = s.MOMENT\n",
    "                AND s.QUANTITY > 0 AND t.QUANTITY > 0 AND m.PRICE > 0\n",
    "                AND s.SIDE = 'S'\n",
    "            ''', all_sql)\n",
    "\n",
    "df2"
   ]
  },
  {
   "cell_type": "code",
   "execution_count": 1125,
   "metadata": {},
   "outputs": [
    {
     "data": {
      "text/html": [
       "<div>\n",
       "<style scoped>\n",
       "    .dataframe tbody tr th:only-of-type {\n",
       "        vertical-align: middle;\n",
       "    }\n",
       "\n",
       "    .dataframe tbody tr th {\n",
       "        vertical-align: top;\n",
       "    }\n",
       "\n",
       "    .dataframe thead th {\n",
       "        text-align: right;\n",
       "    }\n",
       "</style>\n",
       "<table border=\"1\" class=\"dataframe\">\n",
       "  <thead>\n",
       "    <tr style=\"text-align: right;\">\n",
       "      <th></th>\n",
       "      <th>twap_pnl</th>\n",
       "      <th>signature_pnl</th>\n",
       "    </tr>\n",
       "  </thead>\n",
       "  <tbody>\n",
       "    <tr>\n",
       "      <th>sum</th>\n",
       "      <td>-201002.165000</td>\n",
       "      <td>-103362.500000</td>\n",
       "    </tr>\n",
       "    <tr>\n",
       "      <th>min</th>\n",
       "      <td>-805.552500</td>\n",
       "      <td>-652.500000</td>\n",
       "    </tr>\n",
       "    <tr>\n",
       "      <th>max</th>\n",
       "      <td>1153.015000</td>\n",
       "      <td>1862.500000</td>\n",
       "    </tr>\n",
       "    <tr>\n",
       "      <th>mean</th>\n",
       "      <td>-74.362621</td>\n",
       "      <td>-38.239919</td>\n",
       "    </tr>\n",
       "    <tr>\n",
       "      <th>std</th>\n",
       "      <td>94.901773</td>\n",
       "      <td>114.883172</td>\n",
       "    </tr>\n",
       "  </tbody>\n",
       "</table>\n",
       "</div>"
      ],
      "text/plain": [
       "           twap_pnl  signature_pnl\n",
       "sum  -201002.165000 -103362.500000\n",
       "min     -805.552500    -652.500000\n",
       "max     1153.015000    1862.500000\n",
       "mean     -74.362621     -38.239919\n",
       "std       94.901773     114.883172"
      ]
     },
     "execution_count": 1125,
     "metadata": {},
     "output_type": "execute_result"
    }
   ],
   "source": [
    "df2.agg(['sum', 'min', 'max', 'mean', 'std'])[['twap_pnl', 'signature_pnl']]"
   ]
  },
  {
   "cell_type": "code",
   "execution_count": 1126,
   "metadata": {},
   "outputs": [
    {
     "name": "stdout",
     "output_type": "stream",
     "text": [
      "95% confidence interval: (-77941.88721166256, -70783.35511168274)\n"
     ]
    }
   ],
   "source": [
    "twap_profits = np.array(1000 * df2['twap_pnl'])\n",
    "\n",
    "from statsmodels.stats.weightstats import DescrStatsW \n",
    "print(\"95% confidence interval:\", DescrStatsW(twap_profits).tconfint_mean())"
   ]
  },
  {
   "cell_type": "code",
   "execution_count": 1127,
   "metadata": {},
   "outputs": [
    {
     "name": "stdout",
     "output_type": "stream",
     "text": [
      "95% confidence interval: (-42572.79270501677, -33907.04451288813)\n"
     ]
    }
   ],
   "source": [
    "sign_profits = np.array(1000 * df2['signature_pnl'])\n",
    "\n",
    "from statsmodels.stats.weightstats import DescrStatsW \n",
    "print(\"95% confidence interval:\", DescrStatsW(sign_profits).tconfint_mean())"
   ]
  },
  {
   "cell_type": "code",
   "execution_count": 1128,
   "metadata": {},
   "outputs": [],
   "source": [
    "cursorObject.close()\n",
    "all_sql.close()"
   ]
  },
  {
   "cell_type": "markdown",
   "metadata": {},
   "source": [
    "Collect information:"
   ]
  },
  {
   "cell_type": "code",
   "execution_count": 1129,
   "metadata": {},
   "outputs": [],
   "source": [
    "__f = pd.concat([df1, df2], axis=0)\n",
    "\n",
    "df_data['experiment_10'] = [DescrStatsW(__f['twap_pnl']).tconfint_mean(), DescrStatsW(__f['signature_pnl']).tconfint_mean(), 10000, 'public', '10_by_10%']"
   ]
  },
  {
   "cell_type": "markdown",
   "metadata": {},
   "source": [
    "# My Experiment 11"
   ]
  },
  {
   "cell_type": "code",
   "execution_count": 1130,
   "metadata": {},
   "outputs": [],
   "source": [
    "MID_PATH = '../0_CommonFiles/mid.db3'\n",
    "TWAP_PATH = '../d_Experiment11/twap.db3'\n",
    "SIGNATURE_PATH = '../d_Experiment11/signature.db3'"
   ]
  },
  {
   "cell_type": "code",
   "execution_count": 1131,
   "metadata": {},
   "outputs": [],
   "source": [
    "all_sql = sqlite3.connect('')"
   ]
  },
  {
   "cell_type": "code",
   "execution_count": 1132,
   "metadata": {},
   "outputs": [],
   "source": [
    "cursorObject = all_sql.cursor()"
   ]
  },
  {
   "cell_type": "code",
   "execution_count": 1133,
   "metadata": {},
   "outputs": [],
   "source": [
    "attach(cursorObject, MID_PATH, 'mid')\n",
    "attach(cursorObject, TWAP_PATH, 'twap')\n",
    "attach(cursorObject, SIGNATURE_PATH, 'sign')"
   ]
  },
  {
   "cell_type": "markdown",
   "metadata": {},
   "source": [
    "Analysing TWAP/Signature algorithms for buy hedging:"
   ]
  },
  {
   "cell_type": "code",
   "execution_count": 1134,
   "metadata": {},
   "outputs": [
    {
     "data": {
      "text/html": [
       "<div>\n",
       "<style scoped>\n",
       "    .dataframe tbody tr th:only-of-type {\n",
       "        vertical-align: middle;\n",
       "    }\n",
       "\n",
       "    .dataframe tbody tr th {\n",
       "        vertical-align: top;\n",
       "    }\n",
       "\n",
       "    .dataframe thead th {\n",
       "        text-align: right;\n",
       "    }\n",
       "</style>\n",
       "<table border=\"1\" class=\"dataframe\">\n",
       "  <thead>\n",
       "    <tr style=\"text-align: right;\">\n",
       "      <th></th>\n",
       "      <th>MOMENT</th>\n",
       "      <th>twap_pnl</th>\n",
       "      <th>signature_pnl</th>\n",
       "    </tr>\n",
       "  </thead>\n",
       "  <tbody>\n",
       "    <tr>\n",
       "      <th>0</th>\n",
       "      <td>2021-02-01 10:01:36.771000</td>\n",
       "      <td>-140.3400</td>\n",
       "      <td>-157.6750</td>\n",
       "    </tr>\n",
       "    <tr>\n",
       "      <th>1</th>\n",
       "      <td>2021-02-01 10:05:02.883000</td>\n",
       "      <td>-55.4525</td>\n",
       "      <td>-62.9075</td>\n",
       "    </tr>\n",
       "    <tr>\n",
       "      <th>2</th>\n",
       "      <td>2021-02-01 10:05:11.061000</td>\n",
       "      <td>-298.1825</td>\n",
       "      <td>-266.8175</td>\n",
       "    </tr>\n",
       "    <tr>\n",
       "      <th>3</th>\n",
       "      <td>2021-02-01 10:05:23.526000</td>\n",
       "      <td>-250.6450</td>\n",
       "      <td>-225.5350</td>\n",
       "    </tr>\n",
       "    <tr>\n",
       "      <th>4</th>\n",
       "      <td>2021-02-01 10:07:27.929000</td>\n",
       "      <td>-326.4575</td>\n",
       "      <td>-34.4825</td>\n",
       "    </tr>\n",
       "    <tr>\n",
       "      <th>...</th>\n",
       "      <td>...</td>\n",
       "      <td>...</td>\n",
       "      <td>...</td>\n",
       "    </tr>\n",
       "    <tr>\n",
       "      <th>14918</th>\n",
       "      <td>2021-06-30 19:17:20.554000</td>\n",
       "      <td>-64.4100</td>\n",
       "      <td>-112.0950</td>\n",
       "    </tr>\n",
       "    <tr>\n",
       "      <th>14919</th>\n",
       "      <td>2021-06-30 19:30:16.189000</td>\n",
       "      <td>-48.1350</td>\n",
       "      <td>-96.1300</td>\n",
       "    </tr>\n",
       "    <tr>\n",
       "      <th>14920</th>\n",
       "      <td>2021-06-30 19:31:46.414000</td>\n",
       "      <td>-77.5450</td>\n",
       "      <td>-112.3450</td>\n",
       "    </tr>\n",
       "    <tr>\n",
       "      <th>14921</th>\n",
       "      <td>2021-06-30 19:41:04.630000</td>\n",
       "      <td>-113.6925</td>\n",
       "      <td>-115.8350</td>\n",
       "    </tr>\n",
       "    <tr>\n",
       "      <th>14922</th>\n",
       "      <td>2021-06-30 19:41:04.636000</td>\n",
       "      <td>-113.6925</td>\n",
       "      <td>-113.5625</td>\n",
       "    </tr>\n",
       "  </tbody>\n",
       "</table>\n",
       "<p>14923 rows × 3 columns</p>\n",
       "</div>"
      ],
      "text/plain": [
       "                           MOMENT  twap_pnl  signature_pnl\n",
       "0      2021-02-01 10:01:36.771000 -140.3400      -157.6750\n",
       "1      2021-02-01 10:05:02.883000  -55.4525       -62.9075\n",
       "2      2021-02-01 10:05:11.061000 -298.1825      -266.8175\n",
       "3      2021-02-01 10:05:23.526000 -250.6450      -225.5350\n",
       "4      2021-02-01 10:07:27.929000 -326.4575       -34.4825\n",
       "...                           ...       ...            ...\n",
       "14918  2021-06-30 19:17:20.554000  -64.4100      -112.0950\n",
       "14919  2021-06-30 19:30:16.189000  -48.1350       -96.1300\n",
       "14920  2021-06-30 19:31:46.414000  -77.5450      -112.3450\n",
       "14921  2021-06-30 19:41:04.630000 -113.6925      -115.8350\n",
       "14922  2021-06-30 19:41:04.636000 -113.6925      -113.5625\n",
       "\n",
       "[14923 rows x 3 columns]"
      ]
     },
     "execution_count": 1134,
     "metadata": {},
     "output_type": "execute_result"
    }
   ],
   "source": [
    "df1 = pd.read_sql('''SELECT m.MOMENT, m.PRICE * t.QUANTITY - t.SUM as twap_pnl, m.PRICE * t.QUANTITY - s.SUM as signature_pnl FROM sign.RESULT as s\n",
    "                INNER JOIN twap.RESULT as t\n",
    "                on s.MOMENT = t.MOMENT AND s.SIDE = t.SIDE\n",
    "                INNER JOIN mid.MIDPRICE as m\n",
    "                on m.MOMENT = s.MOMENT\n",
    "                AND s.QUANTITY > 0 AND t.QUANTITY > 0 AND m.PRICE > 0\n",
    "                AND s.SIDE = 'B'\n",
    "            ''', all_sql)\n",
    "\n",
    "df1"
   ]
  },
  {
   "cell_type": "code",
   "execution_count": 1135,
   "metadata": {},
   "outputs": [
    {
     "data": {
      "text/html": [
       "<div>\n",
       "<style scoped>\n",
       "    .dataframe tbody tr th:only-of-type {\n",
       "        vertical-align: middle;\n",
       "    }\n",
       "\n",
       "    .dataframe tbody tr th {\n",
       "        vertical-align: top;\n",
       "    }\n",
       "\n",
       "    .dataframe thead th {\n",
       "        text-align: right;\n",
       "    }\n",
       "</style>\n",
       "<table border=\"1\" class=\"dataframe\">\n",
       "  <thead>\n",
       "    <tr style=\"text-align: right;\">\n",
       "      <th></th>\n",
       "      <th>twap_pnl</th>\n",
       "      <th>signature_pnl</th>\n",
       "    </tr>\n",
       "  </thead>\n",
       "  <tbody>\n",
       "    <tr>\n",
       "      <th>sum</th>\n",
       "      <td>-1.657803e+06</td>\n",
       "      <td>-2.047776e+06</td>\n",
       "    </tr>\n",
       "    <tr>\n",
       "      <th>min</th>\n",
       "      <td>-1.636468e+03</td>\n",
       "      <td>-1.576862e+03</td>\n",
       "    </tr>\n",
       "    <tr>\n",
       "      <th>max</th>\n",
       "      <td>1.275402e+03</td>\n",
       "      <td>1.519245e+03</td>\n",
       "    </tr>\n",
       "    <tr>\n",
       "      <th>mean</th>\n",
       "      <td>-1.110904e+02</td>\n",
       "      <td>-1.372228e+02</td>\n",
       "    </tr>\n",
       "    <tr>\n",
       "      <th>std</th>\n",
       "      <td>1.306030e+02</td>\n",
       "      <td>1.042126e+02</td>\n",
       "    </tr>\n",
       "  </tbody>\n",
       "</table>\n",
       "</div>"
      ],
      "text/plain": [
       "          twap_pnl  signature_pnl\n",
       "sum  -1.657803e+06  -2.047776e+06\n",
       "min  -1.636468e+03  -1.576862e+03\n",
       "max   1.275402e+03   1.519245e+03\n",
       "mean -1.110904e+02  -1.372228e+02\n",
       "std   1.306030e+02   1.042126e+02"
      ]
     },
     "execution_count": 1135,
     "metadata": {},
     "output_type": "execute_result"
    }
   ],
   "source": [
    "df1.agg(['sum', 'min', 'max', 'mean', 'std'])[['twap_pnl', 'signature_pnl']]"
   ]
  },
  {
   "cell_type": "code",
   "execution_count": 1136,
   "metadata": {},
   "outputs": [
    {
     "name": "stdout",
     "output_type": "stream",
     "text": [
      "95% confidence interval: (-113186.04910781914, -108994.85051022102)\n"
     ]
    }
   ],
   "source": [
    "twap_profits = np.array(1000 * df1['twap_pnl'])\n",
    "\n",
    "from statsmodels.stats.weightstats import DescrStatsW \n",
    "print(\"95% confidence interval:\", DescrStatsW(twap_profits).tconfint_mean())"
   ]
  },
  {
   "cell_type": "code",
   "execution_count": 1137,
   "metadata": {},
   "outputs": [
    {
     "name": "stdout",
     "output_type": "stream",
     "text": [
      "95% confidence interval: (-138894.99250647525, -135550.69200736604)\n"
     ]
    }
   ],
   "source": [
    "sign_profits = np.array(1000 * df1['signature_pnl'])\n",
    "\n",
    "from statsmodels.stats.weightstats import DescrStatsW \n",
    "print(\"95% confidence interval:\", DescrStatsW(sign_profits).tconfint_mean())"
   ]
  },
  {
   "cell_type": "markdown",
   "metadata": {},
   "source": [
    "Analysing TWAP/Signature algorithms for sell hedging:"
   ]
  },
  {
   "cell_type": "code",
   "execution_count": 1138,
   "metadata": {},
   "outputs": [
    {
     "data": {
      "text/html": [
       "<div>\n",
       "<style scoped>\n",
       "    .dataframe tbody tr th:only-of-type {\n",
       "        vertical-align: middle;\n",
       "    }\n",
       "\n",
       "    .dataframe tbody tr th {\n",
       "        vertical-align: top;\n",
       "    }\n",
       "\n",
       "    .dataframe thead th {\n",
       "        text-align: right;\n",
       "    }\n",
       "</style>\n",
       "<table border=\"1\" class=\"dataframe\">\n",
       "  <thead>\n",
       "    <tr style=\"text-align: right;\">\n",
       "      <th></th>\n",
       "      <th>MOMENT</th>\n",
       "      <th>twap_pnl</th>\n",
       "      <th>signature_pnl</th>\n",
       "    </tr>\n",
       "  </thead>\n",
       "  <tbody>\n",
       "    <tr>\n",
       "      <th>0</th>\n",
       "      <td>2021-02-01 10:00:09.015000</td>\n",
       "      <td>-505.5725</td>\n",
       "      <td>-349.4250</td>\n",
       "    </tr>\n",
       "    <tr>\n",
       "      <th>1</th>\n",
       "      <td>2021-02-01 10:04:36.332000</td>\n",
       "      <td>-437.1425</td>\n",
       "      <td>-258.2975</td>\n",
       "    </tr>\n",
       "    <tr>\n",
       "      <th>2</th>\n",
       "      <td>2021-02-01 10:04:57.946000</td>\n",
       "      <td>-347.1400</td>\n",
       "      <td>-298.9875</td>\n",
       "    </tr>\n",
       "    <tr>\n",
       "      <th>3</th>\n",
       "      <td>2021-02-01 10:05:19.015000</td>\n",
       "      <td>13.6350</td>\n",
       "      <td>-8.5450</td>\n",
       "    </tr>\n",
       "    <tr>\n",
       "      <th>4</th>\n",
       "      <td>2021-02-01 10:08:27.788000</td>\n",
       "      <td>-244.0350</td>\n",
       "      <td>-249.0775</td>\n",
       "    </tr>\n",
       "    <tr>\n",
       "      <th>...</th>\n",
       "      <td>...</td>\n",
       "      <td>...</td>\n",
       "      <td>...</td>\n",
       "    </tr>\n",
       "    <tr>\n",
       "      <th>14768</th>\n",
       "      <td>2021-06-30 19:03:41.640000</td>\n",
       "      <td>-48.1300</td>\n",
       "      <td>-136.7300</td>\n",
       "    </tr>\n",
       "    <tr>\n",
       "      <th>14769</th>\n",
       "      <td>2021-06-30 19:05:10.360000</td>\n",
       "      <td>-167.9025</td>\n",
       "      <td>-224.5950</td>\n",
       "    </tr>\n",
       "    <tr>\n",
       "      <th>14770</th>\n",
       "      <td>2021-06-30 19:05:24.713000</td>\n",
       "      <td>-273.8500</td>\n",
       "      <td>-198.8475</td>\n",
       "    </tr>\n",
       "    <tr>\n",
       "      <th>14771</th>\n",
       "      <td>2021-06-30 19:29:14.314000</td>\n",
       "      <td>-90.5000</td>\n",
       "      <td>-141.7750</td>\n",
       "    </tr>\n",
       "    <tr>\n",
       "      <th>14772</th>\n",
       "      <td>2021-06-30 19:40:36.010000</td>\n",
       "      <td>-136.2775</td>\n",
       "      <td>-144.5450</td>\n",
       "    </tr>\n",
       "  </tbody>\n",
       "</table>\n",
       "<p>14773 rows × 3 columns</p>\n",
       "</div>"
      ],
      "text/plain": [
       "                           MOMENT  twap_pnl  signature_pnl\n",
       "0      2021-02-01 10:00:09.015000 -505.5725      -349.4250\n",
       "1      2021-02-01 10:04:36.332000 -437.1425      -258.2975\n",
       "2      2021-02-01 10:04:57.946000 -347.1400      -298.9875\n",
       "3      2021-02-01 10:05:19.015000   13.6350        -8.5450\n",
       "4      2021-02-01 10:08:27.788000 -244.0350      -249.0775\n",
       "...                           ...       ...            ...\n",
       "14768  2021-06-30 19:03:41.640000  -48.1300      -136.7300\n",
       "14769  2021-06-30 19:05:10.360000 -167.9025      -224.5950\n",
       "14770  2021-06-30 19:05:24.713000 -273.8500      -198.8475\n",
       "14771  2021-06-30 19:29:14.314000  -90.5000      -141.7750\n",
       "14772  2021-06-30 19:40:36.010000 -136.2775      -144.5450\n",
       "\n",
       "[14773 rows x 3 columns]"
      ]
     },
     "execution_count": 1138,
     "metadata": {},
     "output_type": "execute_result"
    }
   ],
   "source": [
    "df2 = pd.read_sql('''SELECT m.MOMENT, t.SUM - m.PRICE * t.QUANTITY as twap_pnl, s.SUM - m.PRICE * t.QUANTITY as signature_pnl FROM sign.RESULT as s\n",
    "                INNER JOIN twap.RESULT as t\n",
    "                on s.MOMENT = t.MOMENT AND s.SIDE = t.SIDE\n",
    "                INNER JOIN mid.MIDPRICE as m\n",
    "                on m.MOMENT = s.MOMENT\n",
    "                AND s.QUANTITY > 0 AND t.QUANTITY > 0 AND m.PRICE > 0\n",
    "                AND s.SIDE = 'S'\n",
    "            ''', all_sql)\n",
    "\n",
    "df2"
   ]
  },
  {
   "cell_type": "code",
   "execution_count": 1139,
   "metadata": {},
   "outputs": [
    {
     "data": {
      "text/html": [
       "<div>\n",
       "<style scoped>\n",
       "    .dataframe tbody tr th:only-of-type {\n",
       "        vertical-align: middle;\n",
       "    }\n",
       "\n",
       "    .dataframe tbody tr th {\n",
       "        vertical-align: top;\n",
       "    }\n",
       "\n",
       "    .dataframe thead th {\n",
       "        text-align: right;\n",
       "    }\n",
       "</style>\n",
       "<table border=\"1\" class=\"dataframe\">\n",
       "  <thead>\n",
       "    <tr style=\"text-align: right;\">\n",
       "      <th></th>\n",
       "      <th>twap_pnl</th>\n",
       "      <th>signature_pnl</th>\n",
       "    </tr>\n",
       "  </thead>\n",
       "  <tbody>\n",
       "    <tr>\n",
       "      <th>sum</th>\n",
       "      <td>-1.677329e+06</td>\n",
       "      <td>-2.099519e+06</td>\n",
       "    </tr>\n",
       "    <tr>\n",
       "      <th>min</th>\n",
       "      <td>-1.857400e+03</td>\n",
       "      <td>-1.769285e+03</td>\n",
       "    </tr>\n",
       "    <tr>\n",
       "      <th>max</th>\n",
       "      <td>1.608022e+03</td>\n",
       "      <td>1.035713e+03</td>\n",
       "    </tr>\n",
       "    <tr>\n",
       "      <th>mean</th>\n",
       "      <td>-1.135402e+02</td>\n",
       "      <td>-1.421187e+02</td>\n",
       "    </tr>\n",
       "    <tr>\n",
       "      <th>std</th>\n",
       "      <td>1.261232e+02</td>\n",
       "      <td>9.230369e+01</td>\n",
       "    </tr>\n",
       "  </tbody>\n",
       "</table>\n",
       "</div>"
      ],
      "text/plain": [
       "          twap_pnl  signature_pnl\n",
       "sum  -1.677329e+06  -2.099519e+06\n",
       "min  -1.857400e+03  -1.769285e+03\n",
       "max   1.608022e+03   1.035713e+03\n",
       "mean -1.135402e+02  -1.421187e+02\n",
       "std   1.261232e+02   9.230369e+01"
      ]
     },
     "execution_count": 1139,
     "metadata": {},
     "output_type": "execute_result"
    }
   ],
   "source": [
    "df2.agg(['sum', 'min', 'max', 'mean', 'std'])[['twap_pnl', 'signature_pnl']]"
   ]
  },
  {
   "cell_type": "code",
   "execution_count": 1140,
   "metadata": {},
   "outputs": [
    {
     "name": "stdout",
     "output_type": "stream",
     "text": [
      "95% confidence interval: (-115574.12622067775, -111506.18786583099)\n"
     ]
    }
   ],
   "source": [
    "twap_profits = np.array(1000 * df2['twap_pnl'])\n",
    "\n",
    "from statsmodels.stats.weightstats import DescrStatsW \n",
    "print(\"95% confidence interval:\", DescrStatsW(twap_profits).tconfint_mean())"
   ]
  },
  {
   "cell_type": "code",
   "execution_count": 1141,
   "metadata": {},
   "outputs": [
    {
     "name": "stdout",
     "output_type": "stream",
     "text": [
      "95% confidence interval: (-143607.24007510592, -140630.10609696317)\n"
     ]
    }
   ],
   "source": [
    "sign_profits = np.array(1000 * df2['signature_pnl'])\n",
    "\n",
    "from statsmodels.stats.weightstats import DescrStatsW \n",
    "print(\"95% confidence interval:\", DescrStatsW(sign_profits).tconfint_mean())"
   ]
  },
  {
   "cell_type": "code",
   "execution_count": 1142,
   "metadata": {},
   "outputs": [],
   "source": [
    "cursorObject.close()\n",
    "all_sql.close()"
   ]
  },
  {
   "cell_type": "markdown",
   "metadata": {},
   "source": [
    "Collect information:"
   ]
  },
  {
   "cell_type": "code",
   "execution_count": 1143,
   "metadata": {},
   "outputs": [],
   "source": [
    "__f = pd.concat([df1, df2], axis=0)\n",
    "\n",
    "df_data['experiment_11'] = [DescrStatsW(__f['twap_pnl']).tconfint_mean(), DescrStatsW(__f['signature_pnl']).tconfint_mean(), 10000, 'toxic', '10_by_10%']"
   ]
  },
  {
   "cell_type": "code",
   "execution_count": null,
   "metadata": {},
   "outputs": [],
   "source": []
  },
  {
   "cell_type": "code",
   "execution_count": null,
   "metadata": {},
   "outputs": [],
   "source": []
  },
  {
   "cell_type": "code",
   "execution_count": null,
   "metadata": {},
   "outputs": [],
   "source": []
  },
  {
   "cell_type": "code",
   "execution_count": null,
   "metadata": {},
   "outputs": [],
   "source": []
  },
  {
   "cell_type": "code",
   "execution_count": 1144,
   "metadata": {},
   "outputs": [
    {
     "data": {
      "text/html": [
       "<div>\n",
       "<style scoped>\n",
       "    .dataframe tbody tr th:only-of-type {\n",
       "        vertical-align: middle;\n",
       "    }\n",
       "\n",
       "    .dataframe tbody tr th {\n",
       "        vertical-align: top;\n",
       "    }\n",
       "\n",
       "    .dataframe thead th {\n",
       "        text-align: right;\n",
       "    }\n",
       "</style>\n",
       "<table border=\"1\" class=\"dataframe\">\n",
       "  <thead>\n",
       "    <tr style=\"text-align: right;\">\n",
       "      <th></th>\n",
       "      <th>twap_mean_pnl</th>\n",
       "      <th>signature_mean_pnl</th>\n",
       "      <th>lots_count</th>\n",
       "      <th>data_points</th>\n",
       "      <th>twap_type</th>\n",
       "    </tr>\n",
       "  </thead>\n",
       "  <tbody>\n",
       "    <tr>\n",
       "      <th>experiment_1</th>\n",
       "      <td>(-4.683707612472715, -4.221233110704355)</td>\n",
       "      <td>(-4.180801677096876, -3.6381076293642716)</td>\n",
       "      <td>1000</td>\n",
       "      <td>public (exotic signature)</td>\n",
       "      <td>5_by_20%</td>\n",
       "    </tr>\n",
       "    <tr>\n",
       "      <th>experiment_2</th>\n",
       "      <td>(-6.9844229584059985, -6.791228981249171)</td>\n",
       "      <td>(-6.605873203681364, -6.39888231894793)</td>\n",
       "      <td>1000</td>\n",
       "      <td>toxic</td>\n",
       "      <td>5_by_20%</td>\n",
       "    </tr>\n",
       "    <tr>\n",
       "      <th>experiment_3</th>\n",
       "      <td>(-52.17741531755515, -51.17026669348933)</td>\n",
       "      <td>(-52.463494138179094, -51.38312964953651)</td>\n",
       "      <td>5000</td>\n",
       "      <td>toxic</td>\n",
       "      <td>5_by_20%</td>\n",
       "    </tr>\n",
       "    <tr>\n",
       "      <th>experiment_4</th>\n",
       "      <td>(-138.20192032615847, -136.11132640740914)</td>\n",
       "      <td>(-140.7787087705663, -138.5380768234541)</td>\n",
       "      <td>10000</td>\n",
       "      <td>toxic</td>\n",
       "      <td>5_by_20%</td>\n",
       "    </tr>\n",
       "    <tr>\n",
       "      <th>experiment_5</th>\n",
       "      <td>(-4.772923320695867, -4.41310424127226)</td>\n",
       "      <td>(-4.033229354774255, -3.4174735679043096)</td>\n",
       "      <td>1000</td>\n",
       "      <td>public</td>\n",
       "      <td>5_by_20%</td>\n",
       "    </tr>\n",
       "    <tr>\n",
       "      <th>experiment_6</th>\n",
       "      <td>(-38.03869711664321, -36.16818227662295)</td>\n",
       "      <td>(-20.16614677387111, -17.087367839521352)</td>\n",
       "      <td>5000</td>\n",
       "      <td>public</td>\n",
       "      <td>5_by_20%</td>\n",
       "    </tr>\n",
       "    <tr>\n",
       "      <th>experiment_7</th>\n",
       "      <td>(-104.71026885389946, -100.8155478312662)</td>\n",
       "      <td>(-40.33229354774222, -34.174735679042705)</td>\n",
       "      <td>10000</td>\n",
       "      <td>public</td>\n",
       "      <td>5_by_20%</td>\n",
       "    </tr>\n",
       "    <tr>\n",
       "      <th>experiment_8</th>\n",
       "      <td>(-4.244541060911786, -3.747537185481271)</td>\n",
       "      <td>(-4.033229354774255, -3.4174735679043096)</td>\n",
       "      <td>1000</td>\n",
       "      <td>public</td>\n",
       "      <td>10_by_10%</td>\n",
       "    </tr>\n",
       "    <tr>\n",
       "      <th>experiment_9</th>\n",
       "      <td>(-29.485039017127555, -26.97655920706852)</td>\n",
       "      <td>(-20.16614677387111, -17.087367839521352)</td>\n",
       "      <td>5000</td>\n",
       "      <td>public</td>\n",
       "      <td>10_by_10%</td>\n",
       "    </tr>\n",
       "    <tr>\n",
       "      <th>experiment_10</th>\n",
       "      <td>(-75.84147722362398, -70.77912211045232)</td>\n",
       "      <td>(-40.33229354774222, -34.174735679042705)</td>\n",
       "      <td>10000</td>\n",
       "      <td>public</td>\n",
       "      <td>10_by_10%</td>\n",
       "    </tr>\n",
       "    <tr>\n",
       "      <th>experiment_11</th>\n",
       "      <td>(-113.7695230550556, -110.84870987193815)</td>\n",
       "      <td>(-140.7787087705663, -138.5380768234541)</td>\n",
       "      <td>10000</td>\n",
       "      <td>toxic</td>\n",
       "      <td>10_by_10%</td>\n",
       "    </tr>\n",
       "  </tbody>\n",
       "</table>\n",
       "</div>"
      ],
      "text/plain": [
       "                                            twap_mean_pnl  \\\n",
       "experiment_1     (-4.683707612472715, -4.221233110704355)   \n",
       "experiment_2    (-6.9844229584059985, -6.791228981249171)   \n",
       "experiment_3     (-52.17741531755515, -51.17026669348933)   \n",
       "experiment_4   (-138.20192032615847, -136.11132640740914)   \n",
       "experiment_5      (-4.772923320695867, -4.41310424127226)   \n",
       "experiment_6     (-38.03869711664321, -36.16818227662295)   \n",
       "experiment_7    (-104.71026885389946, -100.8155478312662)   \n",
       "experiment_8     (-4.244541060911786, -3.747537185481271)   \n",
       "experiment_9    (-29.485039017127555, -26.97655920706852)   \n",
       "experiment_10    (-75.84147722362398, -70.77912211045232)   \n",
       "experiment_11   (-113.7695230550556, -110.84870987193815)   \n",
       "\n",
       "                                      signature_mean_pnl  lots_count  \\\n",
       "experiment_1   (-4.180801677096876, -3.6381076293642716)        1000   \n",
       "experiment_2     (-6.605873203681364, -6.39888231894793)        1000   \n",
       "experiment_3   (-52.463494138179094, -51.38312964953651)        5000   \n",
       "experiment_4    (-140.7787087705663, -138.5380768234541)       10000   \n",
       "experiment_5   (-4.033229354774255, -3.4174735679043096)        1000   \n",
       "experiment_6   (-20.16614677387111, -17.087367839521352)        5000   \n",
       "experiment_7   (-40.33229354774222, -34.174735679042705)       10000   \n",
       "experiment_8   (-4.033229354774255, -3.4174735679043096)        1000   \n",
       "experiment_9   (-20.16614677387111, -17.087367839521352)        5000   \n",
       "experiment_10  (-40.33229354774222, -34.174735679042705)       10000   \n",
       "experiment_11   (-140.7787087705663, -138.5380768234541)       10000   \n",
       "\n",
       "                             data_points  twap_type  \n",
       "experiment_1   public (exotic signature)   5_by_20%  \n",
       "experiment_2                       toxic   5_by_20%  \n",
       "experiment_3                       toxic   5_by_20%  \n",
       "experiment_4                       toxic   5_by_20%  \n",
       "experiment_5                      public   5_by_20%  \n",
       "experiment_6                      public   5_by_20%  \n",
       "experiment_7                      public   5_by_20%  \n",
       "experiment_8                      public  10_by_10%  \n",
       "experiment_9                      public  10_by_10%  \n",
       "experiment_10                     public  10_by_10%  \n",
       "experiment_11                      toxic  10_by_10%  "
      ]
     },
     "execution_count": 1144,
     "metadata": {},
     "output_type": "execute_result"
    }
   ],
   "source": [
    "result = pd.DataFrame.from_dict(df_data, orient='index',\n",
    "                       columns=cols)\n",
    "result"
   ]
  },
  {
   "cell_type": "code",
   "execution_count": 1145,
   "metadata": {},
   "outputs": [],
   "source": [
    "norm_result = result.copy(deep=True)"
   ]
  },
  {
   "cell_type": "code",
   "execution_count": 1146,
   "metadata": {},
   "outputs": [
    {
     "name": "stdout",
     "output_type": "stream",
     "text": [
      "twap_mean_pnl          (-4.683707612472715, -4.221233110704355)\n",
      "signature_mean_pnl    (-4.180801677096876, -3.6381076293642716)\n",
      "lots_count                                                 1000\n",
      "data_points                           public (exotic signature)\n",
      "twap_type                                              5_by_20%\n",
      "Name: experiment_1, dtype: object\n",
      "twap_mean_pnl         (-6.9844229584059985, -6.791228981249171)\n",
      "signature_mean_pnl      (-6.605873203681364, -6.39888231894793)\n",
      "lots_count                                                 1000\n",
      "data_points                                               toxic\n",
      "twap_type                                              5_by_20%\n",
      "Name: experiment_2, dtype: object\n",
      "twap_mean_pnl          (-52.17741531755515, -51.17026669348933)\n",
      "signature_mean_pnl    (-52.463494138179094, -51.38312964953651)\n",
      "lots_count                                                 5000\n",
      "data_points                                               toxic\n",
      "twap_type                                              5_by_20%\n",
      "Name: experiment_3, dtype: object\n",
      "twap_mean_pnl         (-138.20192032615847, -136.11132640740914)\n",
      "signature_mean_pnl      (-140.7787087705663, -138.5380768234541)\n",
      "lots_count                                                 10000\n",
      "data_points                                                toxic\n",
      "twap_type                                               5_by_20%\n",
      "Name: experiment_4, dtype: object\n",
      "twap_mean_pnl           (-4.772923320695867, -4.41310424127226)\n",
      "signature_mean_pnl    (-4.033229354774255, -3.4174735679043096)\n",
      "lots_count                                                 1000\n",
      "data_points                                              public\n",
      "twap_type                                              5_by_20%\n",
      "Name: experiment_5, dtype: object\n",
      "twap_mean_pnl          (-38.03869711664321, -36.16818227662295)\n",
      "signature_mean_pnl    (-20.16614677387111, -17.087367839521352)\n",
      "lots_count                                                 5000\n",
      "data_points                                              public\n",
      "twap_type                                              5_by_20%\n",
      "Name: experiment_6, dtype: object\n",
      "twap_mean_pnl         (-104.71026885389946, -100.8155478312662)\n",
      "signature_mean_pnl    (-40.33229354774222, -34.174735679042705)\n",
      "lots_count                                                10000\n",
      "data_points                                              public\n",
      "twap_type                                              5_by_20%\n",
      "Name: experiment_7, dtype: object\n",
      "twap_mean_pnl          (-4.244541060911786, -3.747537185481271)\n",
      "signature_mean_pnl    (-4.033229354774255, -3.4174735679043096)\n",
      "lots_count                                                 1000\n",
      "data_points                                              public\n",
      "twap_type                                             10_by_10%\n",
      "Name: experiment_8, dtype: object\n",
      "twap_mean_pnl         (-29.485039017127555, -26.97655920706852)\n",
      "signature_mean_pnl    (-20.16614677387111, -17.087367839521352)\n",
      "lots_count                                                 5000\n",
      "data_points                                              public\n",
      "twap_type                                             10_by_10%\n",
      "Name: experiment_9, dtype: object\n",
      "twap_mean_pnl          (-75.84147722362398, -70.77912211045232)\n",
      "signature_mean_pnl    (-40.33229354774222, -34.174735679042705)\n",
      "lots_count                                                10000\n",
      "data_points                                              public\n",
      "twap_type                                             10_by_10%\n",
      "Name: experiment_10, dtype: object\n",
      "twap_mean_pnl         (-113.7695230550556, -110.84870987193815)\n",
      "signature_mean_pnl     (-140.7787087705663, -138.5380768234541)\n",
      "lots_count                                                10000\n",
      "data_points                                               toxic\n",
      "twap_type                                             10_by_10%\n",
      "Name: experiment_11, dtype: object\n"
     ]
    }
   ],
   "source": [
    "for i, row in norm_result.iterrows():\n",
    "    print(row)\n",
    "    \n",
    "    tt = row['twap_mean_pnl']\n",
    "    val = (row['twap_mean_pnl'][0] / row['lots_count'], row['twap_mean_pnl'][1] / row['lots_count'])\n",
    "    norm_result.at[i,'twap_mean_pnl'] = val\n",
    "    \n",
    "    tt = row['signature_mean_pnl']\n",
    "    val = (row['signature_mean_pnl'][0] / row['lots_count'], row['signature_mean_pnl'][1] / row['lots_count'])\n",
    "    norm_result.at[i,'signature_mean_pnl'] = val"
   ]
  },
  {
   "cell_type": "code",
   "execution_count": 1147,
   "metadata": {},
   "outputs": [
    {
     "data": {
      "text/html": [
       "<div>\n",
       "<style scoped>\n",
       "    .dataframe tbody tr th:only-of-type {\n",
       "        vertical-align: middle;\n",
       "    }\n",
       "\n",
       "    .dataframe tbody tr th {\n",
       "        vertical-align: top;\n",
       "    }\n",
       "\n",
       "    .dataframe thead th {\n",
       "        text-align: right;\n",
       "    }\n",
       "</style>\n",
       "<table border=\"1\" class=\"dataframe\">\n",
       "  <thead>\n",
       "    <tr style=\"text-align: right;\">\n",
       "      <th></th>\n",
       "      <th>twap_mean_pnl</th>\n",
       "      <th>signature_mean_pnl</th>\n",
       "      <th>lots_count</th>\n",
       "      <th>data_points</th>\n",
       "      <th>twap_type</th>\n",
       "    </tr>\n",
       "  </thead>\n",
       "  <tbody>\n",
       "    <tr>\n",
       "      <th>experiment_1</th>\n",
       "      <td>(-0.004683707612472715, -0.004221233110704355)</td>\n",
       "      <td>(-0.0041808016770968764, -0.0036381076293642714)</td>\n",
       "      <td>1000</td>\n",
       "      <td>public (exotic signature)</td>\n",
       "      <td>5_by_20%</td>\n",
       "    </tr>\n",
       "    <tr>\n",
       "      <th>experiment_2</th>\n",
       "      <td>(-0.006984422958405998, -0.006791228981249171)</td>\n",
       "      <td>(-0.006605873203681364, -0.0063988823189479295)</td>\n",
       "      <td>1000</td>\n",
       "      <td>toxic</td>\n",
       "      <td>5_by_20%</td>\n",
       "    </tr>\n",
       "    <tr>\n",
       "      <th>experiment_3</th>\n",
       "      <td>(-0.01043548306351103, -0.010234053338697867)</td>\n",
       "      <td>(-0.01049269882763582, -0.010276625929907302)</td>\n",
       "      <td>5000</td>\n",
       "      <td>toxic</td>\n",
       "      <td>5_by_20%</td>\n",
       "    </tr>\n",
       "    <tr>\n",
       "      <th>experiment_4</th>\n",
       "      <td>(-0.013820192032615848, -0.013611132640740913)</td>\n",
       "      <td>(-0.014077870877056631, -0.01385380768234541)</td>\n",
       "      <td>10000</td>\n",
       "      <td>toxic</td>\n",
       "      <td>5_by_20%</td>\n",
       "    </tr>\n",
       "    <tr>\n",
       "      <th>experiment_5</th>\n",
       "      <td>(-0.004772923320695867, -0.004413104241272259)</td>\n",
       "      <td>(-0.004033229354774254, -0.0034174735679043094)</td>\n",
       "      <td>1000</td>\n",
       "      <td>public</td>\n",
       "      <td>5_by_20%</td>\n",
       "    </tr>\n",
       "    <tr>\n",
       "      <th>experiment_6</th>\n",
       "      <td>(-0.007607739423328643, -0.00723363645532459)</td>\n",
       "      <td>(-0.0040332293547742214, -0.0034174735679042703)</td>\n",
       "      <td>5000</td>\n",
       "      <td>public</td>\n",
       "      <td>5_by_20%</td>\n",
       "    </tr>\n",
       "    <tr>\n",
       "      <th>experiment_7</th>\n",
       "      <td>(-0.010471026885389947, -0.01008155478312662)</td>\n",
       "      <td>(-0.0040332293547742214, -0.0034174735679042703)</td>\n",
       "      <td>10000</td>\n",
       "      <td>public</td>\n",
       "      <td>5_by_20%</td>\n",
       "    </tr>\n",
       "    <tr>\n",
       "      <th>experiment_8</th>\n",
       "      <td>(-0.004244541060911786, -0.003747537185481271)</td>\n",
       "      <td>(-0.004033229354774254, -0.0034174735679043094)</td>\n",
       "      <td>1000</td>\n",
       "      <td>public</td>\n",
       "      <td>10_by_10%</td>\n",
       "    </tr>\n",
       "    <tr>\n",
       "      <th>experiment_9</th>\n",
       "      <td>(-0.005897007803425511, -0.005395311841413703)</td>\n",
       "      <td>(-0.0040332293547742214, -0.0034174735679042703)</td>\n",
       "      <td>5000</td>\n",
       "      <td>public</td>\n",
       "      <td>10_by_10%</td>\n",
       "    </tr>\n",
       "    <tr>\n",
       "      <th>experiment_10</th>\n",
       "      <td>(-0.0075841477223623985, -0.007077912211045232)</td>\n",
       "      <td>(-0.0040332293547742214, -0.0034174735679042703)</td>\n",
       "      <td>10000</td>\n",
       "      <td>public</td>\n",
       "      <td>10_by_10%</td>\n",
       "    </tr>\n",
       "    <tr>\n",
       "      <th>experiment_11</th>\n",
       "      <td>(-0.01137695230550556, -0.011084870987193815)</td>\n",
       "      <td>(-0.014077870877056631, -0.01385380768234541)</td>\n",
       "      <td>10000</td>\n",
       "      <td>toxic</td>\n",
       "      <td>10_by_10%</td>\n",
       "    </tr>\n",
       "  </tbody>\n",
       "</table>\n",
       "</div>"
      ],
      "text/plain": [
       "                                                 twap_mean_pnl  \\\n",
       "experiment_1    (-0.004683707612472715, -0.004221233110704355)   \n",
       "experiment_2    (-0.006984422958405998, -0.006791228981249171)   \n",
       "experiment_3     (-0.01043548306351103, -0.010234053338697867)   \n",
       "experiment_4    (-0.013820192032615848, -0.013611132640740913)   \n",
       "experiment_5    (-0.004772923320695867, -0.004413104241272259)   \n",
       "experiment_6     (-0.007607739423328643, -0.00723363645532459)   \n",
       "experiment_7     (-0.010471026885389947, -0.01008155478312662)   \n",
       "experiment_8    (-0.004244541060911786, -0.003747537185481271)   \n",
       "experiment_9    (-0.005897007803425511, -0.005395311841413703)   \n",
       "experiment_10  (-0.0075841477223623985, -0.007077912211045232)   \n",
       "experiment_11    (-0.01137695230550556, -0.011084870987193815)   \n",
       "\n",
       "                                             signature_mean_pnl  lots_count  \\\n",
       "experiment_1   (-0.0041808016770968764, -0.0036381076293642714)        1000   \n",
       "experiment_2    (-0.006605873203681364, -0.0063988823189479295)        1000   \n",
       "experiment_3      (-0.01049269882763582, -0.010276625929907302)        5000   \n",
       "experiment_4      (-0.014077870877056631, -0.01385380768234541)       10000   \n",
       "experiment_5    (-0.004033229354774254, -0.0034174735679043094)        1000   \n",
       "experiment_6   (-0.0040332293547742214, -0.0034174735679042703)        5000   \n",
       "experiment_7   (-0.0040332293547742214, -0.0034174735679042703)       10000   \n",
       "experiment_8    (-0.004033229354774254, -0.0034174735679043094)        1000   \n",
       "experiment_9   (-0.0040332293547742214, -0.0034174735679042703)        5000   \n",
       "experiment_10  (-0.0040332293547742214, -0.0034174735679042703)       10000   \n",
       "experiment_11     (-0.014077870877056631, -0.01385380768234541)       10000   \n",
       "\n",
       "                             data_points  twap_type  \n",
       "experiment_1   public (exotic signature)   5_by_20%  \n",
       "experiment_2                       toxic   5_by_20%  \n",
       "experiment_3                       toxic   5_by_20%  \n",
       "experiment_4                       toxic   5_by_20%  \n",
       "experiment_5                      public   5_by_20%  \n",
       "experiment_6                      public   5_by_20%  \n",
       "experiment_7                      public   5_by_20%  \n",
       "experiment_8                      public  10_by_10%  \n",
       "experiment_9                      public  10_by_10%  \n",
       "experiment_10                     public  10_by_10%  \n",
       "experiment_11                      toxic  10_by_10%  "
      ]
     },
     "execution_count": 1147,
     "metadata": {},
     "output_type": "execute_result"
    }
   ],
   "source": [
    "norm_result"
   ]
  },
  {
   "cell_type": "markdown",
   "metadata": {},
   "source": [
    "toxic dataset example:"
   ]
  },
  {
   "cell_type": "code",
   "execution_count": 1154,
   "metadata": {},
   "outputs": [
    {
     "data": {
      "text/html": [
       "<div>\n",
       "<style scoped>\n",
       "    .dataframe tbody tr th:only-of-type {\n",
       "        vertical-align: middle;\n",
       "    }\n",
       "\n",
       "    .dataframe tbody tr th {\n",
       "        vertical-align: top;\n",
       "    }\n",
       "\n",
       "    .dataframe thead th {\n",
       "        text-align: right;\n",
       "    }\n",
       "</style>\n",
       "<table border=\"1\" class=\"dataframe\">\n",
       "  <thead>\n",
       "    <tr style=\"text-align: right;\">\n",
       "      <th></th>\n",
       "      <th>twap_mean_pnl</th>\n",
       "      <th>signature_mean_pnl</th>\n",
       "      <th>lots_count</th>\n",
       "      <th>data_points</th>\n",
       "      <th>twap_type</th>\n",
       "    </tr>\n",
       "  </thead>\n",
       "  <tbody>\n",
       "    <tr>\n",
       "      <th>experiment_2</th>\n",
       "      <td>(-0.006984422958405998, -0.006791228981249171)</td>\n",
       "      <td>(-0.006605873203681364, -0.0063988823189479295)</td>\n",
       "      <td>1000</td>\n",
       "      <td>toxic</td>\n",
       "      <td>5_by_20%</td>\n",
       "    </tr>\n",
       "    <tr>\n",
       "      <th>experiment_3</th>\n",
       "      <td>(-0.01043548306351103, -0.010234053338697867)</td>\n",
       "      <td>(-0.01049269882763582, -0.010276625929907302)</td>\n",
       "      <td>5000</td>\n",
       "      <td>toxic</td>\n",
       "      <td>5_by_20%</td>\n",
       "    </tr>\n",
       "    <tr>\n",
       "      <th>experiment_4</th>\n",
       "      <td>(-0.013820192032615848, -0.013611132640740913)</td>\n",
       "      <td>(-0.014077870877056631, -0.01385380768234541)</td>\n",
       "      <td>10000</td>\n",
       "      <td>toxic</td>\n",
       "      <td>5_by_20%</td>\n",
       "    </tr>\n",
       "  </tbody>\n",
       "</table>\n",
       "</div>"
      ],
      "text/plain": [
       "                                               twap_mean_pnl  \\\n",
       "experiment_2  (-0.006984422958405998, -0.006791228981249171)   \n",
       "experiment_3   (-0.01043548306351103, -0.010234053338697867)   \n",
       "experiment_4  (-0.013820192032615848, -0.013611132640740913)   \n",
       "\n",
       "                                           signature_mean_pnl  lots_count  \\\n",
       "experiment_2  (-0.006605873203681364, -0.0063988823189479295)        1000   \n",
       "experiment_3    (-0.01049269882763582, -0.010276625929907302)        5000   \n",
       "experiment_4    (-0.014077870877056631, -0.01385380768234541)       10000   \n",
       "\n",
       "             data_points twap_type  \n",
       "experiment_2       toxic  5_by_20%  \n",
       "experiment_3       toxic  5_by_20%  \n",
       "experiment_4       toxic  5_by_20%  "
      ]
     },
     "execution_count": 1154,
     "metadata": {},
     "output_type": "execute_result"
    }
   ],
   "source": [
    "norm_result[1:4]"
   ]
  },
  {
   "cell_type": "code",
   "execution_count": 1150,
   "metadata": {},
   "outputs": [
    {
     "data": {
      "text/plain": [
       "{'whiskers': [<matplotlib.lines.Line2D at 0x15e8ccfd640>,\n",
       "  <matplotlib.lines.Line2D at 0x15e8ccfdd90>,\n",
       "  <matplotlib.lines.Line2D at 0x15e8ba8de20>,\n",
       "  <matplotlib.lines.Line2D at 0x15e8b5949d0>,\n",
       "  <matplotlib.lines.Line2D at 0x15e8b974190>,\n",
       "  <matplotlib.lines.Line2D at 0x15e88ced490>],\n",
       " 'caps': [<matplotlib.lines.Line2D at 0x15e8bb77be0>,\n",
       "  <matplotlib.lines.Line2D at 0x15e8bb774f0>,\n",
       "  <matplotlib.lines.Line2D at 0x15e8b5941f0>,\n",
       "  <matplotlib.lines.Line2D at 0x15e8b85ffd0>,\n",
       "  <matplotlib.lines.Line2D at 0x15e8bb9ffa0>,\n",
       "  <matplotlib.lines.Line2D at 0x15e8d8f8460>],\n",
       " 'boxes': [<matplotlib.lines.Line2D at 0x15e8b559c40>,\n",
       "  <matplotlib.lines.Line2D at 0x15e8ba8d070>,\n",
       "  <matplotlib.lines.Line2D at 0x15e87ab9c40>],\n",
       " 'medians': [<matplotlib.lines.Line2D at 0x15e8b77ec70>,\n",
       "  <matplotlib.lines.Line2D at 0x15e86a899d0>,\n",
       "  <matplotlib.lines.Line2D at 0x15e8d8f86a0>],\n",
       " 'fliers': [<matplotlib.lines.Line2D at 0x15e8ba8d5b0>,\n",
       "  <matplotlib.lines.Line2D at 0x15e8b8767f0>,\n",
       "  <matplotlib.lines.Line2D at 0x15e8d926a60>],\n",
       " 'means': [<matplotlib.lines.Line2D at 0x15e87e86bb0>,\n",
       "  <matplotlib.lines.Line2D at 0x15e83e8f6d0>,\n",
       "  <matplotlib.lines.Line2D at 0x15e8d8f8880>]}"
      ]
     },
     "execution_count": 1150,
     "metadata": {},
     "output_type": "execute_result"
    },
    {
     "data": {
      "image/png": "[encoded data removed]",
      "text/plain": [
       "<Figure size 432x288 with 1 Axes>"
      ]
     },
     "metadata": {
      "needs_background": "light"
     },
     "output_type": "display_data"
    }
   ],
   "source": [
    "plt.boxplot(norm_result['twap_mean_pnl'][1:4], showmeans=True)\n",
    "plt.boxplot(norm_result['signature_mean_pnl'][1:4], showmeans=True,)"
   ]
  },
  {
   "cell_type": "markdown",
   "metadata": {},
   "source": [
    "public dataset:"
   ]
  },
  {
   "cell_type": "code",
   "execution_count": 1155,
   "metadata": {},
   "outputs": [
    {
     "data": {
      "text/html": [
       "<div>\n",
       "<style scoped>\n",
       "    .dataframe tbody tr th:only-of-type {\n",
       "        vertical-align: middle;\n",
       "    }\n",
       "\n",
       "    .dataframe tbody tr th {\n",
       "        vertical-align: top;\n",
       "    }\n",
       "\n",
       "    .dataframe thead th {\n",
       "        text-align: right;\n",
       "    }\n",
       "</style>\n",
       "<table border=\"1\" class=\"dataframe\">\n",
       "  <thead>\n",
       "    <tr style=\"text-align: right;\">\n",
       "      <th></th>\n",
       "      <th>twap_mean_pnl</th>\n",
       "      <th>signature_mean_pnl</th>\n",
       "      <th>lots_count</th>\n",
       "      <th>data_points</th>\n",
       "      <th>twap_type</th>\n",
       "    </tr>\n",
       "  </thead>\n",
       "  <tbody>\n",
       "    <tr>\n",
       "      <th>experiment_5</th>\n",
       "      <td>(-0.004772923320695867, -0.004413104241272259)</td>\n",
       "      <td>(-0.004033229354774254, -0.0034174735679043094)</td>\n",
       "      <td>1000</td>\n",
       "      <td>public</td>\n",
       "      <td>5_by_20%</td>\n",
       "    </tr>\n",
       "    <tr>\n",
       "      <th>experiment_6</th>\n",
       "      <td>(-0.007607739423328643, -0.00723363645532459)</td>\n",
       "      <td>(-0.0040332293547742214, -0.0034174735679042703)</td>\n",
       "      <td>5000</td>\n",
       "      <td>public</td>\n",
       "      <td>5_by_20%</td>\n",
       "    </tr>\n",
       "    <tr>\n",
       "      <th>experiment_7</th>\n",
       "      <td>(-0.010471026885389947, -0.01008155478312662)</td>\n",
       "      <td>(-0.0040332293547742214, -0.0034174735679042703)</td>\n",
       "      <td>10000</td>\n",
       "      <td>public</td>\n",
       "      <td>5_by_20%</td>\n",
       "    </tr>\n",
       "  </tbody>\n",
       "</table>\n",
       "</div>"
      ],
      "text/plain": [
       "                                               twap_mean_pnl  \\\n",
       "experiment_5  (-0.004772923320695867, -0.004413104241272259)   \n",
       "experiment_6   (-0.007607739423328643, -0.00723363645532459)   \n",
       "experiment_7   (-0.010471026885389947, -0.01008155478312662)   \n",
       "\n",
       "                                            signature_mean_pnl  lots_count  \\\n",
       "experiment_5   (-0.004033229354774254, -0.0034174735679043094)        1000   \n",
       "experiment_6  (-0.0040332293547742214, -0.0034174735679042703)        5000   \n",
       "experiment_7  (-0.0040332293547742214, -0.0034174735679042703)       10000   \n",
       "\n",
       "             data_points twap_type  \n",
       "experiment_5      public  5_by_20%  \n",
       "experiment_6      public  5_by_20%  \n",
       "experiment_7      public  5_by_20%  "
      ]
     },
     "execution_count": 1155,
     "metadata": {},
     "output_type": "execute_result"
    }
   ],
   "source": [
    "norm_result[4:7]"
   ]
  },
  {
   "cell_type": "code",
   "execution_count": 1153,
   "metadata": {},
   "outputs": [
    {
     "data": {
      "text/plain": [
       "{'whiskers': [<matplotlib.lines.Line2D at 0x15e8daa4130>,\n",
       "  <matplotlib.lines.Line2D at 0x15e8daa4490>,\n",
       "  <matplotlib.lines.Line2D at 0x15e8dab0ca0>,\n",
       "  <matplotlib.lines.Line2D at 0x15e8daba040>,\n",
       "  <matplotlib.lines.Line2D at 0x15e8dac7820>,\n",
       "  <matplotlib.lines.Line2D at 0x15e8dac7b80>],\n",
       " 'caps': [<matplotlib.lines.Line2D at 0x15e8daa47f0>,\n",
       "  <matplotlib.lines.Line2D at 0x15e8daa4b50>,\n",
       "  <matplotlib.lines.Line2D at 0x15e8daba3a0>,\n",
       "  <matplotlib.lines.Line2D at 0x15e8daba700>,\n",
       "  <matplotlib.lines.Line2D at 0x15e8dac7ee0>,\n",
       "  <matplotlib.lines.Line2D at 0x15e8dad4280>],\n",
       " 'boxes': [<matplotlib.lines.Line2D at 0x15e8da9ad90>,\n",
       "  <matplotlib.lines.Line2D at 0x15e8dab0940>,\n",
       "  <matplotlib.lines.Line2D at 0x15e8dac74c0>],\n",
       " 'medians': [<matplotlib.lines.Line2D at 0x15e8daa4eb0>,\n",
       "  <matplotlib.lines.Line2D at 0x15e8dabaa60>,\n",
       "  <matplotlib.lines.Line2D at 0x15e8dad45e0>],\n",
       " 'fliers': [<matplotlib.lines.Line2D at 0x15e8dab05b0>,\n",
       "  <matplotlib.lines.Line2D at 0x15e8dac7160>,\n",
       "  <matplotlib.lines.Line2D at 0x15e8dad4ca0>],\n",
       " 'means': [<matplotlib.lines.Line2D at 0x15e8dab0250>,\n",
       "  <matplotlib.lines.Line2D at 0x15e8dabadc0>,\n",
       "  <matplotlib.lines.Line2D at 0x15e8dad4940>]}"
      ]
     },
     "execution_count": 1153,
     "metadata": {},
     "output_type": "execute_result"
    },
    {
     "data": {
      "image/png": "[encoded data removed]",
      "text/plain": [
       "<Figure size 432x288 with 1 Axes>"
      ]
     },
     "metadata": {
      "needs_background": "light"
     },
     "output_type": "display_data"
    }
   ],
   "source": [
    "plt.boxplot(norm_result['twap_mean_pnl'][4:7], showmeans=True)\n",
    "plt.boxplot(norm_result['signature_mean_pnl'][4:7], showmeans=True)"
   ]
  },
  {
   "cell_type": "markdown",
   "metadata": {},
   "source": [
    "harder conditions - TWAP uses more steps (10 steps) to hedge:"
   ]
  },
  {
   "cell_type": "code",
   "execution_count": 1156,
   "metadata": {},
   "outputs": [
    {
     "data": {
      "text/html": [
       "<div>\n",
       "<style scoped>\n",
       "    .dataframe tbody tr th:only-of-type {\n",
       "        vertical-align: middle;\n",
       "    }\n",
       "\n",
       "    .dataframe tbody tr th {\n",
       "        vertical-align: top;\n",
       "    }\n",
       "\n",
       "    .dataframe thead th {\n",
       "        text-align: right;\n",
       "    }\n",
       "</style>\n",
       "<table border=\"1\" class=\"dataframe\">\n",
       "  <thead>\n",
       "    <tr style=\"text-align: right;\">\n",
       "      <th></th>\n",
       "      <th>twap_mean_pnl</th>\n",
       "      <th>signature_mean_pnl</th>\n",
       "      <th>lots_count</th>\n",
       "      <th>data_points</th>\n",
       "      <th>twap_type</th>\n",
       "    </tr>\n",
       "  </thead>\n",
       "  <tbody>\n",
       "    <tr>\n",
       "      <th>experiment_8</th>\n",
       "      <td>(-0.004244541060911786, -0.003747537185481271)</td>\n",
       "      <td>(-0.004033229354774254, -0.0034174735679043094)</td>\n",
       "      <td>1000</td>\n",
       "      <td>public</td>\n",
       "      <td>10_by_10%</td>\n",
       "    </tr>\n",
       "    <tr>\n",
       "      <th>experiment_9</th>\n",
       "      <td>(-0.005897007803425511, -0.005395311841413703)</td>\n",
       "      <td>(-0.0040332293547742214, -0.0034174735679042703)</td>\n",
       "      <td>5000</td>\n",
       "      <td>public</td>\n",
       "      <td>10_by_10%</td>\n",
       "    </tr>\n",
       "    <tr>\n",
       "      <th>experiment_10</th>\n",
       "      <td>(-0.0075841477223623985, -0.007077912211045232)</td>\n",
       "      <td>(-0.0040332293547742214, -0.0034174735679042703)</td>\n",
       "      <td>10000</td>\n",
       "      <td>public</td>\n",
       "      <td>10_by_10%</td>\n",
       "    </tr>\n",
       "  </tbody>\n",
       "</table>\n",
       "</div>"
      ],
      "text/plain": [
       "                                                 twap_mean_pnl  \\\n",
       "experiment_8    (-0.004244541060911786, -0.003747537185481271)   \n",
       "experiment_9    (-0.005897007803425511, -0.005395311841413703)   \n",
       "experiment_10  (-0.0075841477223623985, -0.007077912211045232)   \n",
       "\n",
       "                                             signature_mean_pnl  lots_count  \\\n",
       "experiment_8    (-0.004033229354774254, -0.0034174735679043094)        1000   \n",
       "experiment_9   (-0.0040332293547742214, -0.0034174735679042703)        5000   \n",
       "experiment_10  (-0.0040332293547742214, -0.0034174735679042703)       10000   \n",
       "\n",
       "              data_points  twap_type  \n",
       "experiment_8       public  10_by_10%  \n",
       "experiment_9       public  10_by_10%  \n",
       "experiment_10      public  10_by_10%  "
      ]
     },
     "execution_count": 1156,
     "metadata": {},
     "output_type": "execute_result"
    }
   ],
   "source": [
    "norm_result[7:10]"
   ]
  },
  {
   "cell_type": "code",
   "execution_count": 1157,
   "metadata": {},
   "outputs": [
    {
     "data": {
      "text/plain": [
       "{'whiskers': [<matplotlib.lines.Line2D at 0x15e8db80b50>,\n",
       "  <matplotlib.lines.Line2D at 0x15e8db80eb0>,\n",
       "  <matplotlib.lines.Line2D at 0x15e8db996d0>,\n",
       "  <matplotlib.lines.Line2D at 0x15e8db99a30>,\n",
       "  <matplotlib.lines.Line2D at 0x15e8dbb0250>,\n",
       "  <matplotlib.lines.Line2D at 0x15e8dbb0610>],\n",
       " 'caps': [<matplotlib.lines.Line2D at 0x15e8db8c250>,\n",
       "  <matplotlib.lines.Line2D at 0x15e8db8c5b0>,\n",
       "  <matplotlib.lines.Line2D at 0x15e8db99d90>,\n",
       "  <matplotlib.lines.Line2D at 0x15e8dba3130>,\n",
       "  <matplotlib.lines.Line2D at 0x15e8dbb0970>,\n",
       "  <matplotlib.lines.Line2D at 0x15e8dbb0cd0>],\n",
       " 'boxes': [<matplotlib.lines.Line2D at 0x15e8db807f0>,\n",
       "  <matplotlib.lines.Line2D at 0x15e8db99370>,\n",
       "  <matplotlib.lines.Line2D at 0x15e8dba3eb0>],\n",
       " 'medians': [<matplotlib.lines.Line2D at 0x15e8db8c910>,\n",
       "  <matplotlib.lines.Line2D at 0x15e8dba3490>,\n",
       "  <matplotlib.lines.Line2D at 0x15e8dbbd070>],\n",
       " 'fliers': [<matplotlib.lines.Line2D at 0x15e8db8cfd0>,\n",
       "  <matplotlib.lines.Line2D at 0x15e8dba3b50>,\n",
       "  <matplotlib.lines.Line2D at 0x15e8dbbd730>],\n",
       " 'means': [<matplotlib.lines.Line2D at 0x15e8db8cc70>,\n",
       "  <matplotlib.lines.Line2D at 0x15e8dba37f0>,\n",
       "  <matplotlib.lines.Line2D at 0x15e8dbbd3d0>]}"
      ]
     },
     "execution_count": 1157,
     "metadata": {},
     "output_type": "execute_result"
    },
    {
     "data": {
      "image/png": "[encoded data removed]",
      "text/plain": [
       "<Figure size 432x288 with 1 Axes>"
      ]
     },
     "metadata": {
      "needs_background": "light"
     },
     "output_type": "display_data"
    }
   ],
   "source": [
    "plt.boxplot(norm_result['twap_mean_pnl'][7:10], showmeans=True)\n",
    "plt.boxplot(norm_result['signature_mean_pnl'][7:10], showmeans=True)"
   ]
  }
 ],
 "metadata": {
  "kernelspec": {
   "display_name": "Python 3",
   "language": "python",
   "name": "python3"
  },
  "language_info": {
   "codemirror_mode": {
    "name": "ipython",
    "version": 3
   },
   "file_extension": ".py",
   "mimetype": "text/x-python",
   "name": "python",
   "nbconvert_exporter": "python",
   "pygments_lexer": "ipython3",
   "version": "3.8.5"
  }
 },
 "nbformat": 4,
 "nbformat_minor": 4
}
